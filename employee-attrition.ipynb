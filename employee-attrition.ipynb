{
    "cells": [
        {
            "cell_type": "markdown",
            "metadata": {},
            "source": "# Data Science pipeline in action to solve employee attrition problem"
        },
        {
            "cell_type": "markdown",
            "metadata": {},
            "source": "This code pattern is a high level overview of what to expect in a data science pipeline and tools that can be used along the way. It starts from framing business question to deploying the model. The pipeline is demonstrated through the employee attrition problem. \n\nEmployees are the backbone of the organization. Organization's performance is heavily based on the quality of the employees. Challenges that an organization has to face due employee attrition are:\n\n1. Expensive in terms of both money and time to train new employees.\n2. Loss of experienced employees\n3. Impact in productivity\n4. Impact profit\n\nBefore getting our hands dirty with the data, first step is to frame the business question. Having clarity on below questions is very crucial because the solution that is being developed will make sense only if we have well stated problem.\n\n\u201cGood data science is more about the questions you pose of the data rather than data munging and analysis\u201d\u200a\u2014\u200aRiley Newman\n\n### Business questions to brainstorm:\n\n1. What factors are contributing more to employee attrition?\n2. What type of measures should the company take in order to retain their employees?\n3. What business value does the model bring?\n4. Will the model save lots of money?\n5. Which business unit faces the attrition problem?\n"
        },
        {
            "cell_type": "markdown",
            "metadata": {},
            "source": "### Data Science Process Pipeline "
        },
        {
            "cell_type": "markdown",
            "metadata": {},
            "source": "<img src=\"https://github.com/IBM/employee-attrition-aif360/raw/master/doc/source/images/pipeline.png\" width=\"800\" />"
        },
        {
            "cell_type": "markdown",
            "metadata": {},
            "source": "Above image explains the steps involved in solving a data science problem. It starts from data extraction to result interpretation. Once the model produces acceptable performance, it can be deployed in real-time. "
        },
        {
            "cell_type": "markdown",
            "metadata": {},
            "source": "### Let's solve employee attrition problem..."
        },
        {
            "cell_type": "code",
            "execution_count": 1,
            "metadata": {},
            "outputs": [
                {
                    "name": "stdout",
                    "output_type": "stream",
                    "text": "Collecting pygal\n\u001b[?25l  Downloading https://files.pythonhosted.org/packages/5f/b7/201c9254ac0d2b8ffa3bb2d528d23a4130876d9ba90bc28e99633f323f17/pygal-2.4.0-py2.py3-none-any.whl (127kB)\n\u001b[K     |\u2588\u2588\u2588\u2588\u2588\u2588\u2588\u2588\u2588\u2588\u2588\u2588\u2588\u2588\u2588\u2588\u2588\u2588\u2588\u2588\u2588\u2588\u2588\u2588\u2588\u2588\u2588\u2588\u2588\u2588\u2588\u2588| 133kB 15.5MB/s eta 0:00:01\n\u001b[?25hInstalling collected packages: pygal\nSuccessfully installed pygal-2.4.0\n"
                }
            ],
            "source": "!pip install pygal"
        },
        {
            "cell_type": "code",
            "execution_count": 2,
            "metadata": {},
            "outputs": [
                {
                    "name": "stdout",
                    "output_type": "stream",
                    "text": "Collecting cufflinks\n\u001b[?25l  Downloading https://files.pythonhosted.org/packages/e3/79/1b8673b2723e02919307d558896dbcedcb46807c4e29acd25cfe43a36c8b/cufflinks-0.17.0.tar.gz (81kB)\n\u001b[K     |\u2588\u2588\u2588\u2588\u2588\u2588\u2588\u2588\u2588\u2588\u2588\u2588\u2588\u2588\u2588\u2588\u2588\u2588\u2588\u2588\u2588\u2588\u2588\u2588\u2588\u2588\u2588\u2588\u2588\u2588\u2588\u2588| 81kB 16.4MB/s eta 0:00:01\n\u001b[?25hRequirement already satisfied: numpy>=1.9.2 in /opt/conda/envs/Python36/lib/python3.6/site-packages (from cufflinks) (1.15.4)\nRequirement already satisfied: pandas>=0.19.2 in /opt/conda/envs/Python36/lib/python3.6/site-packages (from cufflinks) (0.24.1)\nCollecting plotly>=4.1.1 (from cufflinks)\n\u001b[?25l  Downloading https://files.pythonhosted.org/packages/f7/05/3c32c6bc85acbd30a18fbc3ba732fed5e48e5f8fd60d2a148877970f4a61/plotly-4.2.1-py2.py3-none-any.whl (7.2MB)\n\u001b[K     |\u2588\u2588\u2588\u2588\u2588\u2588\u2588\u2588\u2588\u2588\u2588\u2588\u2588\u2588\u2588\u2588\u2588\u2588\u2588\u2588\u2588\u2588\u2588\u2588\u2588\u2588\u2588\u2588\u2588\u2588\u2588\u2588| 7.2MB 16.8MB/s eta 0:00:01\n\u001b[?25hCollecting chart-studio>=1.0.0 (from cufflinks)\n\u001b[?25l  Downloading https://files.pythonhosted.org/packages/b9/3f/d2f3f506ba1aaf109f549f8b01d1483cd3e324c5ebe6b206acee66efdf46/chart_studio-1.0.0-py3-none-any.whl (76kB)\n\u001b[K     |\u2588\u2588\u2588\u2588\u2588\u2588\u2588\u2588\u2588\u2588\u2588\u2588\u2588\u2588\u2588\u2588\u2588\u2588\u2588\u2588\u2588\u2588\u2588\u2588\u2588\u2588\u2588\u2588\u2588\u2588\u2588\u2588| 81kB 28.5MB/s eta 0:00:01\n\u001b[?25hRequirement already satisfied: six>=1.9.0 in /opt/conda/envs/Python36/lib/python3.6/site-packages (from cufflinks) (1.12.0)\nCollecting colorlover>=0.2.1 (from cufflinks)\n  Downloading https://files.pythonhosted.org/packages/9a/53/f696e4480b1d1de3b1523991dea71cf417c8b19fe70c704da164f3f90972/colorlover-0.3.0-py3-none-any.whl\nRequirement already satisfied: setuptools>=34.4.1 in /opt/conda/envs/Python36/lib/python3.6/site-packages (from cufflinks) (40.8.0)\nRequirement already satisfied: ipython>=5.3.0 in /opt/conda/envs/Python36/lib/python3.6/site-packages (from cufflinks) (7.2.0)\nRequirement already satisfied: ipywidgets>=7.0.0 in /opt/conda/envs/Python36/lib/python3.6/site-packages (from cufflinks) (7.4.2)\nRequirement already satisfied: pytz>=2011k in /opt/conda/envs/Python36/lib/python3.6/site-packages (from pandas>=0.19.2->cufflinks) (2018.9)\nRequirement already satisfied: python-dateutil>=2.5.0 in /opt/conda/envs/Python36/lib/python3.6/site-packages (from pandas>=0.19.2->cufflinks) (2.7.5)\nRequirement already satisfied: retrying>=1.3.3 in /opt/conda/envs/Python36/lib/python3.6/site-packages (from plotly>=4.1.1->cufflinks) (1.3.3)\nRequirement already satisfied: requests in /opt/conda/envs/Python36/lib/python3.6/site-packages (from chart-studio>=1.0.0->cufflinks) (2.21.0)\nRequirement already satisfied: pickleshare in /opt/conda/envs/Python36/lib/python3.6/site-packages (from ipython>=5.3.0->cufflinks) (0.7.5)\nRequirement already satisfied: jedi>=0.10 in /opt/conda/envs/Python36/lib/python3.6/site-packages (from ipython>=5.3.0->cufflinks) (0.13.2)\nRequirement already satisfied: traitlets>=4.2 in /opt/conda/envs/Python36/lib/python3.6/site-packages (from ipython>=5.3.0->cufflinks) (4.3.2)\nRequirement already satisfied: pexpect; sys_platform != \"win32\" in /opt/conda/envs/Python36/lib/python3.6/site-packages (from ipython>=5.3.0->cufflinks) (4.6.0)\nRequirement already satisfied: decorator in /opt/conda/envs/Python36/lib/python3.6/site-packages (from ipython>=5.3.0->cufflinks) (4.3.2)\nRequirement already satisfied: pygments in /opt/conda/envs/Python36/lib/python3.6/site-packages (from ipython>=5.3.0->cufflinks) (2.3.1)\nRequirement already satisfied: backcall in /opt/conda/envs/Python36/lib/python3.6/site-packages (from ipython>=5.3.0->cufflinks) (0.1.0)\nRequirement already satisfied: prompt-toolkit<2.1.0,>=2.0.0 in /opt/conda/envs/Python36/lib/python3.6/site-packages (from ipython>=5.3.0->cufflinks) (2.0.8)\nRequirement already satisfied: nbformat>=4.2.0 in /opt/conda/envs/Python36/lib/python3.6/site-packages (from ipywidgets>=7.0.0->cufflinks) (4.4.0)\nRequirement already satisfied: ipykernel>=4.5.1 in /opt/conda/envs/Python36/lib/python3.6/site-packages (from ipywidgets>=7.0.0->cufflinks) (5.1.0)\nRequirement already satisfied: widgetsnbextension~=3.4.0 in /opt/conda/envs/Python36/lib/python3.6/site-packages (from ipywidgets>=7.0.0->cufflinks) (3.4.2)\nRequirement already satisfied: urllib3<1.25,>=1.21.1 in /opt/conda/envs/Python36/lib/python3.6/site-packages (from requests->chart-studio>=1.0.0->cufflinks) (1.24.1)\nRequirement already satisfied: certifi>=2017.4.17 in /opt/conda/envs/Python36/lib/python3.6/site-packages (from requests->chart-studio>=1.0.0->cufflinks) (2019.9.11)\nRequirement already satisfied: idna<2.9,>=2.5 in /opt/conda/envs/Python36/lib/python3.6/site-packages (from requests->chart-studio>=1.0.0->cufflinks) (2.8)\nRequirement already satisfied: chardet<3.1.0,>=3.0.2 in /opt/conda/envs/Python36/lib/python3.6/site-packages (from requests->chart-studio>=1.0.0->cufflinks) (3.0.4)\nRequirement already satisfied: parso>=0.3.0 in /opt/conda/envs/Python36/lib/python3.6/site-packages (from jedi>=0.10->ipython>=5.3.0->cufflinks) (0.3.2)\nRequirement already satisfied: ipython-genutils in /opt/conda/envs/Python36/lib/python3.6/site-packages (from traitlets>=4.2->ipython>=5.3.0->cufflinks) (0.2.0)\nRequirement already satisfied: ptyprocess>=0.5 in /opt/conda/envs/Python36/lib/python3.6/site-packages (from pexpect; sys_platform != \"win32\"->ipython>=5.3.0->cufflinks) (0.6.0)\nRequirement already satisfied: wcwidth in /opt/conda/envs/Python36/lib/python3.6/site-packages (from prompt-toolkit<2.1.0,>=2.0.0->ipython>=5.3.0->cufflinks) (0.1.7)\nRequirement already satisfied: jsonschema!=2.5.0,>=2.4 in /opt/conda/envs/Python36/lib/python3.6/site-packages (from nbformat>=4.2.0->ipywidgets>=7.0.0->cufflinks) (2.6.0)\nRequirement already satisfied: jupyter-core in /opt/conda/envs/Python36/lib/python3.6/site-packages (from nbformat>=4.2.0->ipywidgets>=7.0.0->cufflinks) (4.4.0)\nRequirement already satisfied: tornado>=4.2 in /opt/conda/envs/Python36/lib/python3.6/site-packages (from ipykernel>=4.5.1->ipywidgets>=7.0.0->cufflinks) (5.1.1)\nRequirement already satisfied: jupyter-client in /opt/conda/envs/Python36/lib/python3.6/site-packages (from ipykernel>=4.5.1->ipywidgets>=7.0.0->cufflinks) (5.2.4)\nRequirement already satisfied: notebook>=4.4.1 in /opt/conda/envs/Python36/lib/python3.6/site-packages (from widgetsnbextension~=3.4.0->ipywidgets>=7.0.0->cufflinks) (5.7.8)\nRequirement already satisfied: pyzmq>=13 in /opt/conda/envs/Python36/lib/python3.6/site-packages (from jupyter-client->ipykernel>=4.5.1->ipywidgets>=7.0.0->cufflinks) (17.1.2)\nRequirement already satisfied: terminado>=0.8.1 in /opt/conda/envs/Python36/lib/python3.6/site-packages (from notebook>=4.4.1->widgetsnbextension~=3.4.0->ipywidgets>=7.0.0->cufflinks) (0.8.1)\nRequirement already satisfied: nbconvert in /opt/conda/envs/Python36/lib/python3.6/site-packages (from notebook>=4.4.1->widgetsnbextension~=3.4.0->ipywidgets>=7.0.0->cufflinks) (5.4.0)\nRequirement already satisfied: Send2Trash in /opt/conda/envs/Python36/lib/python3.6/site-packages (from notebook>=4.4.1->widgetsnbextension~=3.4.0->ipywidgets>=7.0.0->cufflinks) (1.5.0)\nRequirement already satisfied: jinja2 in /opt/conda/envs/Python36/lib/python3.6/site-packages (from notebook>=4.4.1->widgetsnbextension~=3.4.0->ipywidgets>=7.0.0->cufflinks) (2.10)\nRequirement already satisfied: prometheus-client in /opt/conda/envs/Python36/lib/python3.6/site-packages (from notebook>=4.4.1->widgetsnbextension~=3.4.0->ipywidgets>=7.0.0->cufflinks) (0.5.0)\nRequirement already satisfied: mistune>=0.8.1 in /opt/conda/envs/Python36/lib/python3.6/site-packages (from nbconvert->notebook>=4.4.1->widgetsnbextension~=3.4.0->ipywidgets>=7.0.0->cufflinks) (0.8.4)\nRequirement already satisfied: entrypoints>=0.2.2 in /opt/conda/envs/Python36/lib/python3.6/site-packages (from nbconvert->notebook>=4.4.1->widgetsnbextension~=3.4.0->ipywidgets>=7.0.0->cufflinks) (0.3)\nRequirement already satisfied: bleach in /opt/conda/envs/Python36/lib/python3.6/site-packages (from nbconvert->notebook>=4.4.1->widgetsnbextension~=3.4.0->ipywidgets>=7.0.0->cufflinks) (3.1.0)\nRequirement already satisfied: pandocfilters>=1.4.1 in /opt/conda/envs/Python36/lib/python3.6/site-packages (from nbconvert->notebook>=4.4.1->widgetsnbextension~=3.4.0->ipywidgets>=7.0.0->cufflinks) (1.4.2)\nRequirement already satisfied: testpath in /opt/conda/envs/Python36/lib/python3.6/site-packages (from nbconvert->notebook>=4.4.1->widgetsnbextension~=3.4.0->ipywidgets>=7.0.0->cufflinks) (0.4.2)\nRequirement already satisfied: defusedxml in /opt/conda/envs/Python36/lib/python3.6/site-packages (from nbconvert->notebook>=4.4.1->widgetsnbextension~=3.4.0->ipywidgets>=7.0.0->cufflinks) (0.5.0)\nRequirement already satisfied: MarkupSafe>=0.23 in /opt/conda/envs/Python36/lib/python3.6/site-packages (from jinja2->notebook>=4.4.1->widgetsnbextension~=3.4.0->ipywidgets>=7.0.0->cufflinks) (1.1.0)\nRequirement already satisfied: webencodings in /opt/conda/envs/Python36/lib/python3.6/site-packages (from bleach->nbconvert->notebook>=4.4.1->widgetsnbextension~=3.4.0->ipywidgets>=7.0.0->cufflinks) (0.5.1)\nBuilding wheels for collected packages: cufflinks\n  Building wheel for cufflinks (setup.py) ... \u001b[?25ldone\n\u001b[?25h  Stored in directory: /home/dsxuser/.cache/pip/wheels/44/d7/dc/e830ab00bc2dd3b2731295103baa070f8cbdda8891f71a7a8d\nSuccessfully built cufflinks\nInstalling collected packages: plotly, chart-studio, colorlover, cufflinks\n  Found existing installation: plotly 3.6.1\n    Uninstalling plotly-3.6.1:\n      Successfully uninstalled plotly-3.6.1\nSuccessfully installed chart-studio-1.0.0 colorlover-0.3.0 cufflinks-0.17.0 plotly-4.2.1\n"
                }
            ],
            "source": "!pip install cufflinks"
        },
        {
            "cell_type": "code",
            "execution_count": 3,
            "metadata": {},
            "outputs": [
                {
                    "name": "stdout",
                    "output_type": "stream",
                    "text": "Collecting aif360\n\u001b[?25l  Downloading https://files.pythonhosted.org/packages/99/54/09e0674fc1370072385d64e0282eff0857e3d78c3abd7d6471200cf7a00d/aif360-0.2.2-py2.py3-none-any.whl (56.4MB)\n\u001b[K     |\u2588\u2588\u2588\u2588\u2588\u2588\u2588\u2588\u2588\u2588\u2588\u2588\u2588\u2588\u2588\u2588\u2588\u2588\u2588\u2588\u2588\u2588\u2588\u2588\u2588\u2588\u2588\u2588\u2588\u2588\u2588\u2588| 56.4MB 56.2MB/s eta 0:00:01\n\u001b[?25hRequirement already satisfied: scikit-learn in /opt/conda/envs/Python36/lib/python3.6/site-packages (from aif360) (0.20.3)\nCollecting numpy>=1.16 (from aif360)\n\u001b[?25l  Downloading https://files.pythonhosted.org/packages/d2/ab/43e678759326f728de861edbef34b8e2ad1b1490505f20e0d1f0716c3bf4/numpy-1.17.4-cp36-cp36m-manylinux1_x86_64.whl (20.0MB)\n\u001b[K     |\u2588\u2588\u2588\u2588\u2588\u2588\u2588\u2588\u2588\u2588\u2588\u2588\u2588\u2588\u2588\u2588\u2588\u2588\u2588\u2588\u2588\u2588\u2588\u2588\u2588\u2588\u2588\u2588\u2588\u2588\u2588\u2588| 20.0MB 40.5MB/s eta 0:00:01\n\u001b[?25hRequirement already satisfied: pandas>=0.23.3 in /opt/conda/envs/Python36/lib/python3.6/site-packages (from aif360) (0.24.1)\nRequirement already satisfied: scipy in /opt/conda/envs/Python36/lib/python3.6/site-packages (from aif360) (1.2.0)\nRequirement already satisfied: pytz>=2011k in /opt/conda/envs/Python36/lib/python3.6/site-packages (from pandas>=0.23.3->aif360) (2018.9)\nRequirement already satisfied: python-dateutil>=2.5.0 in /opt/conda/envs/Python36/lib/python3.6/site-packages (from pandas>=0.23.3->aif360) (2.7.5)\nRequirement already satisfied: six>=1.5 in /opt/conda/envs/Python36/lib/python3.6/site-packages (from python-dateutil>=2.5.0->pandas>=0.23.3->aif360) (1.12.0)\n\u001b[31mERROR: tensorflow 1.13.1 requires tensorboard<1.14.0,>=1.13.0, which is not installed.\u001b[0m\n\u001b[31mERROR: autoai-libs 1.10.3 has requirement pandas>=0.24.2, but you'll have pandas 0.24.1 which is incompatible.\u001b[0m\nInstalling collected packages: numpy, aif360\n  Found existing installation: numpy 1.15.4\n    Uninstalling numpy-1.15.4:\n      Successfully uninstalled numpy-1.15.4\nSuccessfully installed aif360-0.2.2 numpy-1.17.4\n"
                }
            ],
            "source": "!pip install aif360"
        },
        {
            "cell_type": "code",
            "execution_count": 5,
            "metadata": {},
            "outputs": [],
            "source": "#import all required libraries\n#Data Analysis\nimport pandas as pd\nimport numpy as np\nimport json\n\n#Visulaization libraries\nfrom bokeh.plotting import figure, show, output_file\nfrom bokeh.io import output_notebook\nfrom bokeh.models import ColumnDataSource, LabelSet\nfrom bokeh.palettes import Viridis5\nimport seaborn as sns\nimport matplotlib.pyplot as plt\nimport pygal\nimport cufflinks as cf\nfrom plotly.offline import download_plotlyjs, init_notebook_mode, plot, iplot\n\n#model developemnt libraries\nfrom sklearn import preprocessing\nfrom sklearn.ensemble import AdaBoostClassifier\nfrom sklearn import metrics\nfrom sklearn.pipeline import Pipeline\nfrom sklearn.feature_selection import mutual_info_classif\nfrom sklearn.feature_selection import chi2\n#from sklearn.cross_validation import train_test_split\nfrom sklearn.model_selection import train_test_split\nfrom sklearn.metrics import classification_report\n\n#Bias Mitigation libraries\nfrom aif360.metrics import BinaryLabelDatasetMetric\nfrom aif360.datasets import BinaryLabelDataset\nfrom IPython.display import Markdown, display\nfrom aif360.algorithms.preprocessing.reweighing import Reweighing\n\n#\nfrom IPython.display import SVG, display\nimport warnings\nwarnings.filterwarnings(\"ignore\")\n#deployment library\nfrom watson_machine_learning_client import WatsonMachineLearningAPIClient"
        },
        {
            "cell_type": "markdown",
            "metadata": {},
            "source": "## 1.  Data Collection"
        },
        {
            "cell_type": "markdown",
            "metadata": {},
            "source": "- Source: Kaggle\n- Data: IBM HR Analytics dataset (synthetically generated)\n  https://www.kaggle.com/pavansubhasht/ibm-hr-analytics-attrition-dataset/home\n- License: \n    *  Database: https://opendatacommons.org/licenses/odbl/1.0/\n    *  Contents: https://opendatacommons.org/licenses/dbcl/1.0/"
        },
        {
            "cell_type": "markdown",
            "metadata": {},
            "source": "#### Rule of thumb\n* Know all the available dataset for the problem (database/ internet/ third party etc) . Dataset must be reliable and   authentic.\n* Extract data in a format that can be used\n* Required Skills for data extraction in general(mostly used and not specific to the pattern):\n   - Distributed Storage: Hadoop, Apache Spark.\n   - Database Management: MySQL, PostgresSQL, MongoDB.\n   - Know to querying Relational Databases and retrieve unstructured Data like text, videos, audio files, documents."
        },
        {
            "cell_type": "markdown",
            "metadata": {},
            "source": "#### Download dataset "
        },
        {
            "cell_type": "code",
            "execution_count": 6,
            "metadata": {},
            "outputs": [
                {
                    "name": "stdout",
                    "output_type": "stream",
                    "text": "--2019-11-11 04:50:40--  https://github.com/IBM/employee-attrition-aif360/raw/master/data/emp_attrition.csv\nResolving github.com (github.com)... 140.82.114.4\nConnecting to github.com (github.com)|140.82.114.4|:443... connected.\nHTTP request sent, awaiting response... 302 Found\nLocation: https://raw.githubusercontent.com/IBM/employee-attrition-aif360/master/data/emp_attrition.csv [following]\n--2019-11-11 04:50:41--  https://raw.githubusercontent.com/IBM/employee-attrition-aif360/master/data/emp_attrition.csv\nResolving raw.githubusercontent.com (raw.githubusercontent.com)... 151.101.48.133\nConnecting to raw.githubusercontent.com (raw.githubusercontent.com)|151.101.48.133|:443... connected.\nHTTP request sent, awaiting response... 200 OK\nLength: 227977 (223K) [text/plain]\nSaving to: \u2018emp_attrition.csv\u2019\n\n100%[======================================>] 227,977     --.-K/s   in 0.02s   \n\n2019-11-11 04:50:41 (11.9 MB/s) - \u2018emp_attrition.csv\u2019 saved [227977/227977]\n\n"
                }
            ],
            "source": "!wget https://github.com/IBM/employee-attrition-aif360/raw/master/data/emp_attrition.csv --output-document=emp_attrition.csv"
        },
        {
            "cell_type": "code",
            "execution_count": 7,
            "metadata": {},
            "outputs": [
                {
                    "data": {
                        "text/html": "<div>\n<style scoped>\n    .dataframe tbody tr th:only-of-type {\n        vertical-align: middle;\n    }\n\n    .dataframe tbody tr th {\n        vertical-align: top;\n    }\n\n    .dataframe thead th {\n        text-align: right;\n    }\n</style>\n<table border=\"1\" class=\"dataframe\">\n  <thead>\n    <tr style=\"text-align: right;\">\n      <th></th>\n      <th>Age</th>\n      <th>Attrition</th>\n      <th>BusinessTravel</th>\n      <th>DailyRate</th>\n      <th>Department</th>\n      <th>DistanceFromHome</th>\n      <th>Education</th>\n      <th>EducationField</th>\n      <th>EmployeeCount</th>\n      <th>EmployeeNumber</th>\n      <th>...</th>\n      <th>RelationshipSatisfaction</th>\n      <th>StandardHours</th>\n      <th>StockOptionLevel</th>\n      <th>TotalWorkingYears</th>\n      <th>TrainingTimesLastYear</th>\n      <th>WorkLifeBalance</th>\n      <th>YearsAtCompany</th>\n      <th>YearsInCurrentRole</th>\n      <th>YearsSinceLastPromotion</th>\n      <th>YearsWithCurrManager</th>\n    </tr>\n  </thead>\n  <tbody>\n    <tr>\n      <th>0</th>\n      <td>41</td>\n      <td>Yes</td>\n      <td>Travel_Rarely</td>\n      <td>1102</td>\n      <td>Sales</td>\n      <td>1</td>\n      <td>2</td>\n      <td>Life Sciences</td>\n      <td>1</td>\n      <td>1</td>\n      <td>...</td>\n      <td>1</td>\n      <td>80</td>\n      <td>0</td>\n      <td>8</td>\n      <td>0</td>\n      <td>1</td>\n      <td>6</td>\n      <td>4</td>\n      <td>0</td>\n      <td>5</td>\n    </tr>\n    <tr>\n      <th>1</th>\n      <td>49</td>\n      <td>No</td>\n      <td>Travel_Frequently</td>\n      <td>279</td>\n      <td>Research &amp; Development</td>\n      <td>8</td>\n      <td>1</td>\n      <td>Life Sciences</td>\n      <td>1</td>\n      <td>2</td>\n      <td>...</td>\n      <td>4</td>\n      <td>80</td>\n      <td>1</td>\n      <td>10</td>\n      <td>3</td>\n      <td>3</td>\n      <td>10</td>\n      <td>7</td>\n      <td>1</td>\n      <td>7</td>\n    </tr>\n    <tr>\n      <th>2</th>\n      <td>37</td>\n      <td>Yes</td>\n      <td>Travel_Rarely</td>\n      <td>1373</td>\n      <td>Research &amp; Development</td>\n      <td>2</td>\n      <td>2</td>\n      <td>Other</td>\n      <td>1</td>\n      <td>4</td>\n      <td>...</td>\n      <td>2</td>\n      <td>80</td>\n      <td>0</td>\n      <td>7</td>\n      <td>3</td>\n      <td>3</td>\n      <td>0</td>\n      <td>0</td>\n      <td>0</td>\n      <td>0</td>\n    </tr>\n    <tr>\n      <th>3</th>\n      <td>33</td>\n      <td>No</td>\n      <td>Travel_Frequently</td>\n      <td>1392</td>\n      <td>Research &amp; Development</td>\n      <td>3</td>\n      <td>4</td>\n      <td>Life Sciences</td>\n      <td>1</td>\n      <td>5</td>\n      <td>...</td>\n      <td>3</td>\n      <td>80</td>\n      <td>0</td>\n      <td>8</td>\n      <td>3</td>\n      <td>3</td>\n      <td>8</td>\n      <td>7</td>\n      <td>3</td>\n      <td>0</td>\n    </tr>\n    <tr>\n      <th>4</th>\n      <td>27</td>\n      <td>No</td>\n      <td>Travel_Rarely</td>\n      <td>591</td>\n      <td>Research &amp; Development</td>\n      <td>2</td>\n      <td>1</td>\n      <td>Medical</td>\n      <td>1</td>\n      <td>7</td>\n      <td>...</td>\n      <td>4</td>\n      <td>80</td>\n      <td>1</td>\n      <td>6</td>\n      <td>3</td>\n      <td>3</td>\n      <td>2</td>\n      <td>2</td>\n      <td>2</td>\n      <td>2</td>\n    </tr>\n  </tbody>\n</table>\n<p>5 rows \u00d7 35 columns</p>\n</div>",
                        "text/plain": "   Age Attrition     BusinessTravel  DailyRate              Department  \\\n0   41       Yes      Travel_Rarely       1102                   Sales   \n1   49        No  Travel_Frequently        279  Research & Development   \n2   37       Yes      Travel_Rarely       1373  Research & Development   \n3   33        No  Travel_Frequently       1392  Research & Development   \n4   27        No      Travel_Rarely        591  Research & Development   \n\n   DistanceFromHome  Education EducationField  EmployeeCount  EmployeeNumber  \\\n0                 1          2  Life Sciences              1               1   \n1                 8          1  Life Sciences              1               2   \n2                 2          2          Other              1               4   \n3                 3          4  Life Sciences              1               5   \n4                 2          1        Medical              1               7   \n\n   ...  RelationshipSatisfaction StandardHours  StockOptionLevel  \\\n0  ...                         1            80                 0   \n1  ...                         4            80                 1   \n2  ...                         2            80                 0   \n3  ...                         3            80                 0   \n4  ...                         4            80                 1   \n\n   TotalWorkingYears  TrainingTimesLastYear WorkLifeBalance  YearsAtCompany  \\\n0                  8                      0               1               6   \n1                 10                      3               3              10   \n2                  7                      3               3               0   \n3                  8                      3               3               8   \n4                  6                      3               3               2   \n\n  YearsInCurrentRole  YearsSinceLastPromotion  YearsWithCurrManager  \n0                  4                        0                     5  \n1                  7                        1                     7  \n2                  0                        0                     0  \n3                  7                        3                     0  \n4                  2                        2                     2  \n\n[5 rows x 35 columns]"
                    },
                    "execution_count": 7,
                    "metadata": {},
                    "output_type": "execute_result"
                }
            ],
            "source": "#Reading csv file in pandas dataframe format. \ndf_data = pd.read_csv('emp_attrition.csv')\ndf_data.head()"
        },
        {
            "cell_type": "code",
            "execution_count": 8,
            "metadata": {},
            "outputs": [
                {
                    "data": {
                        "text/plain": "Index(['Age', 'Attrition', 'BusinessTravel', 'DailyRate', 'Department',\n       'DistanceFromHome', 'Education', 'EducationField', 'EmployeeCount',\n       'EmployeeNumber', 'EnvironmentSatisfaction', 'Gender', 'HourlyRate',\n       'JobInvolvement', 'JobLevel', 'JobRole', 'JobSatisfaction',\n       'MaritalStatus', 'MonthlyIncome', 'MonthlyRate', 'NumCompaniesWorked',\n       'Over18', 'OverTime', 'PercentSalaryHike', 'PerformanceRating',\n       'RelationshipSatisfaction', 'StandardHours', 'StockOptionLevel',\n       'TotalWorkingYears', 'TrainingTimesLastYear', 'WorkLifeBalance',\n       'YearsAtCompany', 'YearsInCurrentRole', 'YearsSinceLastPromotion',\n       'YearsWithCurrManager'],\n      dtype='object')"
                    },
                    "execution_count": 8,
                    "metadata": {},
                    "output_type": "execute_result"
                }
            ],
            "source": "#Get list of columns in the dataset\ndf_data.columns"
        },
        {
            "cell_type": "code",
            "execution_count": 9,
            "metadata": {},
            "outputs": [],
            "source": "#Dropping columns (intution)\ncolumns = ['DailyRate', 'EducationField', 'EmployeeCount', 'EmployeeNumber', 'HourlyRate', 'MonthlyRate',\n        'Over18', 'RelationshipSatisfaction', 'StandardHours']\ndf_data.drop(columns, inplace=True, axis=1)"
        },
        {
            "cell_type": "markdown",
            "metadata": {},
            "source": "### 1.1 Get description of data"
        },
        {
            "cell_type": "markdown",
            "metadata": {},
            "source": "Generates descriptive statistics that summarize the central tendency, dispersion and shape of a dataset\u2019s distribution, excluding NaN values.\n\nReference link: https://pandas.pydata.org/pandas-docs/stable/generated/pandas.DataFrame.describe.html"
        },
        {
            "cell_type": "code",
            "execution_count": 10,
            "metadata": {},
            "outputs": [
                {
                    "data": {
                        "text/html": "<div>\n<style scoped>\n    .dataframe tbody tr th:only-of-type {\n        vertical-align: middle;\n    }\n\n    .dataframe tbody tr th {\n        vertical-align: top;\n    }\n\n    .dataframe thead th {\n        text-align: right;\n    }\n</style>\n<table border=\"1\" class=\"dataframe\">\n  <thead>\n    <tr style=\"text-align: right;\">\n      <th></th>\n      <th>Age</th>\n      <th>DistanceFromHome</th>\n      <th>Education</th>\n      <th>EnvironmentSatisfaction</th>\n      <th>JobInvolvement</th>\n      <th>JobLevel</th>\n      <th>JobSatisfaction</th>\n      <th>MonthlyIncome</th>\n      <th>NumCompaniesWorked</th>\n      <th>PercentSalaryHike</th>\n      <th>PerformanceRating</th>\n      <th>StockOptionLevel</th>\n      <th>TotalWorkingYears</th>\n      <th>TrainingTimesLastYear</th>\n      <th>WorkLifeBalance</th>\n      <th>YearsAtCompany</th>\n      <th>YearsInCurrentRole</th>\n      <th>YearsSinceLastPromotion</th>\n      <th>YearsWithCurrManager</th>\n    </tr>\n  </thead>\n  <tbody>\n    <tr>\n      <th>count</th>\n      <td>1470.000000</td>\n      <td>1470.000000</td>\n      <td>1470.000000</td>\n      <td>1470.000000</td>\n      <td>1470.000000</td>\n      <td>1470.000000</td>\n      <td>1470.000000</td>\n      <td>1470.000000</td>\n      <td>1470.000000</td>\n      <td>1470.000000</td>\n      <td>1470.000000</td>\n      <td>1470.000000</td>\n      <td>1470.000000</td>\n      <td>1470.000000</td>\n      <td>1470.000000</td>\n      <td>1470.000000</td>\n      <td>1470.000000</td>\n      <td>1470.000000</td>\n      <td>1470.000000</td>\n    </tr>\n    <tr>\n      <th>mean</th>\n      <td>36.923810</td>\n      <td>9.192517</td>\n      <td>2.912925</td>\n      <td>2.721769</td>\n      <td>2.729932</td>\n      <td>2.063946</td>\n      <td>2.728571</td>\n      <td>6502.931293</td>\n      <td>2.693197</td>\n      <td>15.209524</td>\n      <td>3.153741</td>\n      <td>0.793878</td>\n      <td>11.279592</td>\n      <td>2.799320</td>\n      <td>2.761224</td>\n      <td>7.008163</td>\n      <td>4.229252</td>\n      <td>2.187755</td>\n      <td>4.123129</td>\n    </tr>\n    <tr>\n      <th>std</th>\n      <td>9.135373</td>\n      <td>8.106864</td>\n      <td>1.024165</td>\n      <td>1.093082</td>\n      <td>0.711561</td>\n      <td>1.106940</td>\n      <td>1.102846</td>\n      <td>4707.956783</td>\n      <td>2.498009</td>\n      <td>3.659938</td>\n      <td>0.360824</td>\n      <td>0.852077</td>\n      <td>7.780782</td>\n      <td>1.289271</td>\n      <td>0.706476</td>\n      <td>6.126525</td>\n      <td>3.623137</td>\n      <td>3.222430</td>\n      <td>3.568136</td>\n    </tr>\n    <tr>\n      <th>min</th>\n      <td>18.000000</td>\n      <td>1.000000</td>\n      <td>1.000000</td>\n      <td>1.000000</td>\n      <td>1.000000</td>\n      <td>1.000000</td>\n      <td>1.000000</td>\n      <td>1009.000000</td>\n      <td>0.000000</td>\n      <td>11.000000</td>\n      <td>3.000000</td>\n      <td>0.000000</td>\n      <td>0.000000</td>\n      <td>0.000000</td>\n      <td>1.000000</td>\n      <td>0.000000</td>\n      <td>0.000000</td>\n      <td>0.000000</td>\n      <td>0.000000</td>\n    </tr>\n    <tr>\n      <th>25%</th>\n      <td>30.000000</td>\n      <td>2.000000</td>\n      <td>2.000000</td>\n      <td>2.000000</td>\n      <td>2.000000</td>\n      <td>1.000000</td>\n      <td>2.000000</td>\n      <td>2911.000000</td>\n      <td>1.000000</td>\n      <td>12.000000</td>\n      <td>3.000000</td>\n      <td>0.000000</td>\n      <td>6.000000</td>\n      <td>2.000000</td>\n      <td>2.000000</td>\n      <td>3.000000</td>\n      <td>2.000000</td>\n      <td>0.000000</td>\n      <td>2.000000</td>\n    </tr>\n    <tr>\n      <th>50%</th>\n      <td>36.000000</td>\n      <td>7.000000</td>\n      <td>3.000000</td>\n      <td>3.000000</td>\n      <td>3.000000</td>\n      <td>2.000000</td>\n      <td>3.000000</td>\n      <td>4919.000000</td>\n      <td>2.000000</td>\n      <td>14.000000</td>\n      <td>3.000000</td>\n      <td>1.000000</td>\n      <td>10.000000</td>\n      <td>3.000000</td>\n      <td>3.000000</td>\n      <td>5.000000</td>\n      <td>3.000000</td>\n      <td>1.000000</td>\n      <td>3.000000</td>\n    </tr>\n    <tr>\n      <th>75%</th>\n      <td>43.000000</td>\n      <td>14.000000</td>\n      <td>4.000000</td>\n      <td>4.000000</td>\n      <td>3.000000</td>\n      <td>3.000000</td>\n      <td>4.000000</td>\n      <td>8379.000000</td>\n      <td>4.000000</td>\n      <td>18.000000</td>\n      <td>3.000000</td>\n      <td>1.000000</td>\n      <td>15.000000</td>\n      <td>3.000000</td>\n      <td>3.000000</td>\n      <td>9.000000</td>\n      <td>7.000000</td>\n      <td>3.000000</td>\n      <td>7.000000</td>\n    </tr>\n    <tr>\n      <th>max</th>\n      <td>60.000000</td>\n      <td>29.000000</td>\n      <td>5.000000</td>\n      <td>4.000000</td>\n      <td>4.000000</td>\n      <td>5.000000</td>\n      <td>4.000000</td>\n      <td>19999.000000</td>\n      <td>9.000000</td>\n      <td>25.000000</td>\n      <td>4.000000</td>\n      <td>3.000000</td>\n      <td>40.000000</td>\n      <td>6.000000</td>\n      <td>4.000000</td>\n      <td>40.000000</td>\n      <td>18.000000</td>\n      <td>15.000000</td>\n      <td>17.000000</td>\n    </tr>\n  </tbody>\n</table>\n</div>",
                        "text/plain": "               Age  DistanceFromHome    Education  EnvironmentSatisfaction  \\\ncount  1470.000000       1470.000000  1470.000000              1470.000000   \nmean     36.923810          9.192517     2.912925                 2.721769   \nstd       9.135373          8.106864     1.024165                 1.093082   \nmin      18.000000          1.000000     1.000000                 1.000000   \n25%      30.000000          2.000000     2.000000                 2.000000   \n50%      36.000000          7.000000     3.000000                 3.000000   \n75%      43.000000         14.000000     4.000000                 4.000000   \nmax      60.000000         29.000000     5.000000                 4.000000   \n\n       JobInvolvement     JobLevel  JobSatisfaction  MonthlyIncome  \\\ncount     1470.000000  1470.000000      1470.000000    1470.000000   \nmean         2.729932     2.063946         2.728571    6502.931293   \nstd          0.711561     1.106940         1.102846    4707.956783   \nmin          1.000000     1.000000         1.000000    1009.000000   \n25%          2.000000     1.000000         2.000000    2911.000000   \n50%          3.000000     2.000000         3.000000    4919.000000   \n75%          3.000000     3.000000         4.000000    8379.000000   \nmax          4.000000     5.000000         4.000000   19999.000000   \n\n       NumCompaniesWorked  PercentSalaryHike  PerformanceRating  \\\ncount         1470.000000        1470.000000        1470.000000   \nmean             2.693197          15.209524           3.153741   \nstd              2.498009           3.659938           0.360824   \nmin              0.000000          11.000000           3.000000   \n25%              1.000000          12.000000           3.000000   \n50%              2.000000          14.000000           3.000000   \n75%              4.000000          18.000000           3.000000   \nmax              9.000000          25.000000           4.000000   \n\n       StockOptionLevel  TotalWorkingYears  TrainingTimesLastYear  \\\ncount       1470.000000        1470.000000            1470.000000   \nmean           0.793878          11.279592               2.799320   \nstd            0.852077           7.780782               1.289271   \nmin            0.000000           0.000000               0.000000   \n25%            0.000000           6.000000               2.000000   \n50%            1.000000          10.000000               3.000000   \n75%            1.000000          15.000000               3.000000   \nmax            3.000000          40.000000               6.000000   \n\n       WorkLifeBalance  YearsAtCompany  YearsInCurrentRole  \\\ncount      1470.000000     1470.000000         1470.000000   \nmean          2.761224        7.008163            4.229252   \nstd           0.706476        6.126525            3.623137   \nmin           1.000000        0.000000            0.000000   \n25%           2.000000        3.000000            2.000000   \n50%           3.000000        5.000000            3.000000   \n75%           3.000000        9.000000            7.000000   \nmax           4.000000       40.000000           18.000000   \n\n       YearsSinceLastPromotion  YearsWithCurrManager  \ncount              1470.000000           1470.000000  \nmean                  2.187755              4.123129  \nstd                   3.222430              3.568136  \nmin                   0.000000              0.000000  \n25%                   0.000000              2.000000  \n50%                   1.000000              3.000000  \n75%                   3.000000              7.000000  \nmax                  15.000000             17.000000  "
                    },
                    "execution_count": 10,
                    "metadata": {},
                    "output_type": "execute_result"
                }
            ],
            "source": "#This will give description only for numeric fields\ndf_data.describe()"
        },
        {
            "cell_type": "code",
            "execution_count": 11,
            "metadata": {},
            "outputs": [
                {
                    "data": {
                        "text/html": "<div>\n<style scoped>\n    .dataframe tbody tr th:only-of-type {\n        vertical-align: middle;\n    }\n\n    .dataframe tbody tr th {\n        vertical-align: top;\n    }\n\n    .dataframe thead th {\n        text-align: right;\n    }\n</style>\n<table border=\"1\" class=\"dataframe\">\n  <thead>\n    <tr style=\"text-align: right;\">\n      <th></th>\n      <th>Age</th>\n      <th>Attrition</th>\n      <th>BusinessTravel</th>\n      <th>Department</th>\n      <th>DistanceFromHome</th>\n      <th>Education</th>\n      <th>EnvironmentSatisfaction</th>\n      <th>Gender</th>\n      <th>JobInvolvement</th>\n      <th>JobLevel</th>\n      <th>...</th>\n      <th>PercentSalaryHike</th>\n      <th>PerformanceRating</th>\n      <th>StockOptionLevel</th>\n      <th>TotalWorkingYears</th>\n      <th>TrainingTimesLastYear</th>\n      <th>WorkLifeBalance</th>\n      <th>YearsAtCompany</th>\n      <th>YearsInCurrentRole</th>\n      <th>YearsSinceLastPromotion</th>\n      <th>YearsWithCurrManager</th>\n    </tr>\n  </thead>\n  <tbody>\n    <tr>\n      <th>count</th>\n      <td>1470.000000</td>\n      <td>1470</td>\n      <td>1470</td>\n      <td>1470</td>\n      <td>1470.000000</td>\n      <td>1470.000000</td>\n      <td>1470.000000</td>\n      <td>1470</td>\n      <td>1470.000000</td>\n      <td>1470.000000</td>\n      <td>...</td>\n      <td>1470.000000</td>\n      <td>1470.000000</td>\n      <td>1470.000000</td>\n      <td>1470.000000</td>\n      <td>1470.000000</td>\n      <td>1470.000000</td>\n      <td>1470.000000</td>\n      <td>1470.000000</td>\n      <td>1470.000000</td>\n      <td>1470.000000</td>\n    </tr>\n    <tr>\n      <th>unique</th>\n      <td>NaN</td>\n      <td>2</td>\n      <td>3</td>\n      <td>3</td>\n      <td>NaN</td>\n      <td>NaN</td>\n      <td>NaN</td>\n      <td>2</td>\n      <td>NaN</td>\n      <td>NaN</td>\n      <td>...</td>\n      <td>NaN</td>\n      <td>NaN</td>\n      <td>NaN</td>\n      <td>NaN</td>\n      <td>NaN</td>\n      <td>NaN</td>\n      <td>NaN</td>\n      <td>NaN</td>\n      <td>NaN</td>\n      <td>NaN</td>\n    </tr>\n    <tr>\n      <th>top</th>\n      <td>NaN</td>\n      <td>No</td>\n      <td>Travel_Rarely</td>\n      <td>Research &amp; Development</td>\n      <td>NaN</td>\n      <td>NaN</td>\n      <td>NaN</td>\n      <td>Male</td>\n      <td>NaN</td>\n      <td>NaN</td>\n      <td>...</td>\n      <td>NaN</td>\n      <td>NaN</td>\n      <td>NaN</td>\n      <td>NaN</td>\n      <td>NaN</td>\n      <td>NaN</td>\n      <td>NaN</td>\n      <td>NaN</td>\n      <td>NaN</td>\n      <td>NaN</td>\n    </tr>\n    <tr>\n      <th>freq</th>\n      <td>NaN</td>\n      <td>1233</td>\n      <td>1043</td>\n      <td>961</td>\n      <td>NaN</td>\n      <td>NaN</td>\n      <td>NaN</td>\n      <td>882</td>\n      <td>NaN</td>\n      <td>NaN</td>\n      <td>...</td>\n      <td>NaN</td>\n      <td>NaN</td>\n      <td>NaN</td>\n      <td>NaN</td>\n      <td>NaN</td>\n      <td>NaN</td>\n      <td>NaN</td>\n      <td>NaN</td>\n      <td>NaN</td>\n      <td>NaN</td>\n    </tr>\n    <tr>\n      <th>mean</th>\n      <td>36.923810</td>\n      <td>NaN</td>\n      <td>NaN</td>\n      <td>NaN</td>\n      <td>9.192517</td>\n      <td>2.912925</td>\n      <td>2.721769</td>\n      <td>NaN</td>\n      <td>2.729932</td>\n      <td>2.063946</td>\n      <td>...</td>\n      <td>15.209524</td>\n      <td>3.153741</td>\n      <td>0.793878</td>\n      <td>11.279592</td>\n      <td>2.799320</td>\n      <td>2.761224</td>\n      <td>7.008163</td>\n      <td>4.229252</td>\n      <td>2.187755</td>\n      <td>4.123129</td>\n    </tr>\n    <tr>\n      <th>std</th>\n      <td>9.135373</td>\n      <td>NaN</td>\n      <td>NaN</td>\n      <td>NaN</td>\n      <td>8.106864</td>\n      <td>1.024165</td>\n      <td>1.093082</td>\n      <td>NaN</td>\n      <td>0.711561</td>\n      <td>1.106940</td>\n      <td>...</td>\n      <td>3.659938</td>\n      <td>0.360824</td>\n      <td>0.852077</td>\n      <td>7.780782</td>\n      <td>1.289271</td>\n      <td>0.706476</td>\n      <td>6.126525</td>\n      <td>3.623137</td>\n      <td>3.222430</td>\n      <td>3.568136</td>\n    </tr>\n    <tr>\n      <th>min</th>\n      <td>18.000000</td>\n      <td>NaN</td>\n      <td>NaN</td>\n      <td>NaN</td>\n      <td>1.000000</td>\n      <td>1.000000</td>\n      <td>1.000000</td>\n      <td>NaN</td>\n      <td>1.000000</td>\n      <td>1.000000</td>\n      <td>...</td>\n      <td>11.000000</td>\n      <td>3.000000</td>\n      <td>0.000000</td>\n      <td>0.000000</td>\n      <td>0.000000</td>\n      <td>1.000000</td>\n      <td>0.000000</td>\n      <td>0.000000</td>\n      <td>0.000000</td>\n      <td>0.000000</td>\n    </tr>\n    <tr>\n      <th>25%</th>\n      <td>30.000000</td>\n      <td>NaN</td>\n      <td>NaN</td>\n      <td>NaN</td>\n      <td>2.000000</td>\n      <td>2.000000</td>\n      <td>2.000000</td>\n      <td>NaN</td>\n      <td>2.000000</td>\n      <td>1.000000</td>\n      <td>...</td>\n      <td>12.000000</td>\n      <td>3.000000</td>\n      <td>0.000000</td>\n      <td>6.000000</td>\n      <td>2.000000</td>\n      <td>2.000000</td>\n      <td>3.000000</td>\n      <td>2.000000</td>\n      <td>0.000000</td>\n      <td>2.000000</td>\n    </tr>\n    <tr>\n      <th>50%</th>\n      <td>36.000000</td>\n      <td>NaN</td>\n      <td>NaN</td>\n      <td>NaN</td>\n      <td>7.000000</td>\n      <td>3.000000</td>\n      <td>3.000000</td>\n      <td>NaN</td>\n      <td>3.000000</td>\n      <td>2.000000</td>\n      <td>...</td>\n      <td>14.000000</td>\n      <td>3.000000</td>\n      <td>1.000000</td>\n      <td>10.000000</td>\n      <td>3.000000</td>\n      <td>3.000000</td>\n      <td>5.000000</td>\n      <td>3.000000</td>\n      <td>1.000000</td>\n      <td>3.000000</td>\n    </tr>\n    <tr>\n      <th>75%</th>\n      <td>43.000000</td>\n      <td>NaN</td>\n      <td>NaN</td>\n      <td>NaN</td>\n      <td>14.000000</td>\n      <td>4.000000</td>\n      <td>4.000000</td>\n      <td>NaN</td>\n      <td>3.000000</td>\n      <td>3.000000</td>\n      <td>...</td>\n      <td>18.000000</td>\n      <td>3.000000</td>\n      <td>1.000000</td>\n      <td>15.000000</td>\n      <td>3.000000</td>\n      <td>3.000000</td>\n      <td>9.000000</td>\n      <td>7.000000</td>\n      <td>3.000000</td>\n      <td>7.000000</td>\n    </tr>\n    <tr>\n      <th>max</th>\n      <td>60.000000</td>\n      <td>NaN</td>\n      <td>NaN</td>\n      <td>NaN</td>\n      <td>29.000000</td>\n      <td>5.000000</td>\n      <td>4.000000</td>\n      <td>NaN</td>\n      <td>4.000000</td>\n      <td>5.000000</td>\n      <td>...</td>\n      <td>25.000000</td>\n      <td>4.000000</td>\n      <td>3.000000</td>\n      <td>40.000000</td>\n      <td>6.000000</td>\n      <td>4.000000</td>\n      <td>40.000000</td>\n      <td>18.000000</td>\n      <td>15.000000</td>\n      <td>17.000000</td>\n    </tr>\n  </tbody>\n</table>\n<p>11 rows \u00d7 26 columns</p>\n</div>",
                        "text/plain": "                Age Attrition BusinessTravel              Department  \\\ncount   1470.000000      1470           1470                    1470   \nunique          NaN         2              3                       3   \ntop             NaN        No  Travel_Rarely  Research & Development   \nfreq            NaN      1233           1043                     961   \nmean      36.923810       NaN            NaN                     NaN   \nstd        9.135373       NaN            NaN                     NaN   \nmin       18.000000       NaN            NaN                     NaN   \n25%       30.000000       NaN            NaN                     NaN   \n50%       36.000000       NaN            NaN                     NaN   \n75%       43.000000       NaN            NaN                     NaN   \nmax       60.000000       NaN            NaN                     NaN   \n\n        DistanceFromHome    Education  EnvironmentSatisfaction Gender  \\\ncount        1470.000000  1470.000000              1470.000000   1470   \nunique               NaN          NaN                      NaN      2   \ntop                  NaN          NaN                      NaN   Male   \nfreq                 NaN          NaN                      NaN    882   \nmean            9.192517     2.912925                 2.721769    NaN   \nstd             8.106864     1.024165                 1.093082    NaN   \nmin             1.000000     1.000000                 1.000000    NaN   \n25%             2.000000     2.000000                 2.000000    NaN   \n50%             7.000000     3.000000                 3.000000    NaN   \n75%            14.000000     4.000000                 4.000000    NaN   \nmax            29.000000     5.000000                 4.000000    NaN   \n\n        JobInvolvement     JobLevel  ... PercentSalaryHike  PerformanceRating  \\\ncount      1470.000000  1470.000000  ...       1470.000000        1470.000000   \nunique             NaN          NaN  ...               NaN                NaN   \ntop                NaN          NaN  ...               NaN                NaN   \nfreq               NaN          NaN  ...               NaN                NaN   \nmean          2.729932     2.063946  ...         15.209524           3.153741   \nstd           0.711561     1.106940  ...          3.659938           0.360824   \nmin           1.000000     1.000000  ...         11.000000           3.000000   \n25%           2.000000     1.000000  ...         12.000000           3.000000   \n50%           3.000000     2.000000  ...         14.000000           3.000000   \n75%           3.000000     3.000000  ...         18.000000           3.000000   \nmax           4.000000     5.000000  ...         25.000000           4.000000   \n\n       StockOptionLevel  TotalWorkingYears  TrainingTimesLastYear  \\\ncount       1470.000000        1470.000000            1470.000000   \nunique              NaN                NaN                    NaN   \ntop                 NaN                NaN                    NaN   \nfreq                NaN                NaN                    NaN   \nmean           0.793878          11.279592               2.799320   \nstd            0.852077           7.780782               1.289271   \nmin            0.000000           0.000000               0.000000   \n25%            0.000000           6.000000               2.000000   \n50%            1.000000          10.000000               3.000000   \n75%            1.000000          15.000000               3.000000   \nmax            3.000000          40.000000               6.000000   \n\n       WorkLifeBalance  YearsAtCompany  YearsInCurrentRole  \\\ncount      1470.000000     1470.000000         1470.000000   \nunique             NaN             NaN                 NaN   \ntop                NaN             NaN                 NaN   \nfreq               NaN             NaN                 NaN   \nmean          2.761224        7.008163            4.229252   \nstd           0.706476        6.126525            3.623137   \nmin           1.000000        0.000000            0.000000   \n25%           2.000000        3.000000            2.000000   \n50%           3.000000        5.000000            3.000000   \n75%           3.000000        9.000000            7.000000   \nmax           4.000000       40.000000           18.000000   \n\n        YearsSinceLastPromotion  YearsWithCurrManager  \ncount               1470.000000           1470.000000  \nunique                      NaN                   NaN  \ntop                         NaN                   NaN  \nfreq                        NaN                   NaN  \nmean                   2.187755              4.123129  \nstd                    3.222430              3.568136  \nmin                    0.000000              0.000000  \n25%                    0.000000              2.000000  \n50%                    1.000000              3.000000  \n75%                    3.000000              7.000000  \nmax                   15.000000             17.000000  \n\n[11 rows x 26 columns]"
                    },
                    "execution_count": 11,
                    "metadata": {},
                    "output_type": "execute_result"
                }
            ],
            "source": "#To get description of all columns\ndf_data.describe(include = 'all')"
        },
        {
            "cell_type": "markdown",
            "metadata": {},
            "source": "## 2. Data Cleaning"
        },
        {
            "cell_type": "markdown",
            "metadata": {},
            "source": "This phase is the most time consuming yet the most importat one. Here, we filter and extract only the information that is needed for problem solving. Quality of the model is highly dependant on the quality of the data that is given as an input. \n* Understand meaning of every feature and identify errors.\n* Look for any missing values and find a way to fill the missing values.\n* Remove duplicate or corrupted records.\n* Scaling and normalization of data.\n* Character encoding (string to numerical representation).\n* Handle inconsistent entry.\n* Use tools like pandas(python), dplyr(R), numpy."
        },
        {
            "cell_type": "markdown",
            "metadata": {},
            "source": "### 2.1 Handling missing values"
        },
        {
            "cell_type": "code",
            "execution_count": 12,
            "metadata": {},
            "outputs": [
                {
                    "data": {
                        "text/plain": "Age                        0\nAttrition                  0\nBusinessTravel             0\nDepartment                 0\nDistanceFromHome           0\nEducation                  0\nEnvironmentSatisfaction    0\nGender                     0\nJobInvolvement             0\nJobLevel                   0\nJobRole                    0\nJobSatisfaction            0\nMaritalStatus              0\nMonthlyIncome              0\nNumCompaniesWorked         0\nOverTime                   0\nPercentSalaryHike          0\nPerformanceRating          0\nStockOptionLevel           0\nTotalWorkingYears          0\nTrainingTimesLastYear      0\nWorkLifeBalance            0\nYearsAtCompany             0\nYearsInCurrentRole         0\nYearsSinceLastPromotion    0\nYearsWithCurrManager       0\ndtype: int64"
                    },
                    "execution_count": 12,
                    "metadata": {},
                    "output_type": "execute_result"
                }
            ],
            "source": "#Find number of missing values in every feature\ndf_data.isnull().sum()"
        },
        {
            "cell_type": "markdown",
            "metadata": {},
            "source": "Looks like the best dataset!!! No null values :-)\n\n#### But what if we have null values ???? Let's see what we can do in that case.\n\n* Find why that data is missing. Human error or missed during extraction\n* Drop missing values. \n* Some ways for filling missing values: \n  - Zero \n  - Mean ( works with normal distribution )\n  - Random values from same distribution ( works well with equal distribution ) \n  - Value after missing value (make sense if data set has some logical order)"
        },
        {
            "cell_type": "markdown",
            "metadata": {},
            "source": "### 2.2 Encode categorical features(in string) as most of the tools works with numbers"
        },
        {
            "cell_type": "code",
            "execution_count": 13,
            "metadata": {},
            "outputs": [],
            "source": "#Columns with string values\ncategorical_column = ['Attrition', 'BusinessTravel', 'Department',\n                      'Gender', 'JobRole', 'MaritalStatus', 'OverTime']"
        },
        {
            "cell_type": "code",
            "execution_count": 14,
            "metadata": {},
            "outputs": [
                {
                    "name": "stdout",
                    "output_type": "stream",
                    "text": "Feature Attrition\nmapping {'No': 0, 'Yes': 1}\nFeature BusinessTravel\nmapping {'Non-Travel': 0, 'Travel_Frequently': 1, 'Travel_Rarely': 2}\nFeature Department\nmapping {'Human Resources': 0, 'Research & Development': 1, 'Sales': 2}\nFeature Gender\nmapping {'Female': 0, 'Male': 1}\nFeature JobRole\nmapping {'Healthcare Representative': 0, 'Human Resources': 1, 'Laboratory Technician': 2, 'Manager': 3, 'Manufacturing Director': 4, 'Research Director': 5, 'Research Scientist': 6, 'Sales Executive': 7, 'Sales Representative': 8}\nFeature MaritalStatus\nmapping {'Divorced': 0, 'Married': 1, 'Single': 2}\nFeature OverTime\nmapping {'No': 0, 'Yes': 1}\n"
                }
            ],
            "source": "#Deep copy the original data\ndata_encoded = df_data.copy(deep=True)\n#Use Scikit-learn label encoding to encode character data\nlab_enc = preprocessing.LabelEncoder()\nfor col in categorical_column:\n        data_encoded[col] = lab_enc.fit_transform(df_data[col])\n        le_name_mapping = dict(zip(lab_enc.classes_, lab_enc.transform(lab_enc.classes_)))\n        print('Feature', col)\n        print('mapping', le_name_mapping)"
        },
        {
            "cell_type": "code",
            "execution_count": 15,
            "metadata": {},
            "outputs": [
                {
                    "data": {
                        "text/html": "<div>\n<style scoped>\n    .dataframe tbody tr th:only-of-type {\n        vertical-align: middle;\n    }\n\n    .dataframe tbody tr th {\n        vertical-align: top;\n    }\n\n    .dataframe thead th {\n        text-align: right;\n    }\n</style>\n<table border=\"1\" class=\"dataframe\">\n  <thead>\n    <tr style=\"text-align: right;\">\n      <th></th>\n      <th>Age</th>\n      <th>Attrition</th>\n      <th>BusinessTravel</th>\n      <th>Department</th>\n      <th>DistanceFromHome</th>\n      <th>Education</th>\n      <th>EnvironmentSatisfaction</th>\n      <th>Gender</th>\n      <th>JobInvolvement</th>\n      <th>JobLevel</th>\n      <th>...</th>\n      <th>PercentSalaryHike</th>\n      <th>PerformanceRating</th>\n      <th>StockOptionLevel</th>\n      <th>TotalWorkingYears</th>\n      <th>TrainingTimesLastYear</th>\n      <th>WorkLifeBalance</th>\n      <th>YearsAtCompany</th>\n      <th>YearsInCurrentRole</th>\n      <th>YearsSinceLastPromotion</th>\n      <th>YearsWithCurrManager</th>\n    </tr>\n  </thead>\n  <tbody>\n    <tr>\n      <th>0</th>\n      <td>41</td>\n      <td>1</td>\n      <td>2</td>\n      <td>2</td>\n      <td>1</td>\n      <td>2</td>\n      <td>2</td>\n      <td>0</td>\n      <td>3</td>\n      <td>2</td>\n      <td>...</td>\n      <td>11</td>\n      <td>3</td>\n      <td>0</td>\n      <td>8</td>\n      <td>0</td>\n      <td>1</td>\n      <td>6</td>\n      <td>4</td>\n      <td>0</td>\n      <td>5</td>\n    </tr>\n    <tr>\n      <th>1</th>\n      <td>49</td>\n      <td>0</td>\n      <td>1</td>\n      <td>1</td>\n      <td>8</td>\n      <td>1</td>\n      <td>3</td>\n      <td>1</td>\n      <td>2</td>\n      <td>2</td>\n      <td>...</td>\n      <td>23</td>\n      <td>4</td>\n      <td>1</td>\n      <td>10</td>\n      <td>3</td>\n      <td>3</td>\n      <td>10</td>\n      <td>7</td>\n      <td>1</td>\n      <td>7</td>\n    </tr>\n    <tr>\n      <th>2</th>\n      <td>37</td>\n      <td>1</td>\n      <td>2</td>\n      <td>1</td>\n      <td>2</td>\n      <td>2</td>\n      <td>4</td>\n      <td>1</td>\n      <td>2</td>\n      <td>1</td>\n      <td>...</td>\n      <td>15</td>\n      <td>3</td>\n      <td>0</td>\n      <td>7</td>\n      <td>3</td>\n      <td>3</td>\n      <td>0</td>\n      <td>0</td>\n      <td>0</td>\n      <td>0</td>\n    </tr>\n    <tr>\n      <th>3</th>\n      <td>33</td>\n      <td>0</td>\n      <td>1</td>\n      <td>1</td>\n      <td>3</td>\n      <td>4</td>\n      <td>4</td>\n      <td>0</td>\n      <td>3</td>\n      <td>1</td>\n      <td>...</td>\n      <td>11</td>\n      <td>3</td>\n      <td>0</td>\n      <td>8</td>\n      <td>3</td>\n      <td>3</td>\n      <td>8</td>\n      <td>7</td>\n      <td>3</td>\n      <td>0</td>\n    </tr>\n    <tr>\n      <th>4</th>\n      <td>27</td>\n      <td>0</td>\n      <td>2</td>\n      <td>1</td>\n      <td>2</td>\n      <td>1</td>\n      <td>1</td>\n      <td>1</td>\n      <td>3</td>\n      <td>1</td>\n      <td>...</td>\n      <td>12</td>\n      <td>3</td>\n      <td>1</td>\n      <td>6</td>\n      <td>3</td>\n      <td>3</td>\n      <td>2</td>\n      <td>2</td>\n      <td>2</td>\n      <td>2</td>\n    </tr>\n  </tbody>\n</table>\n<p>5 rows \u00d7 26 columns</p>\n</div>",
                        "text/plain": "   Age  Attrition  BusinessTravel  Department  DistanceFromHome  Education  \\\n0   41          1               2           2                 1          2   \n1   49          0               1           1                 8          1   \n2   37          1               2           1                 2          2   \n3   33          0               1           1                 3          4   \n4   27          0               2           1                 2          1   \n\n   EnvironmentSatisfaction  Gender  JobInvolvement  JobLevel  ...  \\\n0                        2       0               3         2  ...   \n1                        3       1               2         2  ...   \n2                        4       1               2         1  ...   \n3                        4       0               3         1  ...   \n4                        1       1               3         1  ...   \n\n   PercentSalaryHike  PerformanceRating  StockOptionLevel  TotalWorkingYears  \\\n0                 11                  3                 0                  8   \n1                 23                  4                 1                 10   \n2                 15                  3                 0                  7   \n3                 11                  3                 0                  8   \n4                 12                  3                 1                  6   \n\n   TrainingTimesLastYear  WorkLifeBalance  YearsAtCompany  YearsInCurrentRole  \\\n0                      0                1               6                   4   \n1                      3                3              10                   7   \n2                      3                3               0                   0   \n3                      3                3               8                   7   \n4                      3                3               2                   2   \n\n   YearsSinceLastPromotion  YearsWithCurrManager  \n0                        0                     5  \n1                        1                     7  \n2                        0                     0  \n3                        3                     0  \n4                        2                     2  \n\n[5 rows x 26 columns]"
                    },
                    "execution_count": 15,
                    "metadata": {},
                    "output_type": "execute_result"
                }
            ],
            "source": "data_encoded.head()"
        },
        {
            "cell_type": "markdown",
            "metadata": {},
            "source": "## 3. Data Exploration"
        },
        {
            "cell_type": "markdown",
            "metadata": {},
            "source": "* Find patterns in data through data visualization. Reveal hidden secrets of the data through graphs, analysis and charts.\n   -  Univariate analysis \n      * Continous variables : Histograms, boxplots. This gives us understanding about the central tendency and spread\n      * Categorical variable : Bar chart showing frequency in each category \n   -  Bivariate analysis\n      * Continous & Continous : Scatter plots to know how continous variables interact with each other\n      * Categorical & categorical : Stacked column chart to show how the frequencies are spread between two  \n        categorical variables\n      * Categorical & Continous : Boxplots, Swamplots or even bar charts\n* Detect outliers\n* Feature engineering "
        },
        {
            "cell_type": "markdown",
            "metadata": {},
            "source": "### 3.1 Get data distribution between output classes"
        },
        {
            "cell_type": "code",
            "execution_count": 16,
            "metadata": {},
            "outputs": [
                {
                    "data": {
                        "text/plain": "0    1233\n1     237\nName: Attrition, dtype: int64"
                    },
                    "execution_count": 16,
                    "metadata": {},
                    "output_type": "execute_result"
                }
            ],
            "source": "data_encoded['Attrition'].value_counts()"
        },
        {
            "cell_type": "markdown",
            "metadata": {},
            "source": "From the above result, we can find that about 82% of people stick to the company while rest of them quit :-(\n\n\n**** Data is unbalanced ****"
        },
        {
            "cell_type": "markdown",
            "metadata": {},
            "source": "### 3.2 Finding correlation between variables"
        },
        {
            "cell_type": "code",
            "execution_count": 17,
            "metadata": {},
            "outputs": [],
            "source": "data_correlation = data_encoded.corr()"
        },
        {
            "cell_type": "code",
            "execution_count": 18,
            "metadata": {},
            "outputs": [
                {
                    "data": {
                        "text/plain": "<matplotlib.axes._subplots.AxesSubplot at 0x7fd83d6b6128>"
                    },
                    "execution_count": 18,
                    "metadata": {},
                    "output_type": "execute_result"
                },
                {
                    "data": {
                        "image/png": "[encoded data removed]",
                        "text/plain": "<Figure size 1080x720 with 2 Axes>"
                    },
                    "metadata": {
                        "needs_background": "light"
                    },
                    "output_type": "display_data"
                }
            ],
            "source": "plt.rcParams[\"figure.figsize\"] = [15,10]\nsns.heatmap(data_correlation,xticklabels=data_correlation.columns,yticklabels=data_correlation.columns)"
        },
        {
            "cell_type": "markdown",
            "metadata": {},
            "source": "#### Analysis of correlation results (sample analysis)\n\n- Monthly income is highly correlated with Job level.\n- Job level is highly correlated with total working hours.\n- Monthly income is highly correlated with total working hours.\n- Age is also positively correlated with the Total working hours.\n- Marital status and stock option level are negatively correlated"
        },
        {
            "cell_type": "code",
            "execution_count": 19,
            "metadata": {},
            "outputs": [
                {
                    "data": {
                        "text/plain": "<matplotlib.axes._subplots.AxesSubplot at 0x7fd7d0bfb358>"
                    },
                    "execution_count": 19,
                    "metadata": {},
                    "output_type": "execute_result"
                },
                {
                    "data": {
                        "image/png": "[encoded data removed]",
                        "text/plain": "<Figure size 1440x720 with 2 Axes>"
                    },
                    "metadata": {
                        "needs_background": "light"
                    },
                    "output_type": "display_data"
                }
            ],
            "source": "#Viewing the analysis obtained above \ndata_corr_filtered = df_data[['MonthlyIncome', 'TotalWorkingYears', 'Age', 'MaritalStatus', 'StockOptionLevel',\n                      'JobLevel']]\ncorrelation = data_corr_filtered.corr()\nplt.rcParams[\"figure.figsize\"] = [20,10]\nsns.heatmap(correlation,xticklabels=data_corr_filtered.columns,yticklabels=data_corr_filtered.columns)"
        },
        {
            "cell_type": "markdown",
            "metadata": {},
            "source": "### 3.3 Understanding relationship between features and finding patterns in data through visualization\n\nPopular data visualization libraries in python are:\n     1. Matplotlib\n     2. Seaborn\n     3. ggplot\n     4. Bokeh\n     5. pygal\n     6. Plotly\n     7. geoplotlib\n     8. Gleam\n     9. missingno\n     10. Leather"
        },
        {
            "cell_type": "markdown",
            "metadata": {},
            "source": "### 3.3.1 Age Analysis\nFinding relationship between age and attrition. "
        },
        {
            "cell_type": "code",
            "execution_count": 20,
            "metadata": {},
            "outputs": [
                {
                    "data": {
                        "text/plain": "(array([  0.,  17., 309., 622., 349., 168.,   5.]),\n array([ 0, 10, 20, 30, 40, 50, 60, 70]),\n <a list of 7 Patch objects>)"
                    },
                    "execution_count": 20,
                    "metadata": {},
                    "output_type": "execute_result"
                },
                {
                    "data": {
                        "image/png": "[encoded data removed]",
                        "text/plain": "<Figure size 504x504 with 1 Axes>"
                    },
                    "metadata": {
                        "needs_background": "light"
                    },
                    "output_type": "display_data"
                }
            ],
            "source": "#Plot to see distribution of age overall\nplt.rcParams[\"figure.figsize\"] = [7,7]\nplt.hist(data_encoded['Age'], bins=np.arange(0,80,10), alpha=0.8, rwidth=0.9, color='blue')"
        },
        {
            "cell_type": "markdown",
            "metadata": {},
            "source": "#### Finding based on above plot\nThis plot tells that there are more employees in the range of 30 to 40. Approximately 45% of employees fall in this range."
        },
        {
            "cell_type": "code",
            "execution_count": 21,
            "metadata": {},
            "outputs": [],
            "source": "#We are going to bin age (multiples of 10) to see which age group are likely to leave the company.\n#Before that, let us take only employee who are likely to quit.\npositive_attrition_df = data_encoded.loc[data_encoded['Attrition'] == 1]\nnegative_attrition_df = data_encoded.loc[data_encoded['Attrition'] == 0]"
        },
        {
            "cell_type": "code",
            "execution_count": 22,
            "metadata": {},
            "outputs": [
                {
                    "data": {
                        "text/plain": "(array([ 0., 10., 81., 89., 34., 23.,  0.]),\n array([ 0, 10, 20, 30, 40, 50, 60, 70]),\n <a list of 7 Patch objects>)"
                    },
                    "execution_count": 22,
                    "metadata": {},
                    "output_type": "execute_result"
                },
                {
                    "data": {
                        "image/png": "[encoded data removed]",
                        "text/plain": "<Figure size 504x504 with 1 Axes>"
                    },
                    "metadata": {
                        "needs_background": "light"
                    },
                    "output_type": "display_data"
                }
            ],
            "source": "plt.hist(positive_attrition_df['Age'], bins=np.arange(0,80,10), alpha=0.8, rwidth=0.9, color='red')"
        },
        {
            "cell_type": "markdown",
            "metadata": {},
            "source": "#### Findings based on above plot\n- Employees whose age is in the range of 30 - 40 are more likely to quit.\n- Employees in the range of 20 to 30 are also equally imposing the threat to employers."
        },
        {
            "cell_type": "markdown",
            "metadata": {},
            "source": "### 3.3.2 Business Travel vs Attrition\nThere are 3 categories in this:\n    1. No travel (0).\n    2. Travel Frequently (1).\n    3. Travel Rarely (2).\nAttrition: No = 0 and Yes = 1"
        },
        {
            "cell_type": "code",
            "execution_count": 23,
            "metadata": {},
            "outputs": [
                {
                    "data": {
                        "image/png": "[encoded data removed]",
                        "text/plain": "<Figure size 504x504 with 1 Axes>"
                    },
                    "metadata": {
                        "needs_background": "light"
                    },
                    "output_type": "display_data"
                }
            ],
            "source": "ax = sns.countplot(x=\"BusinessTravel\", hue=\"Attrition\", data=data_encoded)\nfor p in ax.patches:\n    ax.annotate('{}'.format(p.get_height()), (p.get_x(), p.get_height()+1))"
        },
        {
            "cell_type": "markdown",
            "metadata": {},
            "source": "#### Findings\nFrom the above plot it can be inferred that travel can not be a compelling factor for attrition. Employee who travel rarely are likely to quit more"
        },
        {
            "cell_type": "markdown",
            "metadata": {},
            "source": "### 3.3.3 Department Vs Attrition\nThere are three categories in department:\n       1. Human Resources: 0\n       2. Research & Development: 1\n       3. Sales: 2\nAttrition: No = 0 and Yes = 1"
        },
        {
            "cell_type": "code",
            "execution_count": 24,
            "metadata": {},
            "outputs": [
                {
                    "data": {
                        "image/png": "[encoded data removed]",
                        "text/plain": "<Figure size 504x504 with 1 Axes>"
                    },
                    "metadata": {
                        "needs_background": "light"
                    },
                    "output_type": "display_data"
                }
            ],
            "source": "ax = sns.countplot(x=\"Department\", hue=\"Attrition\", data=data_encoded)\nfor p in ax.patches:\n    ax.annotate('{}'.format(p.get_height()), (p.get_x(), p.get_height()+1))"
        },
        {
            "cell_type": "markdown",
            "metadata": {},
            "source": "#### Inference:\n    1. 56% of employess from research and development department are likely to quit.\n    2. 38% of employees from sales department are likely to quit."
        },
        {
            "cell_type": "markdown",
            "metadata": {},
            "source": "### 3.3.4 Distance from home Vs Employee Attrition"
        },
        {
            "cell_type": "code",
            "execution_count": 25,
            "metadata": {},
            "outputs": [
                {
                    "data": {
                        "text/plain": "(array([807., 246., 180.,   0.,   0.,   0.,   0.]),\n array([ 0, 10, 20, 30, 40, 50, 60, 70]),\n <a list of 7 Patch objects>)"
                    },
                    "execution_count": 25,
                    "metadata": {},
                    "output_type": "execute_result"
                },
                {
                    "data": {
                        "image/png": "[encoded data removed]",
                        "text/plain": "<Figure size 504x504 with 1 Axes>"
                    },
                    "metadata": {
                        "needs_background": "light"
                    },
                    "output_type": "display_data"
                }
            ],
            "source": "plt.hist(negative_attrition_df['DistanceFromHome'], bins=np.arange(0,80,10), alpha=0.8, rwidth=0.9, color='red')"
        },
        {
            "cell_type": "code",
            "execution_count": 26,
            "metadata": {},
            "outputs": [
                {
                    "data": {
                        "text/plain": "(array([133.,  55.,  49.,   0.,   0.,   0.,   0.]),\n array([ 0, 10, 20, 30, 40, 50, 60, 70]),\n <a list of 7 Patch objects>)"
                    },
                    "execution_count": 26,
                    "metadata": {},
                    "output_type": "execute_result"
                },
                {
                    "data": {
                        "image/png": "[encoded data removed]",
                        "text/plain": "<Figure size 504x504 with 1 Axes>"
                    },
                    "metadata": {
                        "needs_background": "light"
                    },
                    "output_type": "display_data"
                }
            ],
            "source": "plt.hist(positive_attrition_df['DistanceFromHome'], bins=np.arange(0,80,10), alpha=0.8, rwidth=0.9, color='red')"
        },
        {
            "cell_type": "markdown",
            "metadata": {},
            "source": "#### Findings\nPeople who live closeby (0-10 miles) are likely to quit more based on the data"
        },
        {
            "cell_type": "markdown",
            "metadata": {},
            "source": "### 3.3.5 Education vs Attrition\nThere are five categories: \n     1. Below College - 1 \n     2. College - 2\n     3. Bachelor - 3\n     4. Master - 4\n     5. Doctor - 5"
        },
        {
            "cell_type": "code",
            "execution_count": 27,
            "metadata": {},
            "outputs": [
                {
                    "data": {
                        "image/png": "[encoded data removed]",
                        "text/plain": "<Figure size 504x504 with 1 Axes>"
                    },
                    "metadata": {
                        "needs_background": "light"
                    },
                    "output_type": "display_data"
                }
            ],
            "source": "ax = sns.countplot(x=\"Education\", hue=\"Attrition\", data=data_encoded)\nfor p in ax.patches:\n    ax.annotate('{}'.format(p.get_height()), (p.get_x(), p.get_height()+1))"
        },
        {
            "cell_type": "markdown",
            "metadata": {},
            "source": "Inference:\n    1. 41% of employees having bachelor's degree are likely to quit.\n    2. 24% of employees having master's are the next in line"
        },
        {
            "cell_type": "markdown",
            "metadata": {},
            "source": "### 3.3.6 Gender vs Attrition"
        },
        {
            "cell_type": "code",
            "execution_count": 28,
            "metadata": {},
            "outputs": [],
            "source": "df_age = data_encoded.copy(deep=True)\ndf_age.loc[df_age['Age'] <= 20, 'Age'] = 0\ndf_age.loc[(df_age['Age'] > 20) & (df_age['Age'] <= 30), 'Age'] = 1\ndf_age.loc[(df_age['Age'] > 30) & (df_age['Age'] <= 40), 'Age'] = 2\ndf_age.loc[(df_age['Age'] > 40) & (df_age['Age'] <= 50), 'Age'] = 3\ndf_age.loc[(df_age['Age'] > 50), 'Age'] = 4"
        },
        {
            "cell_type": "code",
            "execution_count": 29,
            "metadata": {},
            "outputs": [],
            "source": "df_age = pd.DataFrame({'count': df_age.groupby([\"Gender\", \"Attrition\"]).size()}).reset_index()\ndf_age['Gender-attrition'] = df_age['Gender'].astype(str) + \"-\" + df_age['Attrition'].astype(str).map(str)"
        },
        {
            "cell_type": "code",
            "execution_count": 30,
            "metadata": {},
            "outputs": [
                {
                    "data": {
                        "text/html": "<div>\n<style scoped>\n    .dataframe tbody tr th:only-of-type {\n        vertical-align: middle;\n    }\n\n    .dataframe tbody tr th {\n        vertical-align: top;\n    }\n\n    .dataframe thead th {\n        text-align: right;\n    }\n</style>\n<table border=\"1\" class=\"dataframe\">\n  <thead>\n    <tr style=\"text-align: right;\">\n      <th></th>\n      <th>Gender</th>\n      <th>Attrition</th>\n      <th>count</th>\n      <th>Gender-attrition</th>\n    </tr>\n  </thead>\n  <tbody>\n    <tr>\n      <th>0</th>\n      <td>0</td>\n      <td>0</td>\n      <td>501</td>\n      <td>0-0</td>\n    </tr>\n    <tr>\n      <th>1</th>\n      <td>0</td>\n      <td>1</td>\n      <td>87</td>\n      <td>0-1</td>\n    </tr>\n    <tr>\n      <th>2</th>\n      <td>1</td>\n      <td>0</td>\n      <td>732</td>\n      <td>1-0</td>\n    </tr>\n    <tr>\n      <th>3</th>\n      <td>1</td>\n      <td>1</td>\n      <td>150</td>\n      <td>1-1</td>\n    </tr>\n  </tbody>\n</table>\n</div>",
                        "text/plain": "   Gender  Attrition  count Gender-attrition\n0       0          0    501              0-0\n1       0          1     87              0-1\n2       1          0    732              1-0\n3       1          1    150              1-1"
                    },
                    "execution_count": 30,
                    "metadata": {},
                    "output_type": "execute_result"
                }
            ],
            "source": "df_age"
        },
        {
            "cell_type": "markdown",
            "metadata": {},
            "source": "Here,\n\n* Gender - 0 and Attrition - 0 ===> Female employees who will stay\n* Gender - 0 and Attrition - 1 ===> Female employees who will leave\n* Gender - 1 and Attrition - 0 ===> Male employees who will stay\n* Gender - 1 and Attrition - 1 ===> Male employees who will leave"
        },
        {
            "cell_type": "code",
            "execution_count": 31,
            "metadata": {},
            "outputs": [
                {
                    "data": {
                        "text/html": "\n    <div class=\"bk-root\">\n        <a href=\"https://bokeh.pydata.org\" target=\"_blank\" class=\"bk-logo bk-logo-small bk-logo-notebook\"></a>\n        <span id=\"1001\">Loading BokehJS ...</span>\n    </div>"
                    },
                    "metadata": {},
                    "output_type": "display_data"
                },
                {
                    "data": {
                        "application/javascript": "\n(function(root) {\n  function now() {\n    return new Date();\n  }\n\n  var force = true;\n\n  if (typeof (root._bokeh_onload_callbacks) === \"undefined\" || force === true) {\n    root._bokeh_onload_callbacks = [];\n    root._bokeh_is_loading = undefined;\n  }\n\n  var JS_MIME_TYPE = 'application/javascript';\n  var HTML_MIME_TYPE = 'text/html';\n  var EXEC_MIME_TYPE = 'application/vnd.bokehjs_exec.v0+json';\n  var CLASS_NAME = 'output_bokeh rendered_html';\n\n  /**\n   * Render data to the DOM node\n   */\n  function render(props, node) {\n    var script = document.createElement(\"script\");\n    node.appendChild(script);\n  }\n\n  /**\n   * Handle when an output is cleared or removed\n   */\n  function handleClearOutput(event, handle) {\n    var cell = handle.cell;\n\n    var id = cell.output_area._bokeh_element_id;\n    var server_id = cell.output_area._bokeh_server_id;\n    // Clean up Bokeh references\n    if (id != null && id in Bokeh.index) {\n      Bokeh.index[id].model.document.clear();\n      delete Bokeh.index[id];\n    }\n\n    if (server_id !== undefined) {\n      // Clean up Bokeh references\n      var cmd = \"from bokeh.io.state import curstate; print(curstate().uuid_to_server['\" + server_id + \"'].get_sessions()[0].document.roots[0]._id)\";\n      cell.notebook.kernel.execute(cmd, {\n        iopub: {\n          output: function(msg) {\n            var id = msg.content.text.trim();\n            if (id in Bokeh.index) {\n              Bokeh.index[id].model.document.clear();\n              delete Bokeh.index[id];\n            }\n          }\n        }\n      });\n      // Destroy server and session\n      var cmd = \"import bokeh.io.notebook as ion; ion.destroy_server('\" + server_id + \"')\";\n      cell.notebook.kernel.execute(cmd);\n    }\n  }\n\n  /**\n   * Handle when a new output is added\n   */\n  function handleAddOutput(event, handle) {\n    var output_area = handle.output_area;\n    var output = handle.output;\n\n    // limit handleAddOutput to display_data with EXEC_MIME_TYPE content only\n    if ((output.output_type != \"display_data\") || (!output.data.hasOwnProperty(EXEC_MIME_TYPE))) {\n      return\n    }\n\n    var toinsert = output_area.element.find(\".\" + CLASS_NAME.split(' ')[0]);\n\n    if (output.metadata[EXEC_MIME_TYPE][\"id\"] !== undefined) {\n      toinsert[toinsert.length - 1].firstChild.textContent = output.data[JS_MIME_TYPE];\n      // store reference to embed id on output_area\n      output_area._bokeh_element_id = output.metadata[EXEC_MIME_TYPE][\"id\"];\n    }\n    if (output.metadata[EXEC_MIME_TYPE][\"server_id\"] !== undefined) {\n      var bk_div = document.createElement(\"div\");\n      bk_div.innerHTML = output.data[HTML_MIME_TYPE];\n      var script_attrs = bk_div.children[0].attributes;\n      for (var i = 0; i < script_attrs.length; i++) {\n        toinsert[toinsert.length - 1].firstChild.setAttribute(script_attrs[i].name, script_attrs[i].value);\n      }\n      // store reference to server id on output_area\n      output_area._bokeh_server_id = output.metadata[EXEC_MIME_TYPE][\"server_id\"];\n    }\n  }\n\n  function register_renderer(events, OutputArea) {\n\n    function append_mime(data, metadata, element) {\n      // create a DOM node to render to\n      var toinsert = this.create_output_subarea(\n        metadata,\n        CLASS_NAME,\n        EXEC_MIME_TYPE\n      );\n      this.keyboard_manager.register_events(toinsert);\n      // Render to node\n      var props = {data: data, metadata: metadata[EXEC_MIME_TYPE]};\n      render(props, toinsert[toinsert.length - 1]);\n      element.append(toinsert);\n      return toinsert\n    }\n\n    /* Handle when an output is cleared or removed */\n    events.on('clear_output.CodeCell', handleClearOutput);\n    events.on('delete.Cell', handleClearOutput);\n\n    /* Handle when a new output is added */\n    events.on('output_added.OutputArea', handleAddOutput);\n\n    /**\n     * Register the mime type and append_mime function with output_area\n     */\n    OutputArea.prototype.register_mime_type(EXEC_MIME_TYPE, append_mime, {\n      /* Is output safe? */\n      safe: true,\n      /* Index of renderer in `output_area.display_order` */\n      index: 0\n    });\n  }\n\n  // register the mime type if in Jupyter Notebook environment and previously unregistered\n  if (root.Jupyter !== undefined) {\n    var events = require('base/js/events');\n    var OutputArea = require('notebook/js/outputarea').OutputArea;\n\n    if (OutputArea.prototype.mime_types().indexOf(EXEC_MIME_TYPE) == -1) {\n      register_renderer(events, OutputArea);\n    }\n  }\n\n  \n  if (typeof (root._bokeh_timeout) === \"undefined\" || force === true) {\n    root._bokeh_timeout = Date.now() + 5000;\n    root._bokeh_failed_load = false;\n  }\n\n  var NB_LOAD_WARNING = {'data': {'text/html':\n     \"<div style='background-color: #fdd'>\\n\"+\n     \"<p>\\n\"+\n     \"BokehJS does not appear to have successfully loaded. If loading BokehJS from CDN, this \\n\"+\n     \"may be due to a slow or bad network connection. Possible fixes:\\n\"+\n     \"</p>\\n\"+\n     \"<ul>\\n\"+\n     \"<li>re-rerun `output_notebook()` to attempt to load from CDN again, or</li>\\n\"+\n     \"<li>use INLINE resources instead, as so:</li>\\n\"+\n     \"</ul>\\n\"+\n     \"<code>\\n\"+\n     \"from bokeh.resources import INLINE\\n\"+\n     \"output_notebook(resources=INLINE)\\n\"+\n     \"</code>\\n\"+\n     \"</div>\"}};\n\n  function display_loaded() {\n    var el = document.getElementById(\"1001\");\n    if (el != null) {\n      el.textContent = \"BokehJS is loading...\";\n    }\n    if (root.Bokeh !== undefined) {\n      if (el != null) {\n        el.textContent = \"BokehJS \" + root.Bokeh.version + \" successfully loaded.\";\n      }\n    } else if (Date.now() < root._bokeh_timeout) {\n      setTimeout(display_loaded, 100)\n    }\n  }\n\n\n  function run_callbacks() {\n    try {\n      root._bokeh_onload_callbacks.forEach(function(callback) { callback() });\n    }\n    finally {\n      delete root._bokeh_onload_callbacks\n    }\n    console.info(\"Bokeh: all callbacks have finished\");\n  }\n\n  function load_libs(js_urls, callback) {\n    root._bokeh_onload_callbacks.push(callback);\n    if (root._bokeh_is_loading > 0) {\n      console.log(\"Bokeh: BokehJS is being loaded, scheduling callback at\", now());\n      return null;\n    }\n    if (js_urls == null || js_urls.length === 0) {\n      run_callbacks();\n      return null;\n    }\n    console.log(\"Bokeh: BokehJS not loaded, scheduling load and callback at\", now());\n    root._bokeh_is_loading = js_urls.length;\n    for (var i = 0; i < js_urls.length; i++) {\n      var url = js_urls[i];\n      var s = document.createElement('script');\n      s.src = url;\n      s.async = false;\n      s.onreadystatechange = s.onload = function() {\n        root._bokeh_is_loading--;\n        if (root._bokeh_is_loading === 0) {\n          console.log(\"Bokeh: all BokehJS libraries loaded\");\n          run_callbacks()\n        }\n      };\n      s.onerror = function() {\n        console.warn(\"failed to load library \" + url);\n      };\n      console.log(\"Bokeh: injecting script tag for BokehJS library: \", url);\n      document.getElementsByTagName(\"head\")[0].appendChild(s);\n    }\n  };var element = document.getElementById(\"1001\");\n  if (element == null) {\n    console.log(\"Bokeh: ERROR: autoload.js configured with elementid '1001' but no matching script tag was found. \")\n    return false;\n  }\n\n  var js_urls = [\"https://cdn.pydata.org/bokeh/release/bokeh-1.0.4.min.js\", \"https://cdn.pydata.org/bokeh/release/bokeh-widgets-1.0.4.min.js\", \"https://cdn.pydata.org/bokeh/release/bokeh-tables-1.0.4.min.js\", \"https://cdn.pydata.org/bokeh/release/bokeh-gl-1.0.4.min.js\"];\n\n  var inline_js = [\n    function(Bokeh) {\n      Bokeh.set_log_level(\"info\");\n    },\n    \n    function(Bokeh) {\n      \n    },\n    function(Bokeh) {\n      console.log(\"Bokeh: injecting CSS: https://cdn.pydata.org/bokeh/release/bokeh-1.0.4.min.css\");\n      Bokeh.embed.inject_css(\"https://cdn.pydata.org/bokeh/release/bokeh-1.0.4.min.css\");\n      console.log(\"Bokeh: injecting CSS: https://cdn.pydata.org/bokeh/release/bokeh-widgets-1.0.4.min.css\");\n      Bokeh.embed.inject_css(\"https://cdn.pydata.org/bokeh/release/bokeh-widgets-1.0.4.min.css\");\n      console.log(\"Bokeh: injecting CSS: https://cdn.pydata.org/bokeh/release/bokeh-tables-1.0.4.min.css\");\n      Bokeh.embed.inject_css(\"https://cdn.pydata.org/bokeh/release/bokeh-tables-1.0.4.min.css\");\n    }\n  ];\n\n  function run_inline_js() {\n    \n    if ((root.Bokeh !== undefined) || (force === true)) {\n      for (var i = 0; i < inline_js.length; i++) {\n        inline_js[i].call(root, root.Bokeh);\n      }if (force === true) {\n        display_loaded();\n      }} else if (Date.now() < root._bokeh_timeout) {\n      setTimeout(run_inline_js, 100);\n    } else if (!root._bokeh_failed_load) {\n      console.log(\"Bokeh: BokehJS failed to load within specified timeout.\");\n      root._bokeh_failed_load = true;\n    } else if (force !== true) {\n      var cell = $(document.getElementById(\"1001\")).parents('.cell').data().cell;\n      cell.output_area.append_execute_result(NB_LOAD_WARNING)\n    }\n\n  }\n\n  if (root._bokeh_is_loading === 0) {\n    console.log(\"Bokeh: BokehJS loaded, going straight to plotting\");\n    run_inline_js();\n  } else {\n    load_libs(js_urls, function() {\n      console.log(\"Bokeh: BokehJS plotting callback run at\", now());\n      run_inline_js();\n    });\n  }\n}(window));",
                        "application/vnd.bokehjs_load.v0+json": "\n(function(root) {\n  function now() {\n    return new Date();\n  }\n\n  var force = true;\n\n  if (typeof (root._bokeh_onload_callbacks) === \"undefined\" || force === true) {\n    root._bokeh_onload_callbacks = [];\n    root._bokeh_is_loading = undefined;\n  }\n\n  \n\n  \n  if (typeof (root._bokeh_timeout) === \"undefined\" || force === true) {\n    root._bokeh_timeout = Date.now() + 5000;\n    root._bokeh_failed_load = false;\n  }\n\n  var NB_LOAD_WARNING = {'data': {'text/html':\n     \"<div style='background-color: #fdd'>\\n\"+\n     \"<p>\\n\"+\n     \"BokehJS does not appear to have successfully loaded. If loading BokehJS from CDN, this \\n\"+\n     \"may be due to a slow or bad network connection. Possible fixes:\\n\"+\n     \"</p>\\n\"+\n     \"<ul>\\n\"+\n     \"<li>re-rerun `output_notebook()` to attempt to load from CDN again, or</li>\\n\"+\n     \"<li>use INLINE resources instead, as so:</li>\\n\"+\n     \"</ul>\\n\"+\n     \"<code>\\n\"+\n     \"from bokeh.resources import INLINE\\n\"+\n     \"output_notebook(resources=INLINE)\\n\"+\n     \"</code>\\n\"+\n     \"</div>\"}};\n\n  function display_loaded() {\n    var el = document.getElementById(\"1001\");\n    if (el != null) {\n      el.textContent = \"BokehJS is loading...\";\n    }\n    if (root.Bokeh !== undefined) {\n      if (el != null) {\n        el.textContent = \"BokehJS \" + root.Bokeh.version + \" successfully loaded.\";\n      }\n    } else if (Date.now() < root._bokeh_timeout) {\n      setTimeout(display_loaded, 100)\n    }\n  }\n\n\n  function run_callbacks() {\n    try {\n      root._bokeh_onload_callbacks.forEach(function(callback) { callback() });\n    }\n    finally {\n      delete root._bokeh_onload_callbacks\n    }\n    console.info(\"Bokeh: all callbacks have finished\");\n  }\n\n  function load_libs(js_urls, callback) {\n    root._bokeh_onload_callbacks.push(callback);\n    if (root._bokeh_is_loading > 0) {\n      console.log(\"Bokeh: BokehJS is being loaded, scheduling callback at\", now());\n      return null;\n    }\n    if (js_urls == null || js_urls.length === 0) {\n      run_callbacks();\n      return null;\n    }\n    console.log(\"Bokeh: BokehJS not loaded, scheduling load and callback at\", now());\n    root._bokeh_is_loading = js_urls.length;\n    for (var i = 0; i < js_urls.length; i++) {\n      var url = js_urls[i];\n      var s = document.createElement('script');\n      s.src = url;\n      s.async = false;\n      s.onreadystatechange = s.onload = function() {\n        root._bokeh_is_loading--;\n        if (root._bokeh_is_loading === 0) {\n          console.log(\"Bokeh: all BokehJS libraries loaded\");\n          run_callbacks()\n        }\n      };\n      s.onerror = function() {\n        console.warn(\"failed to load library \" + url);\n      };\n      console.log(\"Bokeh: injecting script tag for BokehJS library: \", url);\n      document.getElementsByTagName(\"head\")[0].appendChild(s);\n    }\n  };var element = document.getElementById(\"1001\");\n  if (element == null) {\n    console.log(\"Bokeh: ERROR: autoload.js configured with elementid '1001' but no matching script tag was found. \")\n    return false;\n  }\n\n  var js_urls = [\"https://cdn.pydata.org/bokeh/release/bokeh-1.0.4.min.js\", \"https://cdn.pydata.org/bokeh/release/bokeh-widgets-1.0.4.min.js\", \"https://cdn.pydata.org/bokeh/release/bokeh-tables-1.0.4.min.js\", \"https://cdn.pydata.org/bokeh/release/bokeh-gl-1.0.4.min.js\"];\n\n  var inline_js = [\n    function(Bokeh) {\n      Bokeh.set_log_level(\"info\");\n    },\n    \n    function(Bokeh) {\n      \n    },\n    function(Bokeh) {\n      console.log(\"Bokeh: injecting CSS: https://cdn.pydata.org/bokeh/release/bokeh-1.0.4.min.css\");\n      Bokeh.embed.inject_css(\"https://cdn.pydata.org/bokeh/release/bokeh-1.0.4.min.css\");\n      console.log(\"Bokeh: injecting CSS: https://cdn.pydata.org/bokeh/release/bokeh-widgets-1.0.4.min.css\");\n      Bokeh.embed.inject_css(\"https://cdn.pydata.org/bokeh/release/bokeh-widgets-1.0.4.min.css\");\n      console.log(\"Bokeh: injecting CSS: https://cdn.pydata.org/bokeh/release/bokeh-tables-1.0.4.min.css\");\n      Bokeh.embed.inject_css(\"https://cdn.pydata.org/bokeh/release/bokeh-tables-1.0.4.min.css\");\n    }\n  ];\n\n  function run_inline_js() {\n    \n    if ((root.Bokeh !== undefined) || (force === true)) {\n      for (var i = 0; i < inline_js.length; i++) {\n        inline_js[i].call(root, root.Bokeh);\n      }if (force === true) {\n        display_loaded();\n      }} else if (Date.now() < root._bokeh_timeout) {\n      setTimeout(run_inline_js, 100);\n    } else if (!root._bokeh_failed_load) {\n      console.log(\"Bokeh: BokehJS failed to load within specified timeout.\");\n      root._bokeh_failed_load = true;\n    } else if (force !== true) {\n      var cell = $(document.getElementById(\"1001\")).parents('.cell').data().cell;\n      cell.output_area.append_execute_result(NB_LOAD_WARNING)\n    }\n\n  }\n\n  if (root._bokeh_is_loading === 0) {\n    console.log(\"Bokeh: BokehJS loaded, going straight to plotting\");\n    run_inline_js();\n  } else {\n    load_libs(js_urls, function() {\n      console.log(\"Bokeh: BokehJS plotting callback run at\", now());\n      run_inline_js();\n    });\n  }\n}(window));"
                    },
                    "metadata": {},
                    "output_type": "display_data"
                },
                {
                    "name": "stdout",
                    "output_type": "stream",
                    "text": "[501, 87, 732, 150]\n"
                },
                {
                    "data": {
                        "text/html": "\n\n\n\n\n\n  <div class=\"bk-root\" id=\"98301fe1-a88a-4777-b703-edd67271cfe9\" data-root-id=\"1004\"></div>\n"
                    },
                    "metadata": {},
                    "output_type": "display_data"
                },
                {
                    "data": {
                        "application/javascript": "(function(root) {\n  function embed_document(root) {\n    \n  var docs_json = {\"a280c04d-851c-465e-9b79-73534e3749c1\":{\"roots\":{\"references\":[{\"attributes\":{\"below\":[{\"id\":\"1014\",\"type\":\"CategoricalAxis\"}],\"left\":[{\"id\":\"1018\",\"type\":\"LinearAxis\"}],\"plot_height\":350,\"renderers\":[{\"id\":\"1014\",\"type\":\"CategoricalAxis\"},{\"id\":\"1017\",\"type\":\"Grid\"},{\"id\":\"1018\",\"type\":\"LinearAxis\"},{\"id\":\"1022\",\"type\":\"Grid\"},{\"id\":\"1031\",\"type\":\"BoxAnnotation\"},{\"id\":\"1041\",\"type\":\"GlyphRenderer\"}],\"title\":{\"id\":\"1003\",\"type\":\"Title\"},\"toolbar\":{\"id\":\"1029\",\"type\":\"Toolbar\"},\"x_range\":{\"id\":\"1006\",\"type\":\"FactorRange\"},\"x_scale\":{\"id\":\"1010\",\"type\":\"CategoricalScale\"},\"y_range\":{\"id\":\"1008\",\"type\":\"DataRange1d\"},\"y_scale\":{\"id\":\"1012\",\"type\":\"LinearScale\"}},\"id\":\"1004\",\"subtype\":\"Figure\",\"type\":\"Plot\"},{\"attributes\":{},\"id\":\"1049\",\"type\":\"Selection\"},{\"attributes\":{},\"id\":\"1012\",\"type\":\"LinearScale\"},{\"attributes\":{\"fill_alpha\":{\"value\":0.1},\"fill_color\":{\"value\":\"#1f77b4\"},\"line_alpha\":{\"value\":0.1},\"line_color\":{\"value\":\"#1f77b4\"},\"top\":{\"field\":\"count\"},\"width\":{\"value\":0.9},\"x\":{\"field\":\"Gender_Attrition\"}},\"id\":\"1040\",\"type\":\"VBar\"},{\"attributes\":{\"plot\":{\"id\":\"1004\",\"subtype\":\"Figure\",\"type\":\"Plot\"},\"ticker\":{\"id\":\"1015\",\"type\":\"CategoricalTicker\"}},\"id\":\"1017\",\"type\":\"Grid\"},{\"attributes\":{},\"id\":\"1015\",\"type\":\"CategoricalTicker\"},{\"attributes\":{\"plot\":null,\"text\":\"Counts\"},\"id\":\"1003\",\"type\":\"Title\"},{\"attributes\":{\"formatter\":{\"id\":\"1044\",\"type\":\"CategoricalTickFormatter\"},\"plot\":{\"id\":\"1004\",\"subtype\":\"Figure\",\"type\":\"Plot\"},\"ticker\":{\"id\":\"1015\",\"type\":\"CategoricalTicker\"}},\"id\":\"1014\",\"type\":\"CategoricalAxis\"},{\"attributes\":{\"formatter\":{\"id\":\"1046\",\"type\":\"BasicTickFormatter\"},\"plot\":{\"id\":\"1004\",\"subtype\":\"Figure\",\"type\":\"Plot\"},\"ticker\":{\"id\":\"1019\",\"type\":\"BasicTicker\"}},\"id\":\"1018\",\"type\":\"LinearAxis\"},{\"attributes\":{},\"id\":\"1019\",\"type\":\"BasicTicker\"},{\"attributes\":{\"dimension\":1,\"plot\":{\"id\":\"1004\",\"subtype\":\"Figure\",\"type\":\"Plot\"},\"ticker\":{\"id\":\"1019\",\"type\":\"BasicTicker\"}},\"id\":\"1022\",\"type\":\"Grid\"},{\"attributes\":{},\"id\":\"1044\",\"type\":\"CategoricalTickFormatter\"},{\"attributes\":{\"data_source\":{\"id\":\"1002\",\"type\":\"ColumnDataSource\"},\"glyph\":{\"id\":\"1039\",\"type\":\"VBar\"},\"hover_glyph\":null,\"muted_glyph\":null,\"nonselection_glyph\":{\"id\":\"1040\",\"type\":\"VBar\"},\"selection_glyph\":null,\"view\":{\"id\":\"1042\",\"type\":\"CDSView\"}},\"id\":\"1041\",\"type\":\"GlyphRenderer\"},{\"attributes\":{\"callback\":null,\"data\":{\"Gender_Attrition\":[\"0-0\",\"0-1\",\"1-0\",\"1-1\"],\"color\":[\"#440154\",\"#3B518A\",\"#208F8C\",\"#5BC862\",\"#FDE724\"],\"count\":[501,87,732,150]},\"selected\":{\"id\":\"1049\",\"type\":\"Selection\"},\"selection_policy\":{\"id\":\"1048\",\"type\":\"UnionRenderers\"}},\"id\":\"1002\",\"type\":\"ColumnDataSource\"},{\"attributes\":{},\"id\":\"1023\",\"type\":\"PanTool\"},{\"attributes\":{\"fill_color\":{\"field\":\"color\"},\"line_color\":{\"field\":\"color\"},\"top\":{\"field\":\"count\"},\"width\":{\"value\":0.9},\"x\":{\"field\":\"Gender_Attrition\"}},\"id\":\"1039\",\"type\":\"VBar\"},{\"attributes\":{},\"id\":\"1010\",\"type\":\"CategoricalScale\"},{\"attributes\":{},\"id\":\"1024\",\"type\":\"WheelZoomTool\"},{\"attributes\":{\"overlay\":{\"id\":\"1031\",\"type\":\"BoxAnnotation\"}},\"id\":\"1025\",\"type\":\"BoxZoomTool\"},{\"attributes\":{\"callback\":null,\"factors\":[\"0-0\",\"0-1\",\"1-0\",\"1-1\"]},\"id\":\"1006\",\"type\":\"FactorRange\"},{\"attributes\":{\"callback\":null},\"id\":\"1008\",\"type\":\"DataRange1d\"},{\"attributes\":{},\"id\":\"1026\",\"type\":\"SaveTool\"},{\"attributes\":{\"active_drag\":\"auto\",\"active_inspect\":\"auto\",\"active_multi\":null,\"active_scroll\":\"auto\",\"active_tap\":\"auto\",\"tools\":[{\"id\":\"1023\",\"type\":\"PanTool\"},{\"id\":\"1024\",\"type\":\"WheelZoomTool\"},{\"id\":\"1025\",\"type\":\"BoxZoomTool\"},{\"id\":\"1026\",\"type\":\"SaveTool\"},{\"id\":\"1027\",\"type\":\"ResetTool\"},{\"id\":\"1028\",\"type\":\"HelpTool\"}]},\"id\":\"1029\",\"type\":\"Toolbar\"},{\"attributes\":{},\"id\":\"1027\",\"type\":\"ResetTool\"},{\"attributes\":{\"source\":{\"id\":\"1002\",\"type\":\"ColumnDataSource\"}},\"id\":\"1042\",\"type\":\"CDSView\"},{\"attributes\":{},\"id\":\"1028\",\"type\":\"HelpTool\"},{\"attributes\":{\"bottom_units\":\"screen\",\"fill_alpha\":{\"value\":0.5},\"fill_color\":{\"value\":\"lightgrey\"},\"left_units\":\"screen\",\"level\":\"overlay\",\"line_alpha\":{\"value\":1.0},\"line_color\":{\"value\":\"black\"},\"line_dash\":[4,4],\"line_width\":{\"value\":2},\"plot\":null,\"render_mode\":\"css\",\"right_units\":\"screen\",\"top_units\":\"screen\"},\"id\":\"1031\",\"type\":\"BoxAnnotation\"},{\"attributes\":{},\"id\":\"1046\",\"type\":\"BasicTickFormatter\"},{\"attributes\":{},\"id\":\"1048\",\"type\":\"UnionRenderers\"}],\"root_ids\":[\"1004\"]},\"title\":\"Bokeh Application\",\"version\":\"1.0.4\"}};\n  var render_items = [{\"docid\":\"a280c04d-851c-465e-9b79-73534e3749c1\",\"roots\":{\"1004\":\"98301fe1-a88a-4777-b703-edd67271cfe9\"}}];\n  root.Bokeh.embed.embed_items_notebook(docs_json, render_items);\n\n  }\n  if (root.Bokeh !== undefined) {\n    embed_document(root);\n  } else {\n    var attempts = 0;\n    var timer = setInterval(function(root) {\n      if (root.Bokeh !== undefined) {\n        embed_document(root);\n        clearInterval(timer);\n      }\n      attempts++;\n      if (attempts > 100) {\n        console.log(\"Bokeh: ERROR: Unable to run BokehJS code because BokehJS library is missing\");\n        clearInterval(timer);\n      }\n    }, 10, root)\n  }\n})(window);",
                        "application/vnd.bokehjs_exec.v0+json": ""
                    },
                    "metadata": {
                        "application/vnd.bokehjs_exec.v0+json": {
                            "id": "1004"
                        }
                    },
                    "output_type": "display_data"
                }
            ],
            "source": "output_notebook() \n\n# x and y axes\nGender_Attrition = df_age['Gender-attrition'].tolist()\ncount = df_age['count'].tolist()\n\nprint(count)\n\n# Bokeh's mapping of column names and data lists\nsource = ColumnDataSource(data=dict(Gender_Attrition=Gender_Attrition, count=count, color=Viridis5))\n\nplot_bar = figure(x_range=Gender_Attrition, plot_height=350, title=\"Counts\")\n\n# Render and show the vbar plot\nplot_bar.vbar(x='Gender_Attrition', top='count', width=0.9, color='color', source=source)\nshow(plot_bar)\n"
        },
        {
            "cell_type": "markdown",
            "metadata": {},
            "source": "#### Findings\n\nFrom the above plot, we can infer that male employees are likely to leave organization as they amount to 63% compared to female who have 36 % attrition rate."
        },
        {
            "cell_type": "markdown",
            "metadata": {},
            "source": "### 3.3.7 Job Role Vs Attrition"
        },
        {
            "cell_type": "markdown",
            "metadata": {},
            "source": "Categories in job role:\n* Healthcare Representative : 0 \n* Human Resources : 1\n* Laboratory Technician : 2\n* Manager : 3 \n* Manufacturing Director : 4\n* Research Director : 5\n* Research Scientist : 6\n* Sales Executive : 7 \n* Sales Representative : 8"
        },
        {
            "cell_type": "code",
            "execution_count": 32,
            "metadata": {},
            "outputs": [],
            "source": "df_jrole = pd.DataFrame({'count': data_encoded.groupby([\"JobRole\", \"Attrition\"]).size()}).reset_index()"
        },
        {
            "cell_type": "code",
            "execution_count": 33,
            "metadata": {},
            "outputs": [],
            "source": "#Considering attrition case\ndf_jrole_1 = df_jrole.loc[df_jrole['Attrition'] == 1]"
        },
        {
            "cell_type": "code",
            "execution_count": 34,
            "metadata": {},
            "outputs": [
                {
                    "data": {
                        "image/svg+xml": "<svg class=\"pygal-chart\" id=\"chart-ed609d93-bca5-49c1-95eb-b5139e073b35\" viewBox=\"0 0 800 600\" xmlns=\"http://www.w3.org/2000/svg\" xmlns:xlink=\"http://www.w3.org/1999/xlink\"><!--Generated with pygal 2.4.0 (lxml) \u00a9Kozea 2012-2016 on 2019-11-11--><!--http://pygal.org--><!--http://github.com/Kozea/pygal--><defs><style type=\"text/css\">#chart-ed609d93-bca5-49c1-95eb-b5139e073b35{-webkit-user-select:none;-webkit-font-smoothing:antialiased;font-family:Consolas,&quot;Liberation Mono&quot;,Menlo,Courier,monospace}#chart-ed609d93-bca5-49c1-95eb-b5139e073b35 .title{font-family:Consolas,&quot;Liberation Mono&quot;,Menlo,Courier,monospace;font-size:16px}#chart-ed609d93-bca5-49c1-95eb-b5139e073b35 .legends .legend text{font-family:Consolas,&quot;Liberation Mono&quot;,Menlo,Courier,monospace;font-size:14px}#chart-ed609d93-bca5-49c1-95eb-b5139e073b35 .axis text{font-family:Consolas,&quot;Liberation Mono&quot;,Menlo,Courier,monospace;font-size:10px}#chart-ed609d93-bca5-49c1-95eb-b5139e073b35 .axis text.major{font-family:Consolas,&quot;Liberation Mono&quot;,Menlo,Courier,monospace;font-size:10px}#chart-ed609d93-bca5-49c1-95eb-b5139e073b35 .text-overlay text.value{font-family:Consolas,&quot;Liberation Mono&quot;,Menlo,Courier,monospace;font-size:16px}#chart-ed609d93-bca5-49c1-95eb-b5139e073b35 .text-overlay text.label{font-family:Consolas,&quot;Liberation Mono&quot;,Menlo,Courier,monospace;font-size:10px}#chart-ed609d93-bca5-49c1-95eb-b5139e073b35 .tooltip{font-family:Consolas,&quot;Liberation Mono&quot;,Menlo,Courier,monospace;font-size:14px}#chart-ed609d93-bca5-49c1-95eb-b5139e073b35 text.no_data{font-family:Consolas,&quot;Liberation Mono&quot;,Menlo,Courier,monospace;font-size:64px}\n#chart-ed609d93-bca5-49c1-95eb-b5139e073b35{background-color:rgba(249,249,249,1)}#chart-ed609d93-bca5-49c1-95eb-b5139e073b35 path,#chart-ed609d93-bca5-49c1-95eb-b5139e073b35 line,#chart-ed609d93-bca5-49c1-95eb-b5139e073b35 rect,#chart-ed609d93-bca5-49c1-95eb-b5139e073b35 circle{-webkit-transition:150ms;-moz-transition:150ms;transition:150ms}#chart-ed609d93-bca5-49c1-95eb-b5139e073b35 .graph &gt; .background{fill:rgba(249,249,249,1)}#chart-ed609d93-bca5-49c1-95eb-b5139e073b35 .plot &gt; .background{fill:rgba(255,255,255,1)}#chart-ed609d93-bca5-49c1-95eb-b5139e073b35 .graph{fill:rgba(0,0,0,.87)}#chart-ed609d93-bca5-49c1-95eb-b5139e073b35 text.no_data{fill:rgba(0,0,0,1)}#chart-ed609d93-bca5-49c1-95eb-b5139e073b35 .title{fill:rgba(0,0,0,1)}#chart-ed609d93-bca5-49c1-95eb-b5139e073b35 .legends .legend text{fill:rgba(0,0,0,.87)}#chart-ed609d93-bca5-49c1-95eb-b5139e073b35 .legends .legend:hover text{fill:rgba(0,0,0,1)}#chart-ed609d93-bca5-49c1-95eb-b5139e073b35 .axis .line{stroke:rgba(0,0,0,1)}#chart-ed609d93-bca5-49c1-95eb-b5139e073b35 .axis .guide.line{stroke:rgba(0,0,0,.54)}#chart-ed609d93-bca5-49c1-95eb-b5139e073b35 .axis .major.line{stroke:rgba(0,0,0,.87)}#chart-ed609d93-bca5-49c1-95eb-b5139e073b35 .axis text.major{fill:rgba(0,0,0,1)}#chart-ed609d93-bca5-49c1-95eb-b5139e073b35 .axis.y .guides:hover .guide.line,#chart-ed609d93-bca5-49c1-95eb-b5139e073b35 .line-graph .axis.x .guides:hover .guide.line,#chart-ed609d93-bca5-49c1-95eb-b5139e073b35 .stackedline-graph .axis.x .guides:hover .guide.line,#chart-ed609d93-bca5-49c1-95eb-b5139e073b35 .xy-graph .axis.x .guides:hover .guide.line{stroke:rgba(0,0,0,1)}#chart-ed609d93-bca5-49c1-95eb-b5139e073b35 .axis .guides:hover text{fill:rgba(0,0,0,1)}#chart-ed609d93-bca5-49c1-95eb-b5139e073b35 .reactive{fill-opacity:.7;stroke-opacity:.8}#chart-ed609d93-bca5-49c1-95eb-b5139e073b35 .ci{stroke:rgba(0,0,0,.87)}#chart-ed609d93-bca5-49c1-95eb-b5139e073b35 .reactive.active,#chart-ed609d93-bca5-49c1-95eb-b5139e073b35 .active .reactive{fill-opacity:.8;stroke-opacity:.9;stroke-width:4}#chart-ed609d93-bca5-49c1-95eb-b5139e073b35 .ci .reactive.active{stroke-width:1.5}#chart-ed609d93-bca5-49c1-95eb-b5139e073b35 .series text{fill:rgba(0,0,0,1)}#chart-ed609d93-bca5-49c1-95eb-b5139e073b35 .tooltip rect{fill:rgba(255,255,255,1);stroke:rgba(0,0,0,1);-webkit-transition:opacity 150ms;-moz-transition:opacity 150ms;transition:opacity 150ms}#chart-ed609d93-bca5-49c1-95eb-b5139e073b35 .tooltip .label{fill:rgba(0,0,0,.87)}#chart-ed609d93-bca5-49c1-95eb-b5139e073b35 .tooltip .label{fill:rgba(0,0,0,.87)}#chart-ed609d93-bca5-49c1-95eb-b5139e073b35 .tooltip .legend{font-size:.8em;fill:rgba(0,0,0,.54)}#chart-ed609d93-bca5-49c1-95eb-b5139e073b35 .tooltip .x_label{font-size:.6em;fill:rgba(0,0,0,1)}#chart-ed609d93-bca5-49c1-95eb-b5139e073b35 .tooltip .xlink{font-size:.5em;text-decoration:underline}#chart-ed609d93-bca5-49c1-95eb-b5139e073b35 .tooltip .value{font-size:1.5em}#chart-ed609d93-bca5-49c1-95eb-b5139e073b35 .bound{font-size:.5em}#chart-ed609d93-bca5-49c1-95eb-b5139e073b35 .max-value{font-size:.75em;fill:rgba(0,0,0,.54)}#chart-ed609d93-bca5-49c1-95eb-b5139e073b35 .map-element{fill:rgba(255,255,255,1);stroke:rgba(0,0,0,.54) !important}#chart-ed609d93-bca5-49c1-95eb-b5139e073b35 .map-element .reactive{fill-opacity:inherit;stroke-opacity:inherit}#chart-ed609d93-bca5-49c1-95eb-b5139e073b35 .color-0,#chart-ed609d93-bca5-49c1-95eb-b5139e073b35 .color-0 a:visited{stroke:#F44336;fill:#F44336}#chart-ed609d93-bca5-49c1-95eb-b5139e073b35 .text-overlay .color-0 text{fill:black}\n#chart-ed609d93-bca5-49c1-95eb-b5139e073b35 text.no_data{text-anchor:middle}#chart-ed609d93-bca5-49c1-95eb-b5139e073b35 .guide.line{fill:none}#chart-ed609d93-bca5-49c1-95eb-b5139e073b35 .centered{text-anchor:middle}#chart-ed609d93-bca5-49c1-95eb-b5139e073b35 .title{text-anchor:middle}#chart-ed609d93-bca5-49c1-95eb-b5139e073b35 .legends .legend text{fill-opacity:1}#chart-ed609d93-bca5-49c1-95eb-b5139e073b35 .axis.x text{text-anchor:middle}#chart-ed609d93-bca5-49c1-95eb-b5139e073b35 .axis.x:not(.web) text[transform]{text-anchor:start}#chart-ed609d93-bca5-49c1-95eb-b5139e073b35 .axis.x:not(.web) text[transform].backwards{text-anchor:end}#chart-ed609d93-bca5-49c1-95eb-b5139e073b35 .axis.y text{text-anchor:end}#chart-ed609d93-bca5-49c1-95eb-b5139e073b35 .axis.y text[transform].backwards{text-anchor:start}#chart-ed609d93-bca5-49c1-95eb-b5139e073b35 .axis.y2 text{text-anchor:start}#chart-ed609d93-bca5-49c1-95eb-b5139e073b35 .axis.y2 text[transform].backwards{text-anchor:end}#chart-ed609d93-bca5-49c1-95eb-b5139e073b35 .axis .guide.line{stroke-dasharray:4,4}#chart-ed609d93-bca5-49c1-95eb-b5139e073b35 .axis .major.guide.line{stroke-dasharray:6,6}#chart-ed609d93-bca5-49c1-95eb-b5139e073b35 .horizontal .axis.y .guide.line,#chart-ed609d93-bca5-49c1-95eb-b5139e073b35 .horizontal .axis.y2 .guide.line,#chart-ed609d93-bca5-49c1-95eb-b5139e073b35 .vertical .axis.x .guide.line{opacity:0}#chart-ed609d93-bca5-49c1-95eb-b5139e073b35 .horizontal .axis.always_show .guide.line,#chart-ed609d93-bca5-49c1-95eb-b5139e073b35 .vertical .axis.always_show .guide.line{opacity:1 !important}#chart-ed609d93-bca5-49c1-95eb-b5139e073b35 .axis.y .guides:hover .guide.line,#chart-ed609d93-bca5-49c1-95eb-b5139e073b35 .axis.y2 .guides:hover .guide.line,#chart-ed609d93-bca5-49c1-95eb-b5139e073b35 .axis.x .guides:hover .guide.line{opacity:1}#chart-ed609d93-bca5-49c1-95eb-b5139e073b35 .axis .guides:hover text{opacity:1}#chart-ed609d93-bca5-49c1-95eb-b5139e073b35 .nofill{fill:none}#chart-ed609d93-bca5-49c1-95eb-b5139e073b35 .subtle-fill{fill-opacity:.2}#chart-ed609d93-bca5-49c1-95eb-b5139e073b35 .dot{stroke-width:1px;fill-opacity:1}#chart-ed609d93-bca5-49c1-95eb-b5139e073b35 .dot.active{stroke-width:5px}#chart-ed609d93-bca5-49c1-95eb-b5139e073b35 .dot.negative{fill:transparent}#chart-ed609d93-bca5-49c1-95eb-b5139e073b35 text,#chart-ed609d93-bca5-49c1-95eb-b5139e073b35 tspan{stroke:none !important}#chart-ed609d93-bca5-49c1-95eb-b5139e073b35 .series text.active{opacity:1}#chart-ed609d93-bca5-49c1-95eb-b5139e073b35 .tooltip rect{fill-opacity:.95;stroke-width:.5}#chart-ed609d93-bca5-49c1-95eb-b5139e073b35 .tooltip text{fill-opacity:1}#chart-ed609d93-bca5-49c1-95eb-b5139e073b35 .showable{visibility:hidden}#chart-ed609d93-bca5-49c1-95eb-b5139e073b35 .showable.shown{visibility:visible}#chart-ed609d93-bca5-49c1-95eb-b5139e073b35 .gauge-background{fill:rgba(229,229,229,1);stroke:none}#chart-ed609d93-bca5-49c1-95eb-b5139e073b35 .bg-lines{stroke:rgba(249,249,249,1);stroke-width:2px}</style><script type=\"text/javascript\">window.pygal = window.pygal || {};window.pygal.config = window.pygal.config || {};window.pygal.config['ed609d93-bca5-49c1-95eb-b5139e073b35'] = {&quot;allow_interruptions&quot;: false, &quot;box_mode&quot;: &quot;extremes&quot;, &quot;classes&quot;: [&quot;pygal-chart&quot;], &quot;css&quot;: [&quot;file://style.css&quot;, &quot;file://graph.css&quot;], &quot;defs&quot;: [], &quot;disable_xml_declaration&quot;: true, &quot;dots_size&quot;: 2.5, &quot;dynamic_print_values&quot;: false, &quot;explicit_size&quot;: false, &quot;fill&quot;: false, &quot;force_uri_protocol&quot;: &quot;https&quot;, &quot;formatter&quot;: null, &quot;half_pie&quot;: false, &quot;height&quot;: 600, &quot;include_x_axis&quot;: false, &quot;inner_radius&quot;: 0, &quot;interpolate&quot;: null, &quot;interpolation_parameters&quot;: {}, &quot;interpolation_precision&quot;: 250, &quot;inverse_y_axis&quot;: false, &quot;js&quot;: [&quot;//kozea.github.io/pygal.js/2.0.x/pygal-tooltips.min.js&quot;], &quot;legend_at_bottom&quot;: false, &quot;legend_at_bottom_columns&quot;: null, &quot;legend_box_size&quot;: 12, &quot;logarithmic&quot;: false, &quot;margin&quot;: 20, &quot;margin_bottom&quot;: null, &quot;margin_left&quot;: null, &quot;margin_right&quot;: null, &quot;margin_top&quot;: null, &quot;max_scale&quot;: 16, &quot;min_scale&quot;: 4, &quot;missing_value_fill_truncation&quot;: &quot;x&quot;, &quot;no_data_text&quot;: &quot;No data&quot;, &quot;no_prefix&quot;: false, &quot;order_min&quot;: null, &quot;pretty_print&quot;: false, &quot;print_labels&quot;: false, &quot;print_values&quot;: true, &quot;print_values_position&quot;: &quot;center&quot;, &quot;print_zeroes&quot;: true, &quot;range&quot;: null, &quot;rounded_bars&quot;: null, &quot;secondary_range&quot;: null, &quot;show_dots&quot;: true, &quot;show_legend&quot;: true, &quot;show_minor_x_labels&quot;: true, &quot;show_minor_y_labels&quot;: true, &quot;show_only_major_dots&quot;: false, &quot;show_x_guides&quot;: false, &quot;show_x_labels&quot;: true, &quot;show_y_guides&quot;: true, &quot;show_y_labels&quot;: true, &quot;spacing&quot;: 10, &quot;stack_from_top&quot;: false, &quot;strict&quot;: false, &quot;stroke&quot;: true, &quot;stroke_style&quot;: null, &quot;style&quot;: {&quot;background&quot;: &quot;rgba(249, 249, 249, 1)&quot;, &quot;ci_colors&quot;: [], &quot;colors&quot;: [&quot;#F44336&quot;, &quot;#3F51B5&quot;, &quot;#009688&quot;, &quot;#FFC107&quot;, &quot;#FF5722&quot;, &quot;#9C27B0&quot;, &quot;#03A9F4&quot;, &quot;#8BC34A&quot;, &quot;#FF9800&quot;, &quot;#E91E63&quot;, &quot;#2196F3&quot;, &quot;#4CAF50&quot;, &quot;#FFEB3B&quot;, &quot;#673AB7&quot;, &quot;#00BCD4&quot;, &quot;#CDDC39&quot;, &quot;#9E9E9E&quot;, &quot;#607D8B&quot;], &quot;font_family&quot;: &quot;Consolas, \\&quot;Liberation Mono\\&quot;, Menlo, Courier, monospace&quot;, &quot;foreground&quot;: &quot;rgba(0, 0, 0, .87)&quot;, &quot;foreground_strong&quot;: &quot;rgba(0, 0, 0, 1)&quot;, &quot;foreground_subtle&quot;: &quot;rgba(0, 0, 0, .54)&quot;, &quot;guide_stroke_dasharray&quot;: &quot;4,4&quot;, &quot;label_font_family&quot;: &quot;Consolas, \\&quot;Liberation Mono\\&quot;, Menlo, Courier, monospace&quot;, &quot;label_font_size&quot;: 10, &quot;legend_font_family&quot;: &quot;Consolas, \\&quot;Liberation Mono\\&quot;, Menlo, Courier, monospace&quot;, &quot;legend_font_size&quot;: 14, &quot;major_guide_stroke_dasharray&quot;: &quot;6,6&quot;, &quot;major_label_font_family&quot;: &quot;Consolas, \\&quot;Liberation Mono\\&quot;, Menlo, Courier, monospace&quot;, &quot;major_label_font_size&quot;: 10, &quot;no_data_font_family&quot;: &quot;Consolas, \\&quot;Liberation Mono\\&quot;, Menlo, Courier, monospace&quot;, &quot;no_data_font_size&quot;: 64, &quot;opacity&quot;: &quot;.7&quot;, &quot;opacity_hover&quot;: &quot;.8&quot;, &quot;plot_background&quot;: &quot;rgba(255, 255, 255, 1)&quot;, &quot;stroke_opacity&quot;: &quot;.8&quot;, &quot;stroke_opacity_hover&quot;: &quot;.9&quot;, &quot;title_font_family&quot;: &quot;Consolas, \\&quot;Liberation Mono\\&quot;, Menlo, Courier, monospace&quot;, &quot;title_font_size&quot;: 16, &quot;tooltip_font_family&quot;: &quot;Consolas, \\&quot;Liberation Mono\\&quot;, Menlo, Courier, monospace&quot;, &quot;tooltip_font_size&quot;: 14, &quot;transition&quot;: &quot;150ms&quot;, &quot;value_background&quot;: &quot;rgba(229, 229, 229, 1)&quot;, &quot;value_colors&quot;: [], &quot;value_font_family&quot;: &quot;Consolas, \\&quot;Liberation Mono\\&quot;, Menlo, Courier, monospace&quot;, &quot;value_font_size&quot;: 16, &quot;value_label_font_family&quot;: &quot;Consolas, \\&quot;Liberation Mono\\&quot;, Menlo, Courier, monospace&quot;, &quot;value_label_font_size&quot;: 10}, &quot;title&quot;: null, &quot;tooltip_border_radius&quot;: 0, &quot;tooltip_fancy_mode&quot;: true, &quot;truncate_label&quot;: null, &quot;truncate_legend&quot;: null, &quot;width&quot;: 800, &quot;x_label_rotation&quot;: 0, &quot;x_labels&quot;: [&quot;0&quot;, &quot;1&quot;, &quot;2&quot;, &quot;3&quot;, &quot;4&quot;, &quot;5&quot;, &quot;6&quot;, &quot;7&quot;, &quot;8&quot;], &quot;x_labels_major&quot;: null, &quot;x_labels_major_count&quot;: null, &quot;x_labels_major_every&quot;: null, &quot;x_title&quot;: null, &quot;xrange&quot;: null, &quot;y_label_rotation&quot;: 0, &quot;y_labels&quot;: null, &quot;y_labels_major&quot;: null, &quot;y_labels_major_count&quot;: null, &quot;y_labels_major_every&quot;: null, &quot;y_title&quot;: null, &quot;zero&quot;: 0, &quot;legends&quot;: [&quot;Count&quot;]}</script><script type=\"text/javascript\" xlink:href=\"https://kozea.github.io/pygal.js/2.0.x/pygal-tooltips.min.js\"/></defs><title>Pygal</title><g class=\"graph bar-graph vertical\"><rect class=\"background\" height=\"600\" width=\"800\" x=\"0\" y=\"0\"/><g class=\"plot\" transform=\"translate(106, 20)\"><rect class=\"background\" height=\"540\" width=\"674.0\" x=\"0\" y=\"0\"/><g class=\"axis y always_show\"><g class=\"guides\"><path class=\"axis major line\" d=\"M0.000000 529.615385 h674.000000\"/><text class=\"major\" x=\"-5\" y=\"533.1153846153846\">0</text><title>0</title></g><g class=\"guides\"><path class=\"guide line\" d=\"M0.000000 445.868486 h674.000000\"/><text class=\"\" x=\"-5\" y=\"449.3684863523573\">10</text><title>10</title></g><g class=\"guides\"><path class=\"guide line\" d=\"M0.000000 362.121588 h674.000000\"/><text class=\"\" x=\"-5\" y=\"365.6215880893301\">20</text><title>20</title></g><g class=\"guides\"><path class=\"guide line\" d=\"M0.000000 278.374690 h674.000000\"/><text class=\"\" x=\"-5\" y=\"281.87468982630276\">30</text><title>30</title></g><g class=\"guides\"><path class=\"guide line\" d=\"M0.000000 194.627792 h674.000000\"/><text class=\"\" x=\"-5\" y=\"198.12779156327542\">40</text><title>40</title></g><g class=\"guides\"><path class=\"major guide line\" d=\"M0.000000 110.880893 h674.000000\"/><text class=\"major\" x=\"-5\" y=\"114.38089330024815\">50</text><title>50</title></g><g class=\"guides\"><path class=\"guide line\" d=\"M0.000000 27.133995 h674.000000\"/><text class=\"\" x=\"-5\" y=\"30.63399503722087\">60</text><title>60</title></g></g><g class=\"axis x\"><path class=\"line\" d=\"M0.000000 0.000000 v540.000000\"/><g class=\"guides\"><path class=\"axis guide line\" d=\"M48.965812 0.000000 v540.000000\"/><text class=\"\" x=\"48.965811965811966\" y=\"555.0\">0</text></g><g class=\"guides\"><path class=\"guide line\" d=\"M120.974359 0.000000 v540.000000\"/><text class=\"\" x=\"120.97435897435895\" y=\"555.0\">1</text></g><g class=\"guides\"><path class=\"guide line\" d=\"M192.982906 0.000000 v540.000000\"/><text class=\"\" x=\"192.982905982906\" y=\"555.0\">2</text></g><g class=\"guides\"><path class=\"guide line\" d=\"M264.991453 0.000000 v540.000000\"/><text class=\"\" x=\"264.991452991453\" y=\"555.0\">3</text></g><g class=\"guides\"><path class=\"guide line\" d=\"M337.000000 0.000000 v540.000000\"/><text class=\"\" x=\"337.0\" y=\"555.0\">4</text></g><g class=\"guides\"><path class=\"guide line\" d=\"M409.008547 0.000000 v540.000000\"/><text class=\"\" x=\"409.00854700854705\" y=\"555.0\">5</text></g><g class=\"guides\"><path class=\"guide line\" d=\"M481.017094 0.000000 v540.000000\"/><text class=\"\" x=\"481.017094017094\" y=\"555.0\">6</text></g><g class=\"guides\"><path class=\"guide line\" d=\"M553.025641 0.000000 v540.000000\"/><text class=\"\" x=\"553.025641025641\" y=\"555.0\">7</text></g><g class=\"guides\"><path class=\"guide line\" d=\"M625.034188 0.000000 v540.000000\"/><text class=\"\" x=\"625.034188034188\" y=\"555.0\">8</text></g></g><g class=\"series serie-0 color-0\"><g class=\"bars\"><g class=\"bar\"><rect class=\"rect reactive tooltip-trigger\" height=\"75.37220843672458\" rx=\"0\" ry=\"0\" width=\"55.76341880341881\" x=\"21.08410256410256\" y=\"454.24317617866006\"/><desc class=\"value\">9</desc><desc class=\"x centered\">48.965811965811966</desc><desc class=\"y centered\">491.92928039702235</desc><desc class=\"x_label\">0</desc></g><g class=\"bar\"><rect class=\"rect reactive tooltip-trigger\" height=\"100.49627791563279\" rx=\"0\" ry=\"0\" width=\"55.76341880341881\" x=\"93.09264957264955\" y=\"429.11910669975185\"/><desc class=\"value\">12</desc><desc class=\"x centered\">120.97435897435895</desc><desc class=\"y centered\">479.3672456575682</desc><desc class=\"x_label\">1</desc></g><g class=\"bar\"><rect class=\"rect reactive tooltip-trigger\" height=\"519.2307692307692\" rx=\"0\" ry=\"0\" width=\"55.76341880341881\" x=\"165.10119658119655\" y=\"10.384615384615472\"/><desc class=\"value\">62</desc><desc class=\"x centered\">192.98290598290595</desc><desc class=\"y centered\">270.00000000000006</desc><desc class=\"x_label\">2</desc></g><g class=\"bar\"><rect class=\"rect reactive tooltip-trigger\" height=\"41.87344913151367\" rx=\"0\" ry=\"0\" width=\"55.76341880341881\" x=\"237.10974358974357\" y=\"487.741935483871\"/><desc class=\"value\">5</desc><desc class=\"x centered\">264.991452991453</desc><desc class=\"y centered\">508.6786600496278</desc><desc class=\"x_label\">3</desc></g><g class=\"bar\"><rect class=\"rect reactive tooltip-trigger\" height=\"83.74689826302733\" rx=\"0\" ry=\"0\" width=\"55.76341880341881\" x=\"309.1182905982906\" y=\"445.8684863523573\"/><desc class=\"value\">10</desc><desc class=\"x centered\">337.00000000000006</desc><desc class=\"y centered\">487.741935483871</desc><desc class=\"x_label\">4</desc></g><g class=\"bar\"><rect class=\"rect reactive tooltip-trigger\" height=\"16.749379652605512\" rx=\"0\" ry=\"0\" width=\"55.76341880341881\" x=\"381.1268376068376\" y=\"512.8660049627791\"/><desc class=\"value\">2</desc><desc class=\"x centered\">409.00854700854705</desc><desc class=\"y centered\">521.2406947890819</desc><desc class=\"x_label\">5</desc></g><g class=\"bar\"><rect class=\"rect reactive tooltip-trigger\" height=\"393.61042183622834\" rx=\"0\" ry=\"0\" width=\"55.76341880341881\" x=\"453.1353846153846\" y=\"136.0049627791563\"/><desc class=\"value\">47</desc><desc class=\"x centered\">481.01709401709405</desc><desc class=\"y centered\">332.81017369727044</desc><desc class=\"x_label\">6</desc></g><g class=\"bar\"><rect class=\"rect reactive tooltip-trigger\" height=\"477.3573200992556\" rx=\"0\" ry=\"0\" width=\"55.76341880341881\" x=\"525.1439316239315\" y=\"52.258064516129025\"/><desc class=\"value\">57</desc><desc class=\"x centered\">553.0256410256409</desc><desc class=\"y centered\">290.93672456575683</desc><desc class=\"x_label\">7</desc></g><g class=\"bar\"><rect class=\"rect reactive tooltip-trigger\" height=\"276.3647642679901\" rx=\"0\" ry=\"0\" width=\"55.76341880341881\" x=\"597.1524786324786\" y=\"253.25062034739454\"/><desc class=\"value\">33</desc><desc class=\"x centered\">625.034188034188</desc><desc class=\"y centered\">391.4330024813896</desc><desc class=\"x_label\">8</desc></g></g></g></g><g class=\"titles\"/><g class=\"plot overlay\" transform=\"translate(106, 20)\"><g class=\"series serie-0 color-0\"/></g><g class=\"plot text-overlay\" transform=\"translate(106, 20)\"><g class=\"series serie-0 color-0\"><text class=\"value\" text-anchor=\"middle\" x=\"48.965811965811966\" y=\"497.26261373035567\">9</text><text class=\"value\" text-anchor=\"middle\" x=\"120.97435897435895\" y=\"484.70057899090153\">12</text><text class=\"value\" text-anchor=\"middle\" x=\"192.98290598290595\" y=\"275.33333333333337\">62</text><text class=\"value\" text-anchor=\"middle\" x=\"264.991452991453\" y=\"514.0119933829611\">5</text><text class=\"value\" text-anchor=\"middle\" x=\"337.00000000000006\" y=\"493.0752688172043\">10</text><text class=\"value\" text-anchor=\"middle\" x=\"409.00854700854705\" y=\"526.5740281224153\">2</text><text class=\"value\" text-anchor=\"middle\" x=\"481.01709401709405\" y=\"338.14350703060376\">47</text><text class=\"value\" text-anchor=\"middle\" x=\"553.0256410256409\" y=\"296.27005789909015\">57</text><text class=\"value\" text-anchor=\"middle\" x=\"625.034188034188\" y=\"396.76633581472294\">33</text></g></g><g class=\"plot tooltip-overlay\" transform=\"translate(106, 20)\"><g class=\"tooltip\" style=\"opacity: 0\" transform=\"translate(0 0)\"><rect class=\"tooltip-box\" height=\"0\" rx=\"0\" ry=\"0\" width=\"0\"/><g class=\"text\"/></g></g><g class=\"legends\" transform=\"translate(10, 30)\"><g class=\"legend reactive activate-serie\" id=\"activate-serie-0\"><rect class=\"color-0 reactive\" height=\"12\" width=\"12\" x=\"0.0\" y=\"1.0\"/><text x=\"17.0\" y=\"11.2\">Count</text></g></g><g class=\"legends\" transform=\"translate(790, 30)\"/></g></svg>",
                        "text/plain": "<IPython.core.display.SVG object>"
                    },
                    "metadata": {},
                    "output_type": "display_data"
                }
            ],
            "source": "import pygal\nchart = pygal.Bar(print_values=True)\nchart.x_labels = map(str, range(0,9))\nchart.add('Count', df_jrole_1['count'])\n#chart.render()\ndisplay(SVG(chart.render(disable_xml_declaration=True)))"
        },
        {
            "cell_type": "markdown",
            "metadata": {},
            "source": "#### Findings:\nTop three roles facing attrition\n- 26% of employees who are likely to quit belong to Laboratory Technician group\n- 24% of employees belong to Sales Executive group\n- 19% of employees belong to Research Scientist group"
        },
        {
            "cell_type": "markdown",
            "metadata": {},
            "source": "### 3.3.8 Marital Status vs Attrition"
        },
        {
            "cell_type": "markdown",
            "metadata": {},
            "source": "Categories:\n    1. 'Divorced': 0\n    2. 'Married' : 1\n    3. 'Single'  : 2"
        },
        {
            "cell_type": "code",
            "execution_count": 35,
            "metadata": {},
            "outputs": [
                {
                    "data": {
                        "text/html": "        <script type=\"text/javascript\">\n        window.PlotlyConfig = {MathJaxConfig: 'local'};\n        if (window.MathJax) {MathJax.Hub.Config({SVG: {font: \"STIX-Web\"}});}\n        if (typeof require !== 'undefined') {\n        require.undef(\"plotly\");\n        requirejs.config({\n            paths: {\n                'plotly': ['https://cdn.plot.ly/plotly-latest.min']\n            }\n        });\n        require(['plotly'], function(Plotly) {\n            window._Plotly = Plotly;\n        });\n        }\n        </script>\n        "
                    },
                    "metadata": {},
                    "output_type": "display_data"
                },
                {
                    "data": {
                        "text/html": "        <script type=\"text/javascript\">\n        window.PlotlyConfig = {MathJaxConfig: 'local'};\n        if (window.MathJax) {MathJax.Hub.Config({SVG: {font: \"STIX-Web\"}});}\n        if (typeof require !== 'undefined') {\n        require.undef(\"plotly\");\n        requirejs.config({\n            paths: {\n                'plotly': ['https://cdn.plot.ly/plotly-latest.min']\n            }\n        });\n        require(['plotly'], function(Plotly) {\n            window._Plotly = Plotly;\n        });\n        }\n        </script>\n        "
                    },
                    "metadata": {},
                    "output_type": "display_data"
                },
                {
                    "data": {
                        "application/vnd.plotly.v1+json": {
                            "config": {
                                "linkText": "Export to plot.ly",
                                "plotlyServerURL": "https://plot.ly",
                                "showLink": true
                            },
                            "data": [
                                {
                                    "marker": {
                                        "color": "rgba(255, 153, 51, 0.6)",
                                        "line": {
                                            "color": "rgba(255, 153, 51, 1.0)",
                                            "width": 1
                                        }
                                    },
                                    "name": "MaritalStatus",
                                    "orientation": "v",
                                    "text": "",
                                    "type": "bar",
                                    "x": [
                                        2,
                                        1,
                                        0
                                    ],
                                    "y": [
                                        120,
                                        84,
                                        33
                                    ]
                                }
                            ],
                            "layout": {
                                "legend": {
                                    "bgcolor": "#F5F6F9",
                                    "font": {
                                        "color": "#4D5663"
                                    }
                                },
                                "paper_bgcolor": "#F5F6F9",
                                "plot_bgcolor": "#F5F6F9",
                                "template": {
                                    "data": {
                                        "bar": [
                                            {
                                                "error_x": {
                                                    "color": "#2a3f5f"
                                                },
                                                "error_y": {
                                                    "color": "#2a3f5f"
                                                },
                                                "marker": {
                                                    "line": {
                                                        "color": "#E5ECF6",
                                                        "width": 0.5
                                                    }
                                                },
                                                "type": "bar"
                                            }
                                        ],
                                        "barpolar": [
                                            {
                                                "marker": {
                                                    "line": {
                                                        "color": "#E5ECF6",
                                                        "width": 0.5
                                                    }
                                                },
                                                "type": "barpolar"
                                            }
                                        ],
                                        "carpet": [
                                            {
                                                "aaxis": {
                                                    "endlinecolor": "#2a3f5f",
                                                    "gridcolor": "white",
                                                    "linecolor": "white",
                                                    "minorgridcolor": "white",
                                                    "startlinecolor": "#2a3f5f"
                                                },
                                                "baxis": {
                                                    "endlinecolor": "#2a3f5f",
                                                    "gridcolor": "white",
                                                    "linecolor": "white",
                                                    "minorgridcolor": "white",
                                                    "startlinecolor": "#2a3f5f"
                                                },
                                                "type": "carpet"
                                            }
                                        ],
                                        "choropleth": [
                                            {
                                                "colorbar": {
                                                    "outlinewidth": 0,
                                                    "ticks": ""
                                                },
                                                "type": "choropleth"
                                            }
                                        ],
                                        "contour": [
                                            {
                                                "colorbar": {
                                                    "outlinewidth": 0,
                                                    "ticks": ""
                                                },
                                                "colorscale": [
                                                    [
                                                        0,
                                                        "#0d0887"
                                                    ],
                                                    [
                                                        0.1111111111111111,
                                                        "#46039f"
                                                    ],
                                                    [
                                                        0.2222222222222222,
                                                        "#7201a8"
                                                    ],
                                                    [
                                                        0.3333333333333333,
                                                        "#9c179e"
                                                    ],
                                                    [
                                                        0.4444444444444444,
                                                        "#bd3786"
                                                    ],
                                                    [
                                                        0.5555555555555556,
                                                        "#d8576b"
                                                    ],
                                                    [
                                                        0.6666666666666666,
                                                        "#ed7953"
                                                    ],
                                                    [
                                                        0.7777777777777778,
                                                        "#fb9f3a"
                                                    ],
                                                    [
                                                        0.8888888888888888,
                                                        "#fdca26"
                                                    ],
                                                    [
                                                        1,
                                                        "#f0f921"
                                                    ]
                                                ],
                                                "type": "contour"
                                            }
                                        ],
                                        "contourcarpet": [
                                            {
                                                "colorbar": {
                                                    "outlinewidth": 0,
                                                    "ticks": ""
                                                },
                                                "type": "contourcarpet"
                                            }
                                        ],
                                        "heatmap": [
                                            {
                                                "colorbar": {
                                                    "outlinewidth": 0,
                                                    "ticks": ""
                                                },
                                                "colorscale": [
                                                    [
                                                        0,
                                                        "#0d0887"
                                                    ],
                                                    [
                                                        0.1111111111111111,
                                                        "#46039f"
                                                    ],
                                                    [
                                                        0.2222222222222222,
                                                        "#7201a8"
                                                    ],
                                                    [
                                                        0.3333333333333333,
                                                        "#9c179e"
                                                    ],
                                                    [
                                                        0.4444444444444444,
                                                        "#bd3786"
                                                    ],
                                                    [
                                                        0.5555555555555556,
                                                        "#d8576b"
                                                    ],
                                                    [
                                                        0.6666666666666666,
                                                        "#ed7953"
                                                    ],
                                                    [
                                                        0.7777777777777778,
                                                        "#fb9f3a"
                                                    ],
                                                    [
                                                        0.8888888888888888,
                                                        "#fdca26"
                                                    ],
                                                    [
                                                        1,
                                                        "#f0f921"
                                                    ]
                                                ],
                                                "type": "heatmap"
                                            }
                                        ],
                                        "heatmapgl": [
                                            {
                                                "colorbar": {
                                                    "outlinewidth": 0,
                                                    "ticks": ""
                                                },
                                                "colorscale": [
                                                    [
                                                        0,
                                                        "#0d0887"
                                                    ],
                                                    [
                                                        0.1111111111111111,
                                                        "#46039f"
                                                    ],
                                                    [
                                                        0.2222222222222222,
                                                        "#7201a8"
                                                    ],
                                                    [
                                                        0.3333333333333333,
                                                        "#9c179e"
                                                    ],
                                                    [
                                                        0.4444444444444444,
                                                        "#bd3786"
                                                    ],
                                                    [
                                                        0.5555555555555556,
                                                        "#d8576b"
                                                    ],
                                                    [
                                                        0.6666666666666666,
                                                        "#ed7953"
                                                    ],
                                                    [
                                                        0.7777777777777778,
                                                        "#fb9f3a"
                                                    ],
                                                    [
                                                        0.8888888888888888,
                                                        "#fdca26"
                                                    ],
                                                    [
                                                        1,
                                                        "#f0f921"
                                                    ]
                                                ],
                                                "type": "heatmapgl"
                                            }
                                        ],
                                        "histogram": [
                                            {
                                                "marker": {
                                                    "colorbar": {
                                                        "outlinewidth": 0,
                                                        "ticks": ""
                                                    }
                                                },
                                                "type": "histogram"
                                            }
                                        ],
                                        "histogram2d": [
                                            {
                                                "colorbar": {
                                                    "outlinewidth": 0,
                                                    "ticks": ""
                                                },
                                                "colorscale": [
                                                    [
                                                        0,
                                                        "#0d0887"
                                                    ],
                                                    [
                                                        0.1111111111111111,
                                                        "#46039f"
                                                    ],
                                                    [
                                                        0.2222222222222222,
                                                        "#7201a8"
                                                    ],
                                                    [
                                                        0.3333333333333333,
                                                        "#9c179e"
                                                    ],
                                                    [
                                                        0.4444444444444444,
                                                        "#bd3786"
                                                    ],
                                                    [
                                                        0.5555555555555556,
                                                        "#d8576b"
                                                    ],
                                                    [
                                                        0.6666666666666666,
                                                        "#ed7953"
                                                    ],
                                                    [
                                                        0.7777777777777778,
                                                        "#fb9f3a"
                                                    ],
                                                    [
                                                        0.8888888888888888,
                                                        "#fdca26"
                                                    ],
                                                    [
                                                        1,
                                                        "#f0f921"
                                                    ]
                                                ],
                                                "type": "histogram2d"
                                            }
                                        ],
                                        "histogram2dcontour": [
                                            {
                                                "colorbar": {
                                                    "outlinewidth": 0,
                                                    "ticks": ""
                                                },
                                                "colorscale": [
                                                    [
                                                        0,
                                                        "#0d0887"
                                                    ],
                                                    [
                                                        0.1111111111111111,
                                                        "#46039f"
                                                    ],
                                                    [
                                                        0.2222222222222222,
                                                        "#7201a8"
                                                    ],
                                                    [
                                                        0.3333333333333333,
                                                        "#9c179e"
                                                    ],
                                                    [
                                                        0.4444444444444444,
                                                        "#bd3786"
                                                    ],
                                                    [
                                                        0.5555555555555556,
                                                        "#d8576b"
                                                    ],
                                                    [
                                                        0.6666666666666666,
                                                        "#ed7953"
                                                    ],
                                                    [
                                                        0.7777777777777778,
                                                        "#fb9f3a"
                                                    ],
                                                    [
                                                        0.8888888888888888,
                                                        "#fdca26"
                                                    ],
                                                    [
                                                        1,
                                                        "#f0f921"
                                                    ]
                                                ],
                                                "type": "histogram2dcontour"
                                            }
                                        ],
                                        "mesh3d": [
                                            {
                                                "colorbar": {
                                                    "outlinewidth": 0,
                                                    "ticks": ""
                                                },
                                                "type": "mesh3d"
                                            }
                                        ],
                                        "parcoords": [
                                            {
                                                "line": {
                                                    "colorbar": {
                                                        "outlinewidth": 0,
                                                        "ticks": ""
                                                    }
                                                },
                                                "type": "parcoords"
                                            }
                                        ],
                                        "scatter": [
                                            {
                                                "marker": {
                                                    "colorbar": {
                                                        "outlinewidth": 0,
                                                        "ticks": ""
                                                    }
                                                },
                                                "type": "scatter"
                                            }
                                        ],
                                        "scatter3d": [
                                            {
                                                "line": {
                                                    "colorbar": {
                                                        "outlinewidth": 0,
                                                        "ticks": ""
                                                    }
                                                },
                                                "marker": {
                                                    "colorbar": {
                                                        "outlinewidth": 0,
                                                        "ticks": ""
                                                    }
                                                },
                                                "type": "scatter3d"
                                            }
                                        ],
                                        "scattercarpet": [
                                            {
                                                "marker": {
                                                    "colorbar": {
                                                        "outlinewidth": 0,
                                                        "ticks": ""
                                                    }
                                                },
                                                "type": "scattercarpet"
                                            }
                                        ],
                                        "scattergeo": [
                                            {
                                                "marker": {
                                                    "colorbar": {
                                                        "outlinewidth": 0,
                                                        "ticks": ""
                                                    }
                                                },
                                                "type": "scattergeo"
                                            }
                                        ],
                                        "scattergl": [
                                            {
                                                "marker": {
                                                    "colorbar": {
                                                        "outlinewidth": 0,
                                                        "ticks": ""
                                                    }
                                                },
                                                "type": "scattergl"
                                            }
                                        ],
                                        "scattermapbox": [
                                            {
                                                "marker": {
                                                    "colorbar": {
                                                        "outlinewidth": 0,
                                                        "ticks": ""
                                                    }
                                                },
                                                "type": "scattermapbox"
                                            }
                                        ],
                                        "scatterpolar": [
                                            {
                                                "marker": {
                                                    "colorbar": {
                                                        "outlinewidth": 0,
                                                        "ticks": ""
                                                    }
                                                },
                                                "type": "scatterpolar"
                                            }
                                        ],
                                        "scatterpolargl": [
                                            {
                                                "marker": {
                                                    "colorbar": {
                                                        "outlinewidth": 0,
                                                        "ticks": ""
                                                    }
                                                },
                                                "type": "scatterpolargl"
                                            }
                                        ],
                                        "scatterternary": [
                                            {
                                                "marker": {
                                                    "colorbar": {
                                                        "outlinewidth": 0,
                                                        "ticks": ""
                                                    }
                                                },
                                                "type": "scatterternary"
                                            }
                                        ],
                                        "surface": [
                                            {
                                                "colorbar": {
                                                    "outlinewidth": 0,
                                                    "ticks": ""
                                                },
                                                "colorscale": [
                                                    [
                                                        0,
                                                        "#0d0887"
                                                    ],
                                                    [
                                                        0.1111111111111111,
                                                        "#46039f"
                                                    ],
                                                    [
                                                        0.2222222222222222,
                                                        "#7201a8"
                                                    ],
                                                    [
                                                        0.3333333333333333,
                                                        "#9c179e"
                                                    ],
                                                    [
                                                        0.4444444444444444,
                                                        "#bd3786"
                                                    ],
                                                    [
                                                        0.5555555555555556,
                                                        "#d8576b"
                                                    ],
                                                    [
                                                        0.6666666666666666,
                                                        "#ed7953"
                                                    ],
                                                    [
                                                        0.7777777777777778,
                                                        "#fb9f3a"
                                                    ],
                                                    [
                                                        0.8888888888888888,
                                                        "#fdca26"
                                                    ],
                                                    [
                                                        1,
                                                        "#f0f921"
                                                    ]
                                                ],
                                                "type": "surface"
                                            }
                                        ],
                                        "table": [
                                            {
                                                "cells": {
                                                    "fill": {
                                                        "color": "#EBF0F8"
                                                    },
                                                    "line": {
                                                        "color": "white"
                                                    }
                                                },
                                                "header": {
                                                    "fill": {
                                                        "color": "#C8D4E3"
                                                    },
                                                    "line": {
                                                        "color": "white"
                                                    }
                                                },
                                                "type": "table"
                                            }
                                        ]
                                    },
                                    "layout": {
                                        "annotationdefaults": {
                                            "arrowcolor": "#2a3f5f",
                                            "arrowhead": 0,
                                            "arrowwidth": 1
                                        },
                                        "colorscale": {
                                            "diverging": [
                                                [
                                                    0,
                                                    "#8e0152"
                                                ],
                                                [
                                                    0.1,
                                                    "#c51b7d"
                                                ],
                                                [
                                                    0.2,
                                                    "#de77ae"
                                                ],
                                                [
                                                    0.3,
                                                    "#f1b6da"
                                                ],
                                                [
                                                    0.4,
                                                    "#fde0ef"
                                                ],
                                                [
                                                    0.5,
                                                    "#f7f7f7"
                                                ],
                                                [
                                                    0.6,
                                                    "#e6f5d0"
                                                ],
                                                [
                                                    0.7,
                                                    "#b8e186"
                                                ],
                                                [
                                                    0.8,
                                                    "#7fbc41"
                                                ],
                                                [
                                                    0.9,
                                                    "#4d9221"
                                                ],
                                                [
                                                    1,
                                                    "#276419"
                                                ]
                                            ],
                                            "sequential": [
                                                [
                                                    0,
                                                    "#0d0887"
                                                ],
                                                [
                                                    0.1111111111111111,
                                                    "#46039f"
                                                ],
                                                [
                                                    0.2222222222222222,
                                                    "#7201a8"
                                                ],
                                                [
                                                    0.3333333333333333,
                                                    "#9c179e"
                                                ],
                                                [
                                                    0.4444444444444444,
                                                    "#bd3786"
                                                ],
                                                [
                                                    0.5555555555555556,
                                                    "#d8576b"
                                                ],
                                                [
                                                    0.6666666666666666,
                                                    "#ed7953"
                                                ],
                                                [
                                                    0.7777777777777778,
                                                    "#fb9f3a"
                                                ],
                                                [
                                                    0.8888888888888888,
                                                    "#fdca26"
                                                ],
                                                [
                                                    1,
                                                    "#f0f921"
                                                ]
                                            ],
                                            "sequentialminus": [
                                                [
                                                    0,
                                                    "#0d0887"
                                                ],
                                                [
                                                    0.1111111111111111,
                                                    "#46039f"
                                                ],
                                                [
                                                    0.2222222222222222,
                                                    "#7201a8"
                                                ],
                                                [
                                                    0.3333333333333333,
                                                    "#9c179e"
                                                ],
                                                [
                                                    0.4444444444444444,
                                                    "#bd3786"
                                                ],
                                                [
                                                    0.5555555555555556,
                                                    "#d8576b"
                                                ],
                                                [
                                                    0.6666666666666666,
                                                    "#ed7953"
                                                ],
                                                [
                                                    0.7777777777777778,
                                                    "#fb9f3a"
                                                ],
                                                [
                                                    0.8888888888888888,
                                                    "#fdca26"
                                                ],
                                                [
                                                    1,
                                                    "#f0f921"
                                                ]
                                            ]
                                        },
                                        "colorway": [
                                            "#636efa",
                                            "#EF553B",
                                            "#00cc96",
                                            "#ab63fa",
                                            "#FFA15A",
                                            "#19d3f3",
                                            "#FF6692",
                                            "#B6E880",
                                            "#FF97FF",
                                            "#FECB52"
                                        ],
                                        "font": {
                                            "color": "#2a3f5f"
                                        },
                                        "geo": {
                                            "bgcolor": "white",
                                            "lakecolor": "white",
                                            "landcolor": "#E5ECF6",
                                            "showlakes": true,
                                            "showland": true,
                                            "subunitcolor": "white"
                                        },
                                        "hoverlabel": {
                                            "align": "left"
                                        },
                                        "hovermode": "closest",
                                        "mapbox": {
                                            "style": "light"
                                        },
                                        "paper_bgcolor": "white",
                                        "plot_bgcolor": "#E5ECF6",
                                        "polar": {
                                            "angularaxis": {
                                                "gridcolor": "white",
                                                "linecolor": "white",
                                                "ticks": ""
                                            },
                                            "bgcolor": "#E5ECF6",
                                            "radialaxis": {
                                                "gridcolor": "white",
                                                "linecolor": "white",
                                                "ticks": ""
                                            }
                                        },
                                        "scene": {
                                            "xaxis": {
                                                "backgroundcolor": "#E5ECF6",
                                                "gridcolor": "white",
                                                "gridwidth": 2,
                                                "linecolor": "white",
                                                "showbackground": true,
                                                "ticks": "",
                                                "zerolinecolor": "white"
                                            },
                                            "yaxis": {
                                                "backgroundcolor": "#E5ECF6",
                                                "gridcolor": "white",
                                                "gridwidth": 2,
                                                "linecolor": "white",
                                                "showbackground": true,
                                                "ticks": "",
                                                "zerolinecolor": "white"
                                            },
                                            "zaxis": {
                                                "backgroundcolor": "#E5ECF6",
                                                "gridcolor": "white",
                                                "gridwidth": 2,
                                                "linecolor": "white",
                                                "showbackground": true,
                                                "ticks": "",
                                                "zerolinecolor": "white"
                                            }
                                        },
                                        "shapedefaults": {
                                            "line": {
                                                "color": "#2a3f5f"
                                            }
                                        },
                                        "ternary": {
                                            "aaxis": {
                                                "gridcolor": "white",
                                                "linecolor": "white",
                                                "ticks": ""
                                            },
                                            "baxis": {
                                                "gridcolor": "white",
                                                "linecolor": "white",
                                                "ticks": ""
                                            },
                                            "bgcolor": "#E5ECF6",
                                            "caxis": {
                                                "gridcolor": "white",
                                                "linecolor": "white",
                                                "ticks": ""
                                            }
                                        },
                                        "title": {
                                            "x": 0.05
                                        },
                                        "xaxis": {
                                            "automargin": true,
                                            "gridcolor": "white",
                                            "linecolor": "white",
                                            "ticks": "",
                                            "zerolinecolor": "white",
                                            "zerolinewidth": 2
                                        },
                                        "yaxis": {
                                            "automargin": true,
                                            "gridcolor": "white",
                                            "linecolor": "white",
                                            "ticks": "",
                                            "zerolinecolor": "white",
                                            "zerolinewidth": 2
                                        }
                                    }
                                },
                                "title": {
                                    "font": {
                                        "color": "#4D5663"
                                    }
                                },
                                "xaxis": {
                                    "gridcolor": "#E1E5ED",
                                    "showgrid": true,
                                    "tickfont": {
                                        "color": "#4D5663"
                                    },
                                    "title": {
                                        "font": {
                                            "color": "#4D5663"
                                        },
                                        "text": ""
                                    },
                                    "zerolinecolor": "#E1E5ED"
                                },
                                "yaxis": {
                                    "gridcolor": "#E1E5ED",
                                    "showgrid": true,
                                    "tickfont": {
                                        "color": "#4D5663"
                                    },
                                    "title": {
                                        "font": {
                                            "color": "#4D5663"
                                        },
                                        "text": ""
                                    },
                                    "zerolinecolor": "#E1E5ED"
                                }
                            }
                        },
                        "text/html": "<div>\n        \n        \n            <div id=\"c87039d7-c809-417a-9cd0-244fefabd9ec\" class=\"plotly-graph-div\" style=\"height:525px; width:100%;\"></div>\n            <script type=\"text/javascript\">\n                require([\"plotly\"], function(Plotly) {\n                    window.PLOTLYENV=window.PLOTLYENV || {};\n                    window.PLOTLYENV.BASE_URL='https://plot.ly';\n                    \n                if (document.getElementById(\"c87039d7-c809-417a-9cd0-244fefabd9ec\")) {\n                    Plotly.newPlot(\n                        'c87039d7-c809-417a-9cd0-244fefabd9ec',\n                        [{\"marker\": {\"color\": \"rgba(255, 153, 51, 0.6)\", \"line\": {\"color\": \"rgba(255, 153, 51, 1.0)\", \"width\": 1}}, \"name\": \"MaritalStatus\", \"orientation\": \"v\", \"text\": \"\", \"type\": \"bar\", \"x\": [2, 1, 0], \"y\": [120, 84, 33]}],\n                        {\"legend\": {\"bgcolor\": \"#F5F6F9\", \"font\": {\"color\": \"#4D5663\"}}, \"paper_bgcolor\": \"#F5F6F9\", \"plot_bgcolor\": \"#F5F6F9\", \"template\": {\"data\": {\"bar\": [{\"error_x\": {\"color\": \"#2a3f5f\"}, \"error_y\": {\"color\": \"#2a3f5f\"}, \"marker\": {\"line\": {\"color\": \"#E5ECF6\", \"width\": 0.5}}, \"type\": \"bar\"}], \"barpolar\": [{\"marker\": {\"line\": {\"color\": \"#E5ECF6\", \"width\": 0.5}}, \"type\": \"barpolar\"}], \"carpet\": [{\"aaxis\": {\"endlinecolor\": \"#2a3f5f\", \"gridcolor\": \"white\", \"linecolor\": \"white\", \"minorgridcolor\": \"white\", \"startlinecolor\": \"#2a3f5f\"}, \"baxis\": {\"endlinecolor\": \"#2a3f5f\", \"gridcolor\": \"white\", \"linecolor\": \"white\", \"minorgridcolor\": \"white\", \"startlinecolor\": \"#2a3f5f\"}, \"type\": \"carpet\"}], \"choropleth\": [{\"colorbar\": {\"outlinewidth\": 0, \"ticks\": \"\"}, \"type\": \"choropleth\"}], \"contour\": [{\"colorbar\": {\"outlinewidth\": 0, \"ticks\": \"\"}, \"colorscale\": [[0.0, \"#0d0887\"], [0.1111111111111111, \"#46039f\"], [0.2222222222222222, \"#7201a8\"], [0.3333333333333333, \"#9c179e\"], [0.4444444444444444, \"#bd3786\"], [0.5555555555555556, \"#d8576b\"], [0.6666666666666666, \"#ed7953\"], [0.7777777777777778, \"#fb9f3a\"], [0.8888888888888888, \"#fdca26\"], [1.0, \"#f0f921\"]], \"type\": \"contour\"}], \"contourcarpet\": [{\"colorbar\": {\"outlinewidth\": 0, \"ticks\": \"\"}, \"type\": \"contourcarpet\"}], \"heatmap\": [{\"colorbar\": {\"outlinewidth\": 0, \"ticks\": \"\"}, \"colorscale\": [[0.0, \"#0d0887\"], [0.1111111111111111, \"#46039f\"], [0.2222222222222222, \"#7201a8\"], [0.3333333333333333, \"#9c179e\"], [0.4444444444444444, \"#bd3786\"], [0.5555555555555556, \"#d8576b\"], [0.6666666666666666, \"#ed7953\"], [0.7777777777777778, \"#fb9f3a\"], [0.8888888888888888, \"#fdca26\"], [1.0, \"#f0f921\"]], \"type\": \"heatmap\"}], \"heatmapgl\": [{\"colorbar\": {\"outlinewidth\": 0, \"ticks\": \"\"}, \"colorscale\": [[0.0, \"#0d0887\"], [0.1111111111111111, \"#46039f\"], [0.2222222222222222, \"#7201a8\"], [0.3333333333333333, \"#9c179e\"], [0.4444444444444444, \"#bd3786\"], [0.5555555555555556, \"#d8576b\"], [0.6666666666666666, \"#ed7953\"], [0.7777777777777778, \"#fb9f3a\"], [0.8888888888888888, \"#fdca26\"], [1.0, \"#f0f921\"]], \"type\": \"heatmapgl\"}], \"histogram\": [{\"marker\": {\"colorbar\": {\"outlinewidth\": 0, \"ticks\": \"\"}}, \"type\": \"histogram\"}], \"histogram2d\": [{\"colorbar\": {\"outlinewidth\": 0, \"ticks\": \"\"}, \"colorscale\": [[0.0, \"#0d0887\"], [0.1111111111111111, \"#46039f\"], [0.2222222222222222, \"#7201a8\"], [0.3333333333333333, \"#9c179e\"], [0.4444444444444444, \"#bd3786\"], [0.5555555555555556, \"#d8576b\"], [0.6666666666666666, \"#ed7953\"], [0.7777777777777778, \"#fb9f3a\"], [0.8888888888888888, \"#fdca26\"], [1.0, \"#f0f921\"]], \"type\": \"histogram2d\"}], \"histogram2dcontour\": [{\"colorbar\": {\"outlinewidth\": 0, \"ticks\": \"\"}, \"colorscale\": [[0.0, \"#0d0887\"], [0.1111111111111111, \"#46039f\"], [0.2222222222222222, \"#7201a8\"], [0.3333333333333333, \"#9c179e\"], [0.4444444444444444, \"#bd3786\"], [0.5555555555555556, \"#d8576b\"], [0.6666666666666666, \"#ed7953\"], [0.7777777777777778, \"#fb9f3a\"], [0.8888888888888888, \"#fdca26\"], [1.0, \"#f0f921\"]], \"type\": \"histogram2dcontour\"}], \"mesh3d\": [{\"colorbar\": {\"outlinewidth\": 0, \"ticks\": \"\"}, \"type\": \"mesh3d\"}], \"parcoords\": [{\"line\": {\"colorbar\": {\"outlinewidth\": 0, \"ticks\": \"\"}}, \"type\": \"parcoords\"}], \"scatter\": [{\"marker\": {\"colorbar\": {\"outlinewidth\": 0, \"ticks\": \"\"}}, \"type\": \"scatter\"}], \"scatter3d\": [{\"line\": {\"colorbar\": {\"outlinewidth\": 0, \"ticks\": \"\"}}, \"marker\": {\"colorbar\": {\"outlinewidth\": 0, \"ticks\": \"\"}}, \"type\": \"scatter3d\"}], \"scattercarpet\": [{\"marker\": {\"colorbar\": {\"outlinewidth\": 0, \"ticks\": \"\"}}, \"type\": \"scattercarpet\"}], \"scattergeo\": [{\"marker\": {\"colorbar\": {\"outlinewidth\": 0, \"ticks\": \"\"}}, \"type\": \"scattergeo\"}], \"scattergl\": [{\"marker\": {\"colorbar\": {\"outlinewidth\": 0, \"ticks\": \"\"}}, \"type\": \"scattergl\"}], \"scattermapbox\": [{\"marker\": {\"colorbar\": {\"outlinewidth\": 0, \"ticks\": \"\"}}, \"type\": \"scattermapbox\"}], \"scatterpolar\": [{\"marker\": {\"colorbar\": {\"outlinewidth\": 0, \"ticks\": \"\"}}, \"type\": \"scatterpolar\"}], \"scatterpolargl\": [{\"marker\": {\"colorbar\": {\"outlinewidth\": 0, \"ticks\": \"\"}}, \"type\": \"scatterpolargl\"}], \"scatterternary\": [{\"marker\": {\"colorbar\": {\"outlinewidth\": 0, \"ticks\": \"\"}}, \"type\": \"scatterternary\"}], \"surface\": [{\"colorbar\": {\"outlinewidth\": 0, \"ticks\": \"\"}, \"colorscale\": [[0.0, \"#0d0887\"], [0.1111111111111111, \"#46039f\"], [0.2222222222222222, \"#7201a8\"], [0.3333333333333333, \"#9c179e\"], [0.4444444444444444, \"#bd3786\"], [0.5555555555555556, \"#d8576b\"], [0.6666666666666666, \"#ed7953\"], [0.7777777777777778, \"#fb9f3a\"], [0.8888888888888888, \"#fdca26\"], [1.0, \"#f0f921\"]], \"type\": \"surface\"}], \"table\": [{\"cells\": {\"fill\": {\"color\": \"#EBF0F8\"}, \"line\": {\"color\": \"white\"}}, \"header\": {\"fill\": {\"color\": \"#C8D4E3\"}, \"line\": {\"color\": \"white\"}}, \"type\": \"table\"}]}, \"layout\": {\"annotationdefaults\": {\"arrowcolor\": \"#2a3f5f\", \"arrowhead\": 0, \"arrowwidth\": 1}, \"colorscale\": {\"diverging\": [[0, \"#8e0152\"], [0.1, \"#c51b7d\"], [0.2, \"#de77ae\"], [0.3, \"#f1b6da\"], [0.4, \"#fde0ef\"], [0.5, \"#f7f7f7\"], [0.6, \"#e6f5d0\"], [0.7, \"#b8e186\"], [0.8, \"#7fbc41\"], [0.9, \"#4d9221\"], [1, \"#276419\"]], \"sequential\": [[0.0, \"#0d0887\"], [0.1111111111111111, \"#46039f\"], [0.2222222222222222, \"#7201a8\"], [0.3333333333333333, \"#9c179e\"], [0.4444444444444444, \"#bd3786\"], [0.5555555555555556, \"#d8576b\"], [0.6666666666666666, \"#ed7953\"], [0.7777777777777778, \"#fb9f3a\"], [0.8888888888888888, \"#fdca26\"], [1.0, \"#f0f921\"]], \"sequentialminus\": [[0.0, \"#0d0887\"], [0.1111111111111111, \"#46039f\"], [0.2222222222222222, \"#7201a8\"], [0.3333333333333333, \"#9c179e\"], [0.4444444444444444, \"#bd3786\"], [0.5555555555555556, \"#d8576b\"], [0.6666666666666666, \"#ed7953\"], [0.7777777777777778, \"#fb9f3a\"], [0.8888888888888888, \"#fdca26\"], [1.0, \"#f0f921\"]]}, \"colorway\": [\"#636efa\", \"#EF553B\", \"#00cc96\", \"#ab63fa\", \"#FFA15A\", \"#19d3f3\", \"#FF6692\", \"#B6E880\", \"#FF97FF\", \"#FECB52\"], \"font\": {\"color\": \"#2a3f5f\"}, \"geo\": {\"bgcolor\": \"white\", \"lakecolor\": \"white\", \"landcolor\": \"#E5ECF6\", \"showlakes\": true, \"showland\": true, \"subunitcolor\": \"white\"}, \"hoverlabel\": {\"align\": \"left\"}, \"hovermode\": \"closest\", \"mapbox\": {\"style\": \"light\"}, \"paper_bgcolor\": \"white\", \"plot_bgcolor\": \"#E5ECF6\", \"polar\": {\"angularaxis\": {\"gridcolor\": \"white\", \"linecolor\": \"white\", \"ticks\": \"\"}, \"bgcolor\": \"#E5ECF6\", \"radialaxis\": {\"gridcolor\": \"white\", \"linecolor\": \"white\", \"ticks\": \"\"}}, \"scene\": {\"xaxis\": {\"backgroundcolor\": \"#E5ECF6\", \"gridcolor\": \"white\", \"gridwidth\": 2, \"linecolor\": \"white\", \"showbackground\": true, \"ticks\": \"\", \"zerolinecolor\": \"white\"}, \"yaxis\": {\"backgroundcolor\": \"#E5ECF6\", \"gridcolor\": \"white\", \"gridwidth\": 2, \"linecolor\": \"white\", \"showbackground\": true, \"ticks\": \"\", \"zerolinecolor\": \"white\"}, \"zaxis\": {\"backgroundcolor\": \"#E5ECF6\", \"gridcolor\": \"white\", \"gridwidth\": 2, \"linecolor\": \"white\", \"showbackground\": true, \"ticks\": \"\", \"zerolinecolor\": \"white\"}}, \"shapedefaults\": {\"line\": {\"color\": \"#2a3f5f\"}}, \"ternary\": {\"aaxis\": {\"gridcolor\": \"white\", \"linecolor\": \"white\", \"ticks\": \"\"}, \"baxis\": {\"gridcolor\": \"white\", \"linecolor\": \"white\", \"ticks\": \"\"}, \"bgcolor\": \"#E5ECF6\", \"caxis\": {\"gridcolor\": \"white\", \"linecolor\": \"white\", \"ticks\": \"\"}}, \"title\": {\"x\": 0.05}, \"xaxis\": {\"automargin\": true, \"gridcolor\": \"white\", \"linecolor\": \"white\", \"ticks\": \"\", \"zerolinecolor\": \"white\", \"zerolinewidth\": 2}, \"yaxis\": {\"automargin\": true, \"gridcolor\": \"white\", \"linecolor\": \"white\", \"ticks\": \"\", \"zerolinecolor\": \"white\", \"zerolinewidth\": 2}}}, \"title\": {\"font\": {\"color\": \"#4D5663\"}}, \"xaxis\": {\"gridcolor\": \"#E1E5ED\", \"showgrid\": true, \"tickfont\": {\"color\": \"#4D5663\"}, \"title\": {\"font\": {\"color\": \"#4D5663\"}, \"text\": \"\"}, \"zerolinecolor\": \"#E1E5ED\"}, \"yaxis\": {\"gridcolor\": \"#E1E5ED\", \"showgrid\": true, \"tickfont\": {\"color\": \"#4D5663\"}, \"title\": {\"font\": {\"color\": \"#4D5663\"}, \"text\": \"\"}, \"zerolinecolor\": \"#E1E5ED\"}},\n                        {\"showLink\": true, \"linkText\": \"Export to plot.ly\", \"plotlyServerURL\": \"https://plot.ly\", \"responsive\": true}\n                    ).then(function(){\n                            \nvar gd = document.getElementById('c87039d7-c809-417a-9cd0-244fefabd9ec');\nvar x = new MutationObserver(function (mutations, observer) {{\n        var display = window.getComputedStyle(gd).display;\n        if (!display || display === 'none') {{\n            console.log([gd, 'removed!']);\n            Plotly.purge(gd);\n            observer.disconnect();\n        }}\n}});\n\n// Listen for the removal of the full notebook cells\nvar notebookContainer = gd.closest('#notebook-container');\nif (notebookContainer) {{\n    x.observe(notebookContainer, {childList: true});\n}}\n\n// Listen for the clearing of the current output cell\nvar outputEl = gd.closest('.output');\nif (outputEl) {{\n    x.observe(outputEl, {childList: true});\n}}\n\n                        })\n                };\n                });\n            </script>\n        </div>"
                    },
                    "metadata": {},
                    "output_type": "display_data"
                }
            ],
            "source": "#analyzing employees who has positive attrition\ninit_notebook_mode(connected=True)\ncf.go_offline()\npositive_attrition_df['MaritalStatus'].value_counts().iplot(kind='bar')"
        },
        {
            "cell_type": "markdown",
            "metadata": {},
            "source": "#### Inference:\nNearly 50 % of the employees who are single are likely to quit"
        },
        {
            "cell_type": "markdown",
            "metadata": {},
            "source": "### 3.3.9 Monthly Income vs Attrition"
        },
        {
            "cell_type": "code",
            "execution_count": 36,
            "metadata": {},
            "outputs": [
                {
                    "data": {
                        "text/plain": "<matplotlib.legend.Legend at 0x7fd781116f98>"
                    },
                    "execution_count": 36,
                    "metadata": {},
                    "output_type": "execute_result"
                },
                {
                    "data": {
                        "image/png": "[encoded data removed]",
                        "text/plain": "<Figure size 504x504 with 1 Axes>"
                    },
                    "metadata": {
                        "needs_background": "light"
                    },
                    "output_type": "display_data"
                }
            ],
            "source": "sns.distplot(negative_attrition_df['MonthlyIncome'], label='Negative attrition')\nsns.distplot(positive_attrition_df['MonthlyIncome'], label='positive attrition')\nplt.legend()"
        },
        {
            "cell_type": "markdown",
            "metadata": {},
            "source": "Inference:\n    Looks like people who are less likely to leave the company are the ones who are less paid."
        },
        {
            "cell_type": "markdown",
            "metadata": {},
            "source": "## 4. Model Development"
        },
        {
            "cell_type": "markdown",
            "metadata": {},
            "source": "## 4.1 Extracting label from input data"
        },
        {
            "cell_type": "code",
            "execution_count": 37,
            "metadata": {},
            "outputs": [],
            "source": "input_data = data_encoded.drop(['Attrition'], axis=1)"
        },
        {
            "cell_type": "code",
            "execution_count": 38,
            "metadata": {},
            "outputs": [
                {
                    "data": {
                        "text/html": "<div>\n<style scoped>\n    .dataframe tbody tr th:only-of-type {\n        vertical-align: middle;\n    }\n\n    .dataframe tbody tr th {\n        vertical-align: top;\n    }\n\n    .dataframe thead th {\n        text-align: right;\n    }\n</style>\n<table border=\"1\" class=\"dataframe\">\n  <thead>\n    <tr style=\"text-align: right;\">\n      <th></th>\n      <th>Age</th>\n      <th>BusinessTravel</th>\n      <th>Department</th>\n      <th>DistanceFromHome</th>\n      <th>Education</th>\n      <th>EnvironmentSatisfaction</th>\n      <th>Gender</th>\n      <th>JobInvolvement</th>\n      <th>JobLevel</th>\n      <th>JobRole</th>\n      <th>...</th>\n      <th>PercentSalaryHike</th>\n      <th>PerformanceRating</th>\n      <th>StockOptionLevel</th>\n      <th>TotalWorkingYears</th>\n      <th>TrainingTimesLastYear</th>\n      <th>WorkLifeBalance</th>\n      <th>YearsAtCompany</th>\n      <th>YearsInCurrentRole</th>\n      <th>YearsSinceLastPromotion</th>\n      <th>YearsWithCurrManager</th>\n    </tr>\n  </thead>\n  <tbody>\n    <tr>\n      <th>0</th>\n      <td>41</td>\n      <td>2</td>\n      <td>2</td>\n      <td>1</td>\n      <td>2</td>\n      <td>2</td>\n      <td>0</td>\n      <td>3</td>\n      <td>2</td>\n      <td>7</td>\n      <td>...</td>\n      <td>11</td>\n      <td>3</td>\n      <td>0</td>\n      <td>8</td>\n      <td>0</td>\n      <td>1</td>\n      <td>6</td>\n      <td>4</td>\n      <td>0</td>\n      <td>5</td>\n    </tr>\n    <tr>\n      <th>1</th>\n      <td>49</td>\n      <td>1</td>\n      <td>1</td>\n      <td>8</td>\n      <td>1</td>\n      <td>3</td>\n      <td>1</td>\n      <td>2</td>\n      <td>2</td>\n      <td>6</td>\n      <td>...</td>\n      <td>23</td>\n      <td>4</td>\n      <td>1</td>\n      <td>10</td>\n      <td>3</td>\n      <td>3</td>\n      <td>10</td>\n      <td>7</td>\n      <td>1</td>\n      <td>7</td>\n    </tr>\n    <tr>\n      <th>2</th>\n      <td>37</td>\n      <td>2</td>\n      <td>1</td>\n      <td>2</td>\n      <td>2</td>\n      <td>4</td>\n      <td>1</td>\n      <td>2</td>\n      <td>1</td>\n      <td>2</td>\n      <td>...</td>\n      <td>15</td>\n      <td>3</td>\n      <td>0</td>\n      <td>7</td>\n      <td>3</td>\n      <td>3</td>\n      <td>0</td>\n      <td>0</td>\n      <td>0</td>\n      <td>0</td>\n    </tr>\n    <tr>\n      <th>3</th>\n      <td>33</td>\n      <td>1</td>\n      <td>1</td>\n      <td>3</td>\n      <td>4</td>\n      <td>4</td>\n      <td>0</td>\n      <td>3</td>\n      <td>1</td>\n      <td>6</td>\n      <td>...</td>\n      <td>11</td>\n      <td>3</td>\n      <td>0</td>\n      <td>8</td>\n      <td>3</td>\n      <td>3</td>\n      <td>8</td>\n      <td>7</td>\n      <td>3</td>\n      <td>0</td>\n    </tr>\n    <tr>\n      <th>4</th>\n      <td>27</td>\n      <td>2</td>\n      <td>1</td>\n      <td>2</td>\n      <td>1</td>\n      <td>1</td>\n      <td>1</td>\n      <td>3</td>\n      <td>1</td>\n      <td>2</td>\n      <td>...</td>\n      <td>12</td>\n      <td>3</td>\n      <td>1</td>\n      <td>6</td>\n      <td>3</td>\n      <td>3</td>\n      <td>2</td>\n      <td>2</td>\n      <td>2</td>\n      <td>2</td>\n    </tr>\n  </tbody>\n</table>\n<p>5 rows \u00d7 25 columns</p>\n</div>",
                        "text/plain": "   Age  BusinessTravel  Department  DistanceFromHome  Education  \\\n0   41               2           2                 1          2   \n1   49               1           1                 8          1   \n2   37               2           1                 2          2   \n3   33               1           1                 3          4   \n4   27               2           1                 2          1   \n\n   EnvironmentSatisfaction  Gender  JobInvolvement  JobLevel  JobRole  ...  \\\n0                        2       0               3         2        7  ...   \n1                        3       1               2         2        6  ...   \n2                        4       1               2         1        2  ...   \n3                        4       0               3         1        6  ...   \n4                        1       1               3         1        2  ...   \n\n   PercentSalaryHike  PerformanceRating  StockOptionLevel  TotalWorkingYears  \\\n0                 11                  3                 0                  8   \n1                 23                  4                 1                 10   \n2                 15                  3                 0                  7   \n3                 11                  3                 0                  8   \n4                 12                  3                 1                  6   \n\n   TrainingTimesLastYear  WorkLifeBalance  YearsAtCompany  YearsInCurrentRole  \\\n0                      0                1               6                   4   \n1                      3                3              10                   7   \n2                      3                3               0                   0   \n3                      3                3               8                   7   \n4                      3                3               2                   2   \n\n   YearsSinceLastPromotion  YearsWithCurrManager  \n0                        0                     5  \n1                        1                     7  \n2                        0                     0  \n3                        3                     0  \n4                        2                     2  \n\n[5 rows x 25 columns]"
                    },
                    "execution_count": 38,
                    "metadata": {},
                    "output_type": "execute_result"
                }
            ],
            "source": "input_data.head()"
        },
        {
            "cell_type": "code",
            "execution_count": 39,
            "metadata": {},
            "outputs": [],
            "source": "target_data = data_encoded[['Attrition']]"
        },
        {
            "cell_type": "code",
            "execution_count": 40,
            "metadata": {},
            "outputs": [
                {
                    "data": {
                        "text/html": "<div>\n<style scoped>\n    .dataframe tbody tr th:only-of-type {\n        vertical-align: middle;\n    }\n\n    .dataframe tbody tr th {\n        vertical-align: top;\n    }\n\n    .dataframe thead th {\n        text-align: right;\n    }\n</style>\n<table border=\"1\" class=\"dataframe\">\n  <thead>\n    <tr style=\"text-align: right;\">\n      <th></th>\n      <th>Attrition</th>\n    </tr>\n  </thead>\n  <tbody>\n    <tr>\n      <th>0</th>\n      <td>1</td>\n    </tr>\n    <tr>\n      <th>1</th>\n      <td>0</td>\n    </tr>\n    <tr>\n      <th>2</th>\n      <td>1</td>\n    </tr>\n    <tr>\n      <th>3</th>\n      <td>0</td>\n    </tr>\n    <tr>\n      <th>4</th>\n      <td>0</td>\n    </tr>\n  </tbody>\n</table>\n</div>",
                        "text/plain": "   Attrition\n0          1\n1          0\n2          1\n3          0\n4          0"
                    },
                    "execution_count": 40,
                    "metadata": {},
                    "output_type": "execute_result"
                }
            ],
            "source": "target_data.head()"
        },
        {
            "cell_type": "code",
            "execution_count": 41,
            "metadata": {},
            "outputs": [
                {
                    "data": {
                        "text/plain": "25"
                    },
                    "execution_count": 41,
                    "metadata": {},
                    "output_type": "execute_result"
                }
            ],
            "source": "len(input_data.columns)"
        },
        {
            "cell_type": "markdown",
            "metadata": {},
            "source": "## 4.2 Feature Selection"
        },
        {
            "cell_type": "markdown",
            "metadata": {},
            "source": "It is the process of choosing the best features that can be used in the predictive modeling. \n\n1. Fight against the curse of dimensionality.\n2. Reduce the overall training time.\n3. Defense against overfitting.\n4. Increase model generalizability.\n\nSome of the feature selection methods are,\n1. Filter methods\n   - F Test\n   - Mutual information\n   - Variance threshold\n   - Chi Square\n   - Correlation coefficient \n   - ANNOVA\n   - LDA\n2. Wrapper methods\n   - Forward search\n   - Backward selection\n   - Recursive feature elimination\n3. Embedded methods\n   - LASSO Linear Regression"
        },
        {
            "cell_type": "code",
            "execution_count": 42,
            "metadata": {},
            "outputs": [
                {
                    "data": {
                        "text/plain": "Index(['Age', 'BusinessTravel', 'Department', 'DistanceFromHome', 'Education',\n       'EnvironmentSatisfaction', 'Gender', 'JobInvolvement', 'JobLevel',\n       'JobRole', 'JobSatisfaction', 'MaritalStatus', 'MonthlyIncome',\n       'NumCompaniesWorked', 'OverTime', 'PercentSalaryHike',\n       'PerformanceRating', 'StockOptionLevel', 'TotalWorkingYears',\n       'TrainingTimesLastYear', 'WorkLifeBalance', 'YearsAtCompany',\n       'YearsInCurrentRole', 'YearsSinceLastPromotion',\n       'YearsWithCurrManager'],\n      dtype='object')"
                    },
                    "execution_count": 42,
                    "metadata": {},
                    "output_type": "execute_result"
                }
            ],
            "source": "input_data.columns"
        },
        {
            "cell_type": "code",
            "execution_count": 43,
            "metadata": {},
            "outputs": [],
            "source": "col_values = list(input_data.columns.values)"
        },
        {
            "cell_type": "markdown",
            "metadata": {},
            "source": "#### Mutual Information\nIt measures the dependence of one variable to another. If,\n\n* Mutual information is 0, then variable X carries no information about the variable Y. X and Y are independent.\n* Mutual information is 1, then variable X can be determined from variable Y. X and Y are dependent.\n\nFeatures can be selected based on their mutual information value."
        },
        {
            "cell_type": "code",
            "execution_count": 44,
            "metadata": {},
            "outputs": [
                {
                    "name": "stdout",
                    "output_type": "stream",
                    "text": "OverTime 0.03246063748660388\nMonthlyIncome 0.031111537312169535\nJobRole 0.02751330509335359\nAge 0.021944603792978024\nStockOptionLevel 0.020911708094607295\nYearsWithCurrManager 0.020093743804097564\nJobLevel 0.019242372429219223\nYearsAtCompany 0.0160883475000404\nMaritalStatus 0.014207743266430928\nJobSatisfaction 0.013316084565630826\n"
                }
            ],
            "source": "#gives top 10 features having maximum mutual information value\nfeature_scores = mutual_info_classif(input_data, target_data)\nfor score, fname in sorted(zip(feature_scores, col_values), reverse=True)[:10]:\n    print(fname, score)"
        },
        {
            "cell_type": "markdown",
            "metadata": {},
            "source": "#### chi-square\n\nchi-square test is applied to test the independence of two events. This method is used to evaluate the likelihood of correlation or association between features using their frequency distribution. This works best with categorial features."
        },
        {
            "cell_type": "code",
            "execution_count": 45,
            "metadata": {},
            "outputs": [
                {
                    "name": "stdout",
                    "output_type": "stream",
                    "text": "MonthlyIncome 127922.29369381821\nTotalWorkingYears 230.72161773754925\nYearsAtCompany 142.10005430324915\nYearsInCurrentRole 117.5225958913567\nYearsWithCurrManager 110.6715338985734\nAge 84.15527681001525\nOverTime 63.84506671452294\nDistanceFromHome 63.77214163101213\nStockOptionLevel 25.26882603175403\nJobLevel 24.93924234571862\n"
                }
            ],
            "source": "#gives top 10 features having maximum chi-square value\nfeature_scores = chi2(input_data, target_data)[0]\nfor score, fname in sorted(zip(feature_scores, col_values), reverse=True)[:10]:\n    print(fname, score)"
        },
        {
            "cell_type": "code",
            "execution_count": 46,
            "metadata": {},
            "outputs": [
                {
                    "data": {
                        "text/plain": "(1470, 26)"
                    },
                    "execution_count": 46,
                    "metadata": {},
                    "output_type": "execute_result"
                }
            ],
            "source": "df_data.shape"
        },
        {
            "cell_type": "code",
            "execution_count": 47,
            "metadata": {},
            "outputs": [],
            "source": "#column selection based on feature selection \ndata_selected = df_data[['MonthlyIncome', 'TotalWorkingYears', 'YearsAtCompany', 'YearsInCurrentRole', \n                      'YearsWithCurrManager', 'Age', 'OverTime', 'DistanceFromHome', 'StockOptionLevel',\n                      'JobLevel', 'JobRole', 'WorkLifeBalance', 'Gender', 'Attrition']]"
        },
        {
            "cell_type": "code",
            "execution_count": 48,
            "metadata": {},
            "outputs": [
                {
                    "data": {
                        "text/html": "<div>\n<style scoped>\n    .dataframe tbody tr th:only-of-type {\n        vertical-align: middle;\n    }\n\n    .dataframe tbody tr th {\n        vertical-align: top;\n    }\n\n    .dataframe thead th {\n        text-align: right;\n    }\n</style>\n<table border=\"1\" class=\"dataframe\">\n  <thead>\n    <tr style=\"text-align: right;\">\n      <th></th>\n      <th>MonthlyIncome</th>\n      <th>TotalWorkingYears</th>\n      <th>YearsAtCompany</th>\n      <th>YearsInCurrentRole</th>\n      <th>YearsWithCurrManager</th>\n      <th>Age</th>\n      <th>OverTime</th>\n      <th>DistanceFromHome</th>\n      <th>StockOptionLevel</th>\n      <th>JobLevel</th>\n      <th>JobRole</th>\n      <th>WorkLifeBalance</th>\n      <th>Gender</th>\n      <th>Attrition</th>\n    </tr>\n  </thead>\n  <tbody>\n    <tr>\n      <th>0</th>\n      <td>5993</td>\n      <td>8</td>\n      <td>6</td>\n      <td>4</td>\n      <td>5</td>\n      <td>41</td>\n      <td>Yes</td>\n      <td>1</td>\n      <td>0</td>\n      <td>2</td>\n      <td>Sales Executive</td>\n      <td>1</td>\n      <td>Female</td>\n      <td>Yes</td>\n    </tr>\n    <tr>\n      <th>1</th>\n      <td>5130</td>\n      <td>10</td>\n      <td>10</td>\n      <td>7</td>\n      <td>7</td>\n      <td>49</td>\n      <td>No</td>\n      <td>8</td>\n      <td>1</td>\n      <td>2</td>\n      <td>Research Scientist</td>\n      <td>3</td>\n      <td>Male</td>\n      <td>No</td>\n    </tr>\n    <tr>\n      <th>2</th>\n      <td>2090</td>\n      <td>7</td>\n      <td>0</td>\n      <td>0</td>\n      <td>0</td>\n      <td>37</td>\n      <td>Yes</td>\n      <td>2</td>\n      <td>0</td>\n      <td>1</td>\n      <td>Laboratory Technician</td>\n      <td>3</td>\n      <td>Male</td>\n      <td>Yes</td>\n    </tr>\n    <tr>\n      <th>3</th>\n      <td>2909</td>\n      <td>8</td>\n      <td>8</td>\n      <td>7</td>\n      <td>0</td>\n      <td>33</td>\n      <td>Yes</td>\n      <td>3</td>\n      <td>0</td>\n      <td>1</td>\n      <td>Research Scientist</td>\n      <td>3</td>\n      <td>Female</td>\n      <td>No</td>\n    </tr>\n    <tr>\n      <th>4</th>\n      <td>3468</td>\n      <td>6</td>\n      <td>2</td>\n      <td>2</td>\n      <td>2</td>\n      <td>27</td>\n      <td>No</td>\n      <td>2</td>\n      <td>1</td>\n      <td>1</td>\n      <td>Laboratory Technician</td>\n      <td>3</td>\n      <td>Male</td>\n      <td>No</td>\n    </tr>\n  </tbody>\n</table>\n</div>",
                        "text/plain": "   MonthlyIncome  TotalWorkingYears  YearsAtCompany  YearsInCurrentRole  \\\n0           5993                  8               6                   4   \n1           5130                 10              10                   7   \n2           2090                  7               0                   0   \n3           2909                  8               8                   7   \n4           3468                  6               2                   2   \n\n   YearsWithCurrManager  Age OverTime  DistanceFromHome  StockOptionLevel  \\\n0                     5   41      Yes                 1                 0   \n1                     7   49       No                 8                 1   \n2                     0   37      Yes                 2                 0   \n3                     0   33      Yes                 3                 0   \n4                     2   27       No                 2                 1   \n\n   JobLevel                JobRole  WorkLifeBalance  Gender Attrition  \n0         2        Sales Executive                1  Female       Yes  \n1         2     Research Scientist                3    Male        No  \n2         1  Laboratory Technician                3    Male       Yes  \n3         1     Research Scientist                3  Female        No  \n4         1  Laboratory Technician                3    Male        No  "
                    },
                    "execution_count": 48,
                    "metadata": {},
                    "output_type": "execute_result"
                }
            ],
            "source": "data_selected.head()"
        },
        {
            "cell_type": "code",
            "execution_count": 49,
            "metadata": {},
            "outputs": [
                {
                    "data": {
                        "text/plain": "14"
                    },
                    "execution_count": 49,
                    "metadata": {},
                    "output_type": "execute_result"
                }
            ],
            "source": "len(data_selected.columns)"
        },
        {
            "cell_type": "code",
            "execution_count": 50,
            "metadata": {},
            "outputs": [
                {
                    "data": {
                        "text/plain": "(1470, 14)"
                    },
                    "execution_count": 50,
                    "metadata": {},
                    "output_type": "execute_result"
                }
            ],
            "source": "data_selected.shape"
        },
        {
            "cell_type": "code",
            "execution_count": 51,
            "metadata": {},
            "outputs": [],
            "source": "#encoding labels\ndata_selected.loc[data_selected.Attrition == 'No', 'Attrition'] = 0\ndata_selected.loc[data_selected.Attrition == 'Yes', 'Attrition'] = 1"
        },
        {
            "cell_type": "code",
            "execution_count": 52,
            "metadata": {},
            "outputs": [
                {
                    "data": {
                        "text/html": "<div>\n<style scoped>\n    .dataframe tbody tr th:only-of-type {\n        vertical-align: middle;\n    }\n\n    .dataframe tbody tr th {\n        vertical-align: top;\n    }\n\n    .dataframe thead th {\n        text-align: right;\n    }\n</style>\n<table border=\"1\" class=\"dataframe\">\n  <thead>\n    <tr style=\"text-align: right;\">\n      <th></th>\n      <th>MonthlyIncome</th>\n      <th>TotalWorkingYears</th>\n      <th>YearsAtCompany</th>\n      <th>YearsInCurrentRole</th>\n      <th>YearsWithCurrManager</th>\n      <th>Age</th>\n      <th>OverTime</th>\n      <th>DistanceFromHome</th>\n      <th>StockOptionLevel</th>\n      <th>JobLevel</th>\n      <th>JobRole</th>\n      <th>WorkLifeBalance</th>\n      <th>Gender</th>\n      <th>Attrition</th>\n    </tr>\n  </thead>\n  <tbody>\n    <tr>\n      <th>0</th>\n      <td>5993</td>\n      <td>8</td>\n      <td>6</td>\n      <td>4</td>\n      <td>5</td>\n      <td>41</td>\n      <td>Yes</td>\n      <td>1</td>\n      <td>0</td>\n      <td>2</td>\n      <td>Sales Executive</td>\n      <td>1</td>\n      <td>Female</td>\n      <td>1</td>\n    </tr>\n    <tr>\n      <th>1</th>\n      <td>5130</td>\n      <td>10</td>\n      <td>10</td>\n      <td>7</td>\n      <td>7</td>\n      <td>49</td>\n      <td>No</td>\n      <td>8</td>\n      <td>1</td>\n      <td>2</td>\n      <td>Research Scientist</td>\n      <td>3</td>\n      <td>Male</td>\n      <td>0</td>\n    </tr>\n    <tr>\n      <th>2</th>\n      <td>2090</td>\n      <td>7</td>\n      <td>0</td>\n      <td>0</td>\n      <td>0</td>\n      <td>37</td>\n      <td>Yes</td>\n      <td>2</td>\n      <td>0</td>\n      <td>1</td>\n      <td>Laboratory Technician</td>\n      <td>3</td>\n      <td>Male</td>\n      <td>1</td>\n    </tr>\n    <tr>\n      <th>3</th>\n      <td>2909</td>\n      <td>8</td>\n      <td>8</td>\n      <td>7</td>\n      <td>0</td>\n      <td>33</td>\n      <td>Yes</td>\n      <td>3</td>\n      <td>0</td>\n      <td>1</td>\n      <td>Research Scientist</td>\n      <td>3</td>\n      <td>Female</td>\n      <td>0</td>\n    </tr>\n    <tr>\n      <th>4</th>\n      <td>3468</td>\n      <td>6</td>\n      <td>2</td>\n      <td>2</td>\n      <td>2</td>\n      <td>27</td>\n      <td>No</td>\n      <td>2</td>\n      <td>1</td>\n      <td>1</td>\n      <td>Laboratory Technician</td>\n      <td>3</td>\n      <td>Male</td>\n      <td>0</td>\n    </tr>\n  </tbody>\n</table>\n</div>",
                        "text/plain": "   MonthlyIncome  TotalWorkingYears  YearsAtCompany  YearsInCurrentRole  \\\n0           5993                  8               6                   4   \n1           5130                 10              10                   7   \n2           2090                  7               0                   0   \n3           2909                  8               8                   7   \n4           3468                  6               2                   2   \n\n   YearsWithCurrManager  Age OverTime  DistanceFromHome  StockOptionLevel  \\\n0                     5   41      Yes                 1                 0   \n1                     7   49       No                 8                 1   \n2                     0   37      Yes                 2                 0   \n3                     0   33      Yes                 3                 0   \n4                     2   27       No                 2                 1   \n\n   JobLevel                JobRole  WorkLifeBalance  Gender  Attrition  \n0         2        Sales Executive                1  Female          1  \n1         2     Research Scientist                3    Male          0  \n2         1  Laboratory Technician                3    Male          1  \n3         1     Research Scientist                3  Female          0  \n4         1  Laboratory Technician                3    Male          0  "
                    },
                    "execution_count": 52,
                    "metadata": {},
                    "output_type": "execute_result"
                }
            ],
            "source": "data_selected.head()"
        },
        {
            "cell_type": "code",
            "execution_count": 53,
            "metadata": {},
            "outputs": [],
            "source": "input_data = data_selected.drop(['Attrition'], axis=1)\ntarget_data = data_selected[['Attrition']]"
        },
        {
            "cell_type": "code",
            "execution_count": 54,
            "metadata": {},
            "outputs": [
                {
                    "data": {
                        "text/plain": "(1470, 14)"
                    },
                    "execution_count": 54,
                    "metadata": {},
                    "output_type": "execute_result"
                }
            ],
            "source": "data_selected.shape"
        },
        {
            "cell_type": "markdown",
            "metadata": {},
            "source": "#### Get Train, Validation and test data"
        },
        {
            "cell_type": "code",
            "execution_count": 55,
            "metadata": {},
            "outputs": [
                {
                    "name": "stdout",
                    "output_type": "stream",
                    "text": "Shape of the input data is  (1269, 14)\n"
                },
                {
                    "data": {
                        "text/plain": "0    1061\n1     208\nName: Attrition, dtype: int64"
                    },
                    "execution_count": 55,
                    "metadata": {},
                    "output_type": "execute_result"
                }
            ],
            "source": "input_data = data_selected[0:1269]\nprint('Shape of the input data is ', input_data.shape)\ninput_data['Attrition'].value_counts()"
        },
        {
            "cell_type": "code",
            "execution_count": 56,
            "metadata": {},
            "outputs": [
                {
                    "name": "stdout",
                    "output_type": "stream",
                    "text": "Shape of the validation data is  (200, 14)\nShape of the validation input data is  (200, 13)\nShape of the validation target data is  (200, 1)\n"
                }
            ],
            "source": "validation_data = data_selected[1269:1469]\nprint('Shape of the validation data is ', validation_data.shape)\nvalidation_input_data = validation_data.drop(['Attrition'], axis=1)\nprint('Shape of the validation input data is ', validation_input_data.shape)\nvalidation_target_data = validation_data[['Attrition']]\nprint('Shape of the validation target data is ', validation_target_data.shape)"
        },
        {
            "cell_type": "code",
            "execution_count": 57,
            "metadata": {},
            "outputs": [
                {
                    "name": "stdout",
                    "output_type": "stream",
                    "text": "      MonthlyIncome  TotalWorkingYears  YearsAtCompany  YearsInCurrentRole  \\\n1469           4404                  6               4                   3   \n\n      YearsWithCurrManager  Age OverTime  DistanceFromHome  StockOptionLevel  \\\n1469                     2   34       No                 8                 0   \n\n      JobLevel                JobRole  WorkLifeBalance Gender  Attrition  \n1469         2  Laboratory Technician                4   Male          0  \nShape of the test data is  (1, 14)\nShape of the test input data is  (1, 13)\nShape of the test target data is  (1, 1)\n"
                }
            ],
            "source": "#Using 1 sample as test data to check deployment\ntest_data = data_selected[1469:]\nprint(test_data)\nprint('Shape of the test data is ', test_data.shape)\ntest_input_data = test_data.drop(['Attrition'], axis=1)\nprint('Shape of the test input data is ', test_input_data.shape)\ntest_target_data = test_data[['Attrition']]\nprint('Shape of the test target data is ', test_target_data.shape)"
        },
        {
            "cell_type": "code",
            "execution_count": 58,
            "metadata": {},
            "outputs": [
                {
                    "name": "stdout",
                    "output_type": "stream",
                    "text": "--2019-11-11 05:21:51--  https://github.com/IBM/employee-attrition-aif360/raw/master/data/Pipeline_LabelEncoder-0.1.zip\nResolving github.com (github.com)... 140.82.113.3\nConnecting to github.com (github.com)|140.82.113.3|:443... connected.\nHTTP request sent, awaiting response... 302 Found\nLocation: https://raw.githubusercontent.com/IBM/employee-attrition-aif360/master/data/Pipeline_LabelEncoder-0.1.zip [following]\n--2019-11-11 05:21:51--  https://raw.githubusercontent.com/IBM/employee-attrition-aif360/master/data/Pipeline_LabelEncoder-0.1.zip\nResolving raw.githubusercontent.com (raw.githubusercontent.com)... 199.232.8.133\nConnecting to raw.githubusercontent.com (raw.githubusercontent.com)|199.232.8.133|:443... connected.\nHTTP request sent, awaiting response... 200 OK\nLength: 3140 (3.1K) [application/zip]\nSaving to: \u2018Pipeline_LabelEncoder-0.1.zip\u2019\n\n100%[======================================>] 3,140       --.-K/s   in 0s      \n\n2019-11-11 05:21:51 (27.0 MB/s) - \u2018Pipeline_LabelEncoder-0.1.zip\u2019 saved [3140/3140]\n\n"
                }
            ],
            "source": "!wget https://github.com/IBM/employee-attrition-aif360/raw/master/data/Pipeline_LabelEncoder-0.1.zip --output-document=Pipeline_LabelEncoder-0.1.zip"
        },
        {
            "cell_type": "code",
            "execution_count": 59,
            "metadata": {},
            "outputs": [
                {
                    "name": "stdout",
                    "output_type": "stream",
                    "text": "emp_attrition.csv  Pipeline_LabelEncoder-0.1.zip\r\n"
                }
            ],
            "source": "!ls"
        },
        {
            "cell_type": "code",
            "execution_count": 60,
            "metadata": {},
            "outputs": [
                {
                    "name": "stdout",
                    "output_type": "stream",
                    "text": "Processing ./Pipeline_LabelEncoder-0.1.zip\nBuilding wheels for collected packages: Pipeline-LabelEncoder\n  Building wheel for Pipeline-LabelEncoder (setup.py) ... \u001b[?25ldone\n\u001b[?25h  Stored in directory: /home/dsxuser/.cache/pip/wheels/75/c4/ed/86150174d5d76ace46c247466c24373404571c2e8ca0d19029\nSuccessfully built Pipeline-LabelEncoder\nInstalling collected packages: Pipeline-LabelEncoder\nSuccessfully installed Pipeline-LabelEncoder-0.1\n"
                }
            ],
            "source": "!pip install Pipeline_LabelEncoder-0.1.zip"
        },
        {
            "cell_type": "code",
            "execution_count": 61,
            "metadata": {},
            "outputs": [
                {
                    "name": "stdout",
                    "output_type": "stream",
                    "text": "Inside fit transform\nFeature OverTime\nmapping {'No': 0, 'Yes': 1}\nFeature JobRole\nmapping {'Healthcare Representative': 0, 'Human Resources': 1, 'Laboratory Technician': 2, 'Manager': 3, 'Manufacturing Director': 4, 'Research Director': 5, 'Research Scientist': 6, 'Sales Executive': 7, 'Sales Representative': 8}\nFeature Gender\nmapping {'Female': 0, 'Male': 1}\n-------------------------\nvalidation data encoding\nFeature OverTime\nmapping {'No': 0, 'Yes': 1}\nFeature JobRole\nmapping {'Healthcare Representative': 0, 'Human Resources': 1, 'Laboratory Technician': 2, 'Manager': 3, 'Manufacturing Director': 4, 'Research Director': 5, 'Research Scientist': 6, 'Sales Executive': 7, 'Sales Representative': 8}\nFeature Gender\nmapping {'Female': 0, 'Male': 1}\n"
                }
            ],
            "source": "#encoding training and validation data. \n#custom label encoder library\nfrom Pipeline_LabelEncoder.sklearn_label_encoder import PipelineLabelEncoder\npreprocessed_data = PipelineLabelEncoder(columns = ['OverTime', 'JobRole', 'Gender']).fit_transform(input_data)\nprint('-------------------------')\nprint('validation data encoding')\nvalidation_enc_data = PipelineLabelEncoder(columns = ['OverTime', 'JobRole', 'Gender']).transform(validation_input_data)"
        },
        {
            "cell_type": "markdown",
            "metadata": {},
            "source": "## 4.3 Bias Mitigation"
        },
        {
            "cell_type": "markdown",
            "metadata": {},
            "source": "The AI Fairness 360 toolkit is an open-source library to help detect and remove bias in machine learning models. The AI Fairness 360 Python package includes a comprehensive set of metrics for datasets and models to test for biases, explanations for these metrics, and algorithms to mitigate bias in datasets and models.\n\n- Github: https://github.com/IBM/AIF360\n- Interative experience: http://aif360.mybluemix.net/"
        },
        {
            "cell_type": "markdown",
            "metadata": {},
            "source": "#### Convert dataset into a format that can be used by bias mitigation algorithms\n\nWe suspect that there is a bias present in the gender attribute. \n\nIntution: Female employees are given favourable outcome (no attrition) compared to male employees. \n\n\nIdentify the following in the dataset:\n1. Favorable label\n2. Unfavorable label\n3. Privileged group\n4. Unprivileged group"
        },
        {
            "cell_type": "code",
            "execution_count": 62,
            "metadata": {},
            "outputs": [],
            "source": "# Gender is the protected attribute. \n#label 0: Employee will stay \n#label 1: Employee will leave\n# Gender 0: Female and Gender 1: Male\nprivileged_groups = [{'Gender': 0}]\nunprivileged_groups = [{'Gender': 1}]\nfavorable_label = 0 \nunfavorable_label = 1"
        },
        {
            "cell_type": "code",
            "execution_count": 63,
            "metadata": {},
            "outputs": [],
            "source": "#Create binary label dataset that can be used by bias mitigation algorithms\nBM_dataset = BinaryLabelDataset(favorable_label=favorable_label,\n                                unfavorable_label=unfavorable_label,\n                                df=preprocessed_data,\n                                label_names=['Attrition'],\n                                protected_attribute_names=['Gender'],\n                                unprivileged_protected_attributes=unprivileged_groups)"
        },
        {
            "cell_type": "code",
            "execution_count": 64,
            "metadata": {},
            "outputs": [
                {
                    "data": {
                        "text/markdown": "#### Training Data Details",
                        "text/plain": "<IPython.core.display.Markdown object>"
                    },
                    "metadata": {},
                    "output_type": "display_data"
                },
                {
                    "name": "stdout",
                    "output_type": "stream",
                    "text": "shape of the training dataset (1269, 13)\nTraining data favorable label 0.0\nTraining data unfavorable label 1.0\nTraining data protected attribute ['Gender']\nTraining data privileged protected attribute (1:Male and 0:Female) [array([1.])]\nTraining data unprivileged protected attribute (1:Male and 0:Female) [array([0.])]\n"
                }
            ],
            "source": "display(Markdown(\"#### Training Data Details\"))\nprint(\"shape of the training dataset\", BM_dataset.features.shape)\nprint(\"Training data favorable label\", BM_dataset.favorable_label)\nprint(\"Training data unfavorable label\", BM_dataset.unfavorable_label)\nprint(\"Training data protected attribute\", BM_dataset.protected_attribute_names)\nprint(\"Training data privileged protected attribute (1:Male and 0:Female)\", \n      BM_dataset.privileged_protected_attributes)\nprint(\"Training data unprivileged protected attribute (1:Male and 0:Female)\",\n      BM_dataset.unprivileged_protected_attributes)"
        },
        {
            "cell_type": "code",
            "execution_count": 65,
            "metadata": {},
            "outputs": [
                {
                    "name": "stdout",
                    "output_type": "stream",
                    "text": "Difference in mean outcomes between unprivileged and privileged groups = -0.013894\n"
                }
            ],
            "source": "metric_orig_train = BinaryLabelDatasetMetric(BM_dataset, \n                                             unprivileged_groups=unprivileged_groups,\n                                             privileged_groups=privileged_groups)\nprint(\"Difference in mean outcomes between unprivileged and privileged groups = %f\" % \n      metric_orig_train.mean_difference())"
        },
        {
            "cell_type": "markdown",
            "metadata": {},
            "source": "Negative difference indicate the presence of bias. Refer above link to know more about the working of the algorithm."
        },
        {
            "cell_type": "code",
            "execution_count": 66,
            "metadata": {},
            "outputs": [],
            "source": "RW = Reweighing(unprivileged_groups=unprivileged_groups,\n               privileged_groups=privileged_groups)\nRW.fit(BM_dataset)\ntrain_tf_dataset = RW.transform(BM_dataset)"
        },
        {
            "cell_type": "code",
            "execution_count": 67,
            "metadata": {},
            "outputs": [
                {
                    "data": {
                        "text/plain": "array([[1.],\n       [0.],\n       [1.],\n       ...,\n       [0.],\n       [0.],\n       [0.]])"
                    },
                    "execution_count": 67,
                    "metadata": {},
                    "output_type": "execute_result"
                }
            ],
            "source": "train_tf_dataset.labels"
        },
        {
            "cell_type": "code",
            "execution_count": 68,
            "metadata": {},
            "outputs": [
                {
                    "name": "stdout",
                    "output_type": "stream",
                    "text": "Difference in mean outcomes between unprivileged and privileged groups = 0.000000\n"
                }
            ],
            "source": "metric_orig_train = BinaryLabelDatasetMetric(train_tf_dataset, \n                                             unprivileged_groups=unprivileged_groups,\n                                             privileged_groups=privileged_groups)\n\nprint(\"Difference in mean outcomes between unprivileged and privileged groups = %f\"\n      % metric_orig_train.mean_difference())"
        },
        {
            "cell_type": "markdown",
            "metadata": {},
            "source": "## 4.4 Algorithm "
        },
        {
            "cell_type": "markdown",
            "metadata": {},
            "source": "This is a highly unbalanced data. Class 0 covers 83.88% of the data whereas class 1 covers 16.12% of the data. Following are the few ways to handle unbalance data.\n\n1. Data Level Approach\n   - Random under-sampling\n   - Cluster based over sampling\n   - Synthetic Minority Over-sampling Technique\n   - Modified Synthetic Minority Over-sampling Technique\n2. Algorithm Ensemble\n   - Bagging\n   - Boosting\n     - Adaptive Boosting (Ada-boost)\n     - Gradient Tree Boosting\n     - XGBoost\n     \n     \nIn our model, Ada-boost ensemble technique is used."
        },
        {
            "cell_type": "markdown",
            "metadata": {},
            "source": "#### Adaboost Short Description\n\nMany weak and inaccurate classifiers are combined to produce a highly accurate prediction. The classifer is serially trained. Samples that are misclassified in previous round are given more focus. Initially weight is equal for all the samples. Weight of misclassified instances are increased each time and weight of correctly classified instances are decreased, this will let more misclassfied sampled to be selected for the next round. After each classifier is trained, the weight is assigned to the classifier as well based on accuracy. More accurate classifier is assigned higher weight so that it will have more impact in final outcome."
        },
        {
            "cell_type": "code",
            "execution_count": 69,
            "metadata": {},
            "outputs": [],
            "source": "#n_estimators is the maximum number of estimators at which the boosting is terminated. Default is 50 and this can be tuned as well.\ncls = AdaBoostClassifier(n_estimators=100)"
        },
        {
            "cell_type": "markdown",
            "metadata": {},
            "source": "Classification model can be evaluated using different metrics. Some of the important metrics are:\n    1. Confusion matrix\n    2. Accuracy\n    3. Precision\n    4. Recall\n    5. Specificity\n    6. F1-Score"
        },
        {
            "cell_type": "code",
            "execution_count": 70,
            "metadata": {},
            "outputs": [
                {
                    "name": "stdout",
                    "output_type": "stream",
                    "text": "--------------------------------------------------------------------------------------------\n------    Training Results for 100 estimators   ---------\nAccuracy for 100 estimators is 0.8794326241134752\n              precision    recall  f1-score   support\n\n         0.0       0.89      0.97      0.93      1061\n         1.0       0.75      0.39      0.52       208\n\n   micro avg       0.88      0.88      0.88      1269\n   macro avg       0.82      0.68      0.72      1269\nweighted avg       0.87      0.88      0.86      1269\n\n------    Test Results for 100 estimators   ---------\nAccuracy for 100 estimators is 0.89\n              precision    recall  f1-score   support\n\n           0       0.92      0.95      0.94       171\n           1       0.65      0.52      0.58        29\n\n   micro avg       0.89      0.89      0.89       200\n   macro avg       0.79      0.74      0.76       200\nweighted avg       0.88      0.89      0.88       200\n\n--------------------------------------------------------------------------------------------\n--------------------------------------------------------------------------------------------\n------    Training Results for 150 estimators   ---------\nAccuracy for 150 estimators is 0.8833727344365643\n              precision    recall  f1-score   support\n\n         0.0       0.90      0.97      0.93      1061\n         1.0       0.76      0.42      0.54       208\n\n   micro avg       0.88      0.88      0.88      1269\n   macro avg       0.83      0.70      0.74      1269\nweighted avg       0.87      0.88      0.87      1269\n\n------    Test Results for 150 estimators   ---------\nAccuracy for 150 estimators is 0.875\n              precision    recall  f1-score   support\n\n           0       0.92      0.94      0.93       171\n           1       0.58      0.52      0.55        29\n\n   micro avg       0.88      0.88      0.88       200\n   macro avg       0.75      0.73      0.74       200\nweighted avg       0.87      0.88      0.87       200\n\n--------------------------------------------------------------------------------------------\n--------------------------------------------------------------------------------------------\n------    Training Results for 200 estimators   ---------\nAccuracy for 200 estimators is 0.8794326241134752\n              precision    recall  f1-score   support\n\n         0.0       0.89      0.97      0.93      1061\n         1.0       0.73      0.42      0.53       208\n\n   micro avg       0.88      0.88      0.88      1269\n   macro avg       0.81      0.69      0.73      1269\nweighted avg       0.87      0.88      0.87      1269\n\n------    Test Results for 200 estimators   ---------\nAccuracy for 200 estimators is 0.885\n              precision    recall  f1-score   support\n\n           0       0.92      0.95      0.93       171\n           1       0.62      0.52      0.57        29\n\n   micro avg       0.89      0.89      0.89       200\n   macro avg       0.77      0.73      0.75       200\nweighted avg       0.88      0.89      0.88       200\n\n--------------------------------------------------------------------------------------------\n--------------------------------------------------------------------------------------------\n------    Training Results for 250 estimators   ---------\nAccuracy for 250 estimators is 0.880220646178093\n              precision    recall  f1-score   support\n\n         0.0       0.90      0.97      0.93      1061\n         1.0       0.73      0.43      0.54       208\n\n   micro avg       0.88      0.88      0.88      1269\n   macro avg       0.81      0.70      0.74      1269\nweighted avg       0.87      0.88      0.87      1269\n\n------    Test Results for 250 estimators   ---------\nAccuracy for 250 estimators is 0.87\n              precision    recall  f1-score   support\n\n           0       0.92      0.93      0.92       171\n           1       0.56      0.52      0.54        29\n\n   micro avg       0.87      0.87      0.87       200\n   macro avg       0.74      0.72      0.73       200\nweighted avg       0.87      0.87      0.87       200\n\n--------------------------------------------------------------------------------------------\n--------------------------------------------------------------------------------------------\n------    Training Results for 300 estimators   ---------\nAccuracy for 300 estimators is 0.8833727344365643\n              precision    recall  f1-score   support\n\n         0.0       0.90      0.97      0.93      1061\n         1.0       0.74      0.45      0.56       208\n\n   micro avg       0.88      0.88      0.88      1269\n   macro avg       0.82      0.71      0.74      1269\nweighted avg       0.87      0.88      0.87      1269\n\n------    Test Results for 300 estimators   ---------\nAccuracy for 300 estimators is 0.87\n              precision    recall  f1-score   support\n\n           0       0.92      0.93      0.92       171\n           1       0.56      0.52      0.54        29\n\n   micro avg       0.87      0.87      0.87       200\n   macro avg       0.74      0.72      0.73       200\nweighted avg       0.87      0.87      0.87       200\n\n--------------------------------------------------------------------------------------------\n--------------------------------------------------------------------------------------------\n------    Training Results for 400 estimators   ---------\nAccuracy for 400 estimators is 0.8896769109535066\n              precision    recall  f1-score   support\n\n         0.0       0.91      0.97      0.94      1061\n         1.0       0.76      0.48      0.59       208\n\n   micro avg       0.89      0.89      0.89      1269\n   macro avg       0.83      0.73      0.76      1269\nweighted avg       0.88      0.89      0.88      1269\n\n------    Test Results for 400 estimators   ---------\nAccuracy for 400 estimators is 0.85\n              precision    recall  f1-score   support\n\n           0       0.91      0.92      0.91       171\n           1       0.48      0.45      0.46        29\n\n   micro avg       0.85      0.85      0.85       200\n   macro avg       0.69      0.68      0.69       200\nweighted avg       0.85      0.85      0.85       200\n\n--------------------------------------------------------------------------------------------\n--------------------------------------------------------------------------------------------\n------    Training Results for 500 estimators   ---------\nAccuracy for 500 estimators is 0.8936170212765957\n              precision    recall  f1-score   support\n\n         0.0       0.91      0.97      0.94      1061\n         1.0       0.77      0.50      0.61       208\n\n   micro avg       0.89      0.89      0.89      1269\n   macro avg       0.84      0.74      0.77      1269\nweighted avg       0.89      0.89      0.88      1269\n\n------    Test Results for 500 estimators   ---------\nAccuracy for 500 estimators is 0.85\n              precision    recall  f1-score   support\n\n           0       0.91      0.91      0.91       171\n           1       0.48      0.48      0.48        29\n\n   micro avg       0.85      0.85      0.85       200\n   macro avg       0.70      0.70      0.70       200\nweighted avg       0.85      0.85      0.85       200\n\n--------------------------------------------------------------------------------------------\n--------------------------------------------------------------------------------------------\n------    Training Results for 700 estimators   ---------\nAccuracy for 700 estimators is 0.900709219858156\n              precision    recall  f1-score   support\n\n         0.0       0.91      0.97      0.94      1061\n         1.0       0.80      0.53      0.64       208\n\n   micro avg       0.90      0.90      0.90      1269\n   macro avg       0.86      0.75      0.79      1269\nweighted avg       0.89      0.90      0.89      1269\n\n------    Test Results for 700 estimators   ---------\nAccuracy for 700 estimators is 0.86\n              precision    recall  f1-score   support\n\n           0       0.92      0.92      0.92       171\n           1       0.52      0.52      0.52        29\n\n   micro avg       0.86      0.86      0.86       200\n   macro avg       0.72      0.72      0.72       200\nweighted avg       0.86      0.86      0.86       200\n\n--------------------------------------------------------------------------------------------\n--------------------------------------------------------------------------------------------\n------    Training Results for 1000 estimators   ---------\nAccuracy for 1000 estimators is 0.9101654846335697\n              precision    recall  f1-score   support\n\n         0.0       0.92      0.98      0.95      1061\n         1.0       0.82      0.58      0.68       208\n\n   micro avg       0.91      0.91      0.91      1269\n   macro avg       0.87      0.78      0.81      1269\nweighted avg       0.91      0.91      0.90      1269\n\n------    Test Results for 1000 estimators   ---------\nAccuracy for 1000 estimators is 0.855\n              precision    recall  f1-score   support\n\n           0       0.92      0.91      0.91       171\n           1       0.50      0.55      0.52        29\n\n   micro avg       0.85      0.85      0.85       200\n   macro avg       0.71      0.73      0.72       200\nweighted avg       0.86      0.85      0.86       200\n\n--------------------------------------------------------------------------------------------\n"
                }
            ],
            "source": "#finding best estimator\n#tune other parameters for better accuracy\nestimator = [100, 150, 200, 250, 300, 400, 500, 700, 1000]\nfor i in estimator:\n    cls = AdaBoostClassifier(n_estimators=i)\n    cls.fit(train_tf_dataset.features, train_tf_dataset.labels,sample_weight=train_tf_dataset.instance_weights)\n    print('--------------------------------------------------------------------------------------------')\n    print('------    Training Results for {} estimators   ---------'.format(i))\n    predicted_output = cls.predict(train_tf_dataset.features)\n    accuracy = metrics.accuracy_score(train_tf_dataset.labels, predicted_output)\n    print('Accuracy for {} estimators is {}'.format(i, accuracy))\n    print(classification_report(train_tf_dataset.labels, predicted_output))\n    print('------    Test Results for {} estimators   ---------'.format(i))\n    predicted_output = cls.predict(validation_enc_data)\n    accuracy = metrics.accuracy_score(validation_target_data, predicted_output)\n    print('Accuracy for {} estimators is {}'.format(i, accuracy))\n    print(classification_report(validation_target_data, predicted_output))\n    print('--------------------------------------------------------------------------------------------')"
        },
        {
            "cell_type": "code",
            "execution_count": 71,
            "metadata": {},
            "outputs": [],
            "source": "#Choose the best estimator value from above and replace the 'num_of_estimators' with the value.\nnum_of_estimators = 100\ncls = AdaBoostClassifier(n_estimators=num_of_estimators)\ncls.fit(train_tf_dataset.features, train_tf_dataset.labels,sample_weight=train_tf_dataset.instance_weights)\n#Creating model pipeline\ntest_pp = PipelineLabelEncoder(columns = ['OverTime', 'JobRole', 'Gender'])\nmodel_pipeline = Pipeline(steps=[('preprocessor', test_pp), \n                       ('classifier', cls)])"
        },
        {
            "cell_type": "markdown",
            "metadata": {},
            "source": "For better accuracy,\n1. Tune hyper-parameters.\n2. Try above mentioned methods for handling unbalanced data."
        },
        {
            "cell_type": "code",
            "execution_count": 72,
            "metadata": {},
            "outputs": [
                {
                    "name": "stdout",
                    "output_type": "stream",
                    "text": "Feature OverTime\nmapping {'No': 0}\nFeature JobRole\nmapping {'Laboratory Technician': 0}\nFeature Gender\nmapping {'Male': 0}\n"
                },
                {
                    "data": {
                        "text/plain": "array([0.])"
                    },
                    "execution_count": 72,
                    "metadata": {},
                    "output_type": "execute_result"
                }
            ],
            "source": "model_pipeline.predict(test_input_data)"
        },
        {
            "cell_type": "markdown",
            "metadata": {},
            "source": "# 5. Inference"
        },
        {
            "cell_type": "markdown",
            "metadata": {},
            "source": "1. Factors contributing more to the employee attrition are MonthlyIncome, TotalWorkingYears, YearsAtCompany, YearsInCurrentRole, \n   YearsWithCurrManager, Age, OverTime, DistanceFromHome, StockOptionLevel, JobLevel, JobRole, WorkLifeBalance, Gender.\n2. Top three roles facing attrition\n   - 26% of employees who are likely to quit belong to Laboratory Technician group.\n   - 24% of employees belong to Sales Executive group.\n   - 19% of employees belong to Research Scientist group.\n   (other inferences are mentioned below each graph)\n3. The model developed will be able to predict whether an employee will stay or not. This will help company to know the status of an     \n   employee in advance and take necessary actions to prevent loss that will incur."
        },
        {
            "cell_type": "markdown",
            "metadata": {},
            "source": "# 6. Deployment "
        },
        {
            "cell_type": "markdown",
            "metadata": {},
            "source": "Authenticate to the Watson Machine Learning service. Enter the credentials needed. Credentials can be retrieved from the 'Service Credentials' tab of the service instance instance"
        },
        {
            "cell_type": "markdown",
            "metadata": {},
            "source": "<img src=\"https://github.com/IBM/employee-attrition-aif360/raw/master/doc/source/images/deploy.png\" width=\"400\" />"
        },
        {
            "cell_type": "markdown",
            "metadata": {},
            "source": "  \n  \nReplace the information in the following cell with your Watson Machine Learning (WML) credentials.\n\nYou can find these credentials in your WML instance dashboard under the Service credentials tab.\n\n```\nwml_credentials = {\n    \"username\": \"------------\",\n    \"password\": \"------------\",\n    \"instance_id\": \"------------\",\n    \"url\": \"------------\"\n}\n```"
        },
        {
            "cell_type": "code",
            "execution_count": 73,
            "metadata": {},
            "outputs": [],
            "source": "# The code was removed by Watson Studio for sharing."
        },
        {
            "cell_type": "code",
            "execution_count": 75,
            "metadata": {},
            "outputs": [],
            "source": "#Create WML API Client\nclient = WatsonMachineLearningAPIClient(wml_credentials)"
        },
        {
            "cell_type": "code",
            "execution_count": 76,
            "metadata": {},
            "outputs": [
                {
                    "name": "stdout",
                    "output_type": "stream",
                    "text": "Custom Library UID is: b29e36d1-be12-4232-ab92-d7f2c313e999\n"
                }
            ],
            "source": "#Create metadata that can be used for creating and saving the custom library. Here, it is for pipeline label encoder.\n#Give the path of the custom package (zip). \nlibrary_metadata = {\n        client.runtimes.LibraryMetaNames.NAME: \"PipelineLabelEncoder-Custom\",\n        client.runtimes.LibraryMetaNames.DESCRIPTION: \"label_encoder_sklearn\",\n        client.runtimes.LibraryMetaNames.FILEPATH: \"Pipeline_LabelEncoder-0.1.zip\",\n        client.runtimes.LibraryMetaNames.VERSION: \"1.0\",\n        client.runtimes.LibraryMetaNames.PLATFORM: {\"name\": \"python\", \"versions\": [\"3.5\"]}\n    }\n#Store library\ncustom_library_details = client.runtimes.store_library(library_metadata)\n#Retrieve library uid from the details\ncustom_library_uid = client.runtimes.get_library_uid(custom_library_details)\nprint(\"Custom Library UID is: \" + custom_library_uid)"
        },
        {
            "cell_type": "code",
            "execution_count": 77,
            "metadata": {},
            "outputs": [],
            "source": "#Define metadata required for creating runtime resource. Yse custom library uid obtained from above step to bind the custom library.\n#Runtime resource that is being defined here will be used for configuring online deployment runtime environment\nruntimes_meta = {\n    client.runtimes.ConfigurationMetaNames.NAME: \"Employee_Attrition\", \n    client.runtimes.ConfigurationMetaNames.DESCRIPTION: \"Data Science Life Cycle explained through employee attrition problem\", \n    client.runtimes.ConfigurationMetaNames.PLATFORM: { \"name\": \"python\", \"version\": \"3.5\" }, \n    client.runtimes.ConfigurationMetaNames.LIBRARIES_UIDS: [custom_library_uid]\n}"
        },
        {
            "cell_type": "code",
            "execution_count": 78,
            "metadata": {},
            "outputs": [
                {
                    "data": {
                        "text/plain": "{'metadata': {'guid': 'f465db9e-eaf8-44ab-a4df-9b976ee90f2b',\n  'url': 'https://us-south.ml.cloud.ibm.com/v4/runtimes/f465db9e-eaf8-44ab-a4df-9b976ee90f2b',\n  'created_at': '2019-11-11T05:35:45.353Z'},\n 'entity': {'name': 'Employee_Attrition',\n  'description': 'Data Science Life Cycle explained through employee attrition problem',\n  'custom_libraries': [{'name': 'PipelineLabelEncoder-Custom',\n    'version': '1.0',\n    'url': 'https://us-south.ml.cloud.ibm.com/v4/libraries/b29e36d1-be12-4232-ab92-d7f2c313e999'}],\n  'content_url': 'https://us-south.ml.cloud.ibm.com/v4/runtimes/f465db9e-eaf8-44ab-a4df-9b976ee90f2b/content',\n  'platform': {'name': 'python', 'version': '3.5'}}}"
                    },
                    "execution_count": 78,
                    "metadata": {},
                    "output_type": "execute_result"
                }
            ],
            "source": "#create runtime resource\nruntime_resource_details = client.runtimes.store(runtimes_meta)\nruntime_resource_details"
        },
        {
            "cell_type": "code",
            "execution_count": 79,
            "metadata": {},
            "outputs": [
                {
                    "name": "stdout",
                    "output_type": "stream",
                    "text": "Runtimes resource URL: https://us-south.ml.cloud.ibm.com/v4/runtimes/f465db9e-eaf8-44ab-a4df-9b976ee90f2b\nRuntimes resource UID: f465db9e-eaf8-44ab-a4df-9b976ee90f2b\n"
                }
            ],
            "source": "#From the runtime resource retrieve url and uid \nruntime_url = client.runtimes.get_url(runtime_resource_details)\nprint(\"Runtimes resource URL: \" + runtime_url)\nruntime_uid = client.runtimes.get_uid(runtime_resource_details)\nprint(\"Runtimes resource UID: \" + runtime_uid)"
        },
        {
            "cell_type": "code",
            "execution_count": 80,
            "metadata": {},
            "outputs": [],
            "source": "#client.repository is used for storing and managing the model, definitions, runtime requirements details in WML repository\n#This metadata associates model with runtime resources\nmodel_property = {client.repository.ModelMetaNames.NAME: \"Employee attrition Model\",\n               client.repository.ModelMetaNames.RUNTIME_UID: runtime_uid\n              }\npublished_model = client.repository.store_model(model=model_pipeline, meta_props=model_property)"
        },
        {
            "cell_type": "code",
            "execution_count": 81,
            "metadata": {},
            "outputs": [],
            "source": "#get uid for the stored model\npublished_model_uid = client.repository.get_model_uid(published_model)\nmodel_details = client.repository.get_details(published_model_uid)"
        },
        {
            "cell_type": "code",
            "execution_count": 82,
            "metadata": {},
            "outputs": [
                {
                    "name": "stdout",
                    "output_type": "stream",
                    "text": "\n\n#######################################################################################\n\nSynchronous deployment creation for uid: 'edead4f9-bbac-4d55-9586-54eec94b9087' started\n\n#######################################################################################\n\n\nINITIALIZING\nDEPLOY_IN_PROGRESS.\nDEPLOY_SUCCESS\n\n\n------------------------------------------------------------------------------------------------\nSuccessfully finished deployment creation, deployment_uid='f68b9b53-c879-4883-a92e-41df5fbd9814'\n------------------------------------------------------------------------------------------------\n\n\n"
                }
            ],
            "source": "#create deployment\ncreated_deployment = client.deployments.create(published_model_uid, name=\"Emp_attrition_model\")"
        },
        {
            "cell_type": "code",
            "execution_count": 83,
            "metadata": {},
            "outputs": [
                {
                    "name": "stdout",
                    "output_type": "stream",
                    "text": "https://us-south.ml.cloud.ibm.com/v3/wml_instances/c26817cf-2df2-42df-b6a5-9ea8568f245b/deployments/f68b9b53-c879-4883-a92e-41df5fbd9814/online\n"
                }
            ],
            "source": "#get scoring end point\nscoring_endpoint = client.deployments.get_scoring_url(created_deployment)\nprint(scoring_endpoint)"
        },
        {
            "cell_type": "code",
            "execution_count": 84,
            "metadata": {},
            "outputs": [],
            "source": "#Testing deployment\nscoring_payload = {'fields': ['MonthlyIncome', 'TotalWorkingYears', 'YearsAtCompany',\n       'YearsInCurrentRole', 'YearsWithCurrManager', 'Age', 'OverTime',\n       'DistanceFromHome', 'StockOptionLevel', 'JobLevel', 'JobRole',\n       'WorkLifeBalance', 'Gender'], \n                   'values': [[4404, 6, 4, 3, 2, 34, 'No', '8', 0, 2, 'Laboratory Technician', 4, 'Male']]}"
        },
        {
            "cell_type": "code",
            "execution_count": 85,
            "metadata": {},
            "outputs": [],
            "source": "predictions = client.deployments.score(scoring_endpoint, scoring_payload)"
        },
        {
            "cell_type": "code",
            "execution_count": 86,
            "metadata": {},
            "outputs": [
                {
                    "name": "stdout",
                    "output_type": "stream",
                    "text": "prediction {\n  \"fields\": [\n    \"prediction\",\n    \"probability\"\n  ],\n  \"values\": [\n    [\n      0.0,\n      [\n        0.5088086822340679,\n        0.491191317765932\n      ]\n    ]\n  ]\n}\n"
                }
            ],
            "source": "print('prediction',json.dumps(predictions, indent=2))"
        },
        {
            "cell_type": "markdown",
            "metadata": {},
            "source": "**Interpreting the results:**\n\nIn the \"values\" list, the first value indicates the predicted result - \n    \n    0 represents negative employee attrition (employee will stay)\n    \n    1 represents positive employee attrition (employee will quit)\n\n\nNext in the list will be the probablities for each of the results -\n    \n    The first entry (class 0) represents probability of negative employee attrition\n    \n    The second entry (class 1) represents probability of positive employee attrition\n    \n    \n**Modify the values in \"scoring_payload\" and see if you can get the prediction to change.**"
        },
        {
            "cell_type": "code",
            "execution_count": null,
            "metadata": {},
            "outputs": [],
            "source": ""
        }
    ],
    "metadata": {
        "gist": {
            "data": {
                "description": "Desktop/MAX_Demo_Files/Data_Science_Pipeline_Demo.ipynb",
                "public": false
            },
            "id": ""
        },
        "kernelspec": {
            "display_name": "Python 3.6",
            "language": "python",
            "name": "python3"
        },
        "language_info": {
            "codemirror_mode": {
                "name": "ipython",
                "version": 3
            },
            "file_extension": ".py",
            "mimetype": "text/x-python",
            "name": "python",
            "nbconvert_exporter": "python",
            "pygments_lexer": "ipython3",
            "version": "3.6.8"
        }
    },
    "nbformat": 4,
    "nbformat_minor": 2
}